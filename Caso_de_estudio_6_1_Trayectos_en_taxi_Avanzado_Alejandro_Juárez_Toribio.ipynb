{
  "cells": [
    {
      "cell_type": "markdown",
      "metadata": {
        "id": "view-in-github",
        "colab_type": "text"
      },
      "source": [
        "<a href=\"https://colab.research.google.com/github/Alejandro1848/MachineLearningPruebas/blob/main/Caso_de_estudio_6_1_Trayectos_en_taxi_Avanzado_Alejandro_Ju%C3%A1rez_Toribio.ipynb\" target=\"_parent\"><img src=\"https://colab.research.google.com/assets/colab-badge.svg\" alt=\"Open In Colab\"/></a>"
      ]
    },
    {
      "cell_type": "markdown",
      "metadata": {
        "id": "myDimS5CozKp"
      },
      "source": [
        "<h1>Índice de contenidos<span class=\"tocSkip\"></span></h1>\n",
        "<div class=\"toc\"><ul class=\"toc-item\"><li><span><a href=\"#Caso-de-estudio-6.1.-Trayectos-en-taxi-en-Nueva-York\" data-toc-modified-id=\"Caso-de-estudio-6.1.-Trayectos-en-taxi-en-Nueva-York-1\"><span class=\"toc-item-num\">1&nbsp;&nbsp;</span>Caso de estudio 6.1. Trayectos en taxi en Nueva York</a></span><ul class=\"toc-item\"><li><ul class=\"toc-item\"><li><span><a href=\"#Nota:-Si-en-algún-momento-cierra-este-notebook-tendrá-que-volver-a-ejecutar-todas-las-celdas-de-nuevo-al-abrirlo.\" data-toc-modified-id=\"Nota:-Si-en-algún-momento-cierra-este-notebook-tendrá-que-volver-a-ejecutar-todas-las-celdas-de-nuevo-al-abrirlo.-1.0.1\"><span class=\"toc-item-num\">1.0.1&nbsp;&nbsp;</span>Nota: Si en algún momento cierra este notebook tendrá que volver a ejecutar todas las celdas de nuevo al abrirlo.</a></span></li><li><span><a href=\"#Nota:-Puede-que-obtenga-diferentes-resultados-numéricos-al-ejecutar-el-notebook-en-diferentes-ocasiones.-Esto-es-normal,-simplemente-entregue-los-resultados-obtenidos.\" data-toc-modified-id=\"Nota:-Puede-que-obtenga-diferentes-resultados-numéricos-al-ejecutar-el-notebook-en-diferentes-ocasiones.-Esto-es-normal,-simplemente-entregue-los-resultados-obtenidos.-1.0.2\"><span class=\"toc-item-num\">1.0.2&nbsp;&nbsp;</span>Nota: Puede que obtenga diferentes resultados numéricos al ejecutar el notebook en diferentes ocasiones. Esto es normal, simplemente entregue los resultados obtenidos.</a></span></li></ul></li></ul></li><li><span><a href=\"#PYTHON-AVANZADO\" data-toc-modified-id=\"PYTHON-AVANZADO-2\"><span class=\"toc-item-num\">2&nbsp;&nbsp;</span>PYTHON AVANZADO</a></span></li><li><span><a href=\"#Información-de-contacto\" data-toc-modified-id=\"Información-de-contacto-3\"><span class=\"toc-item-num\">3&nbsp;&nbsp;</span>Información de contacto</a></span></li><li><span><a href=\"#Configuración\" data-toc-modified-id=\"Configuración-4\"><span class=\"toc-item-num\">4&nbsp;&nbsp;</span>Configuración</a></span></li><li><span><a href=\"#Importar\" data-toc-modified-id=\"Importar-5\"><span class=\"toc-item-num\">5&nbsp;&nbsp;</span>Importar</a></span></li><li><span><a href=\"#Datos\" data-toc-modified-id=\"Datos-6\"><span class=\"toc-item-num\">6&nbsp;&nbsp;</span>Datos</a></span></li><li><span><a href=\"#PREGUNTA-1:-ANÁLISIS-DE-DATOS\" data-toc-modified-id=\"PREGUNTA-1:-ANÁLISIS-DE-DATOS-7\"><span class=\"toc-item-num\">7&nbsp;&nbsp;</span>PREGUNTA 1: ANÁLISIS DE DATOS</a></span></li><li><span><a href=\"#Entidades-y-relaciones\" data-toc-modified-id=\"Entidades-y-relaciones-8\"><span class=\"toc-item-num\">8&nbsp;&nbsp;</span>Entidades y relaciones</a></span></li><li><span><a href=\"#Primitivas-de-transformación\" data-toc-modified-id=\"Primitivas-de-transformación-9\"><span class=\"toc-item-num\">9&nbsp;&nbsp;</span>Primitivas de transformación</a></span></li><li><span><a href=\"#Primer-modelo\" data-toc-modified-id=\"Primer-modelo-10\"><span class=\"toc-item-num\">10&nbsp;&nbsp;</span>Primer modelo</a></span></li><li><span><a href=\"#PREGUNTA-2:-PRIMER-MODELO\" data-toc-modified-id=\"PREGUNTA-2:-PRIMER-MODELO-11\"><span class=\"toc-item-num\">11&nbsp;&nbsp;</span>PREGUNTA 2: PRIMER MODELO</a></span></li><li><span><a href=\"#Más-primitivas-de-transformación\" data-toc-modified-id=\"Más-primitivas-de-transformación-12\"><span class=\"toc-item-num\">12&nbsp;&nbsp;</span>Más primitivas de transformación</a></span></li><li><span><a href=\"#PREGUNTA-3:-SEGUNDO-MODELO\" data-toc-modified-id=\"PREGUNTA-3:-SEGUNDO-MODELO-13\"><span class=\"toc-item-num\">13&nbsp;&nbsp;</span>PREGUNTA 3: SEGUNDO MODELO</a></span></li><li><span><a href=\"#Primitivas-de-agregación\" data-toc-modified-id=\"Primitivas-de-agregación-14\"><span class=\"toc-item-num\">14&nbsp;&nbsp;</span>Primitivas de agregación</a></span></li><li><span><a href=\"#Evaluación-con-datos-de-prueba\" data-toc-modified-id=\"Evaluación-con-datos-de-prueba-15\"><span class=\"toc-item-num\">15&nbsp;&nbsp;</span>Evaluación con datos de prueba</a></span></li><li><span><a href=\"#PREGUNTA-4:-PREDICCIONES-DEL-MODELO\" data-toc-modified-id=\"PREGUNTA-4:-PREDICCIONES-DEL-MODELO-16\"><span class=\"toc-item-num\">16&nbsp;&nbsp;</span>PREGUNTA 4: PREDICCIONES DEL MODELO</a></span></li><li><span><a href=\"#Importancia-de-los-atributos\" data-toc-modified-id=\"Importancia-de-los-atributos-17\"><span class=\"toc-item-num\">17&nbsp;&nbsp;</span>Importancia de los atributos</a></span></li><li><span><a href=\"#QUESTION-5:-FEATURE-IMPORTANCE\" data-toc-modified-id=\"QUESTION-5:-FEATURE-IMPORTANCE-18\"><span class=\"toc-item-num\">18&nbsp;&nbsp;</span>QUESTION 5: FEATURE IMPORTANCE</a></span></li></ul></div>"
      ]
    },
    {
      "cell_type": "markdown",
      "metadata": {
        "collapsed": true,
        "id": "-_LRlppXozKq"
      },
      "source": [
        "# Caso de estudio 6.1. Trayectos en taxi en Nueva York"
      ]
    },
    {
      "cell_type": "markdown",
      "metadata": {
        "id": "sBCdn3QtozKq"
      },
      "source": [
        "<h3 style=\"color:red;\">Nota: Si en algún momento cierra este notebook tendrá que volver a ejecutar todas las celdas de nuevo al abrirlo.</h3>\n",
        "\n",
        "<h3 style=\"color:red;\">Nota: Puede que obtenga diferentes resultados numéricos al ejecutar el notebook en diferentes ocasiones. Esto es normal, simplemente entregue los resultados obtenidos.</h3>"
      ]
    },
    {
      "cell_type": "markdown",
      "metadata": {
        "id": "BM44V80KozKr"
      },
      "source": [
        "# PYTHON AVANZADO"
      ]
    },
    {
      "cell_type": "markdown",
      "metadata": {
        "id": "S4lpYzI6ozKr"
      },
      "source": [
        "Como esta es la versión para nivel avanzado de programación, no hemos incluido tantas secciones de código. Si se le resiste alguna de las secciones del caso, siéntase libre de consultar la versión para principiantes `python_principiantes.ipynb` a modo de referencia."
      ]
    },
    {
      "cell_type": "markdown",
      "metadata": {
        "id": "17EHejSNozKs"
      },
      "source": [
        "# Información de contacto"
      ]
    },
    {
      "cell_type": "code",
      "execution_count": null,
      "metadata": {
        "id": "ZV-6h7u-ozKs"
      },
      "outputs": [],
      "source": [
        "#ALEJANDRO JUÁREZ TORIBIO\n",
        "# SU USUARIO DE MITX PRO    = alex.fis.uam@gmail.com"
      ]
    },
    {
      "cell_type": "markdown",
      "metadata": {
        "id": "FBgteQm1ozKv"
      },
      "source": [
        "# Configuración"
      ]
    },
    {
      "cell_type": "markdown",
      "metadata": {
        "id": "XoVn7Grskhxh"
      },
      "source": [
        "Ejecute (Run) estas celdas para instalar los paquetes necesarios para completar el caso de estudio. Esto podría llevar unos minutos así que sea paciente.\n",
        "\n",
        "<h1 style=\"color:red;\">ATENCIÓN: Puede que vea errores cuando ejecute las celdas siguientes. Sin embargo, no se preocupe, con tal de que pueda ejecutar la celda de importación de librerías (dos más abajo) y vea el mensaje \"Librerías importadas con éxito!\" es suficiente y puede continuar con el caso de estudio.<h1>"
      ]
    },
    {
      "cell_type": "code",
      "execution_count": 1,
      "metadata": {
        "id": "NaqRE0CUkhxn",
        "colab": {
          "base_uri": "https://localhost:8080/",
          "height": 0
        },
        "outputId": "1dcde82e-41d2-4a61-bbc6-cdff6bb13f57"
      },
      "outputs": [
        {
          "output_type": "stream",
          "name": "stdout",
          "text": [
            "\u001b[?25l     \u001b[90m━━━━━━━━━━━━━━━━━━━━━━━━━━━━━━━━━━━━━━━━\u001b[0m \u001b[32m0.0/2.1 MB\u001b[0m \u001b[31m?\u001b[0m eta \u001b[36m-:--:--\u001b[0m\r\u001b[2K     \u001b[91m━\u001b[0m\u001b[91m╸\u001b[0m\u001b[90m━━━━━━━━━━━━━━━━━━━━━━━━━━━━━━━━━━━━━━\u001b[0m \u001b[32m0.1/2.1 MB\u001b[0m \u001b[31m2.5 MB/s\u001b[0m eta \u001b[36m0:00:01\u001b[0m\r\u001b[2K     \u001b[91m━━━━━━━━━━━━\u001b[0m\u001b[90m╺\u001b[0m\u001b[90m━━━━━━━━━━━━━━━━━━━━━━━━━━━\u001b[0m \u001b[32m0.7/2.1 MB\u001b[0m \u001b[31m9.6 MB/s\u001b[0m eta \u001b[36m0:00:01\u001b[0m\r\u001b[2K     \u001b[91m━━━━━━━━━━━━\u001b[0m\u001b[90m╺\u001b[0m\u001b[90m━━━━━━━━━━━━━━━━━━━━━━━━━━━\u001b[0m \u001b[32m0.7/2.1 MB\u001b[0m \u001b[31m9.6 MB/s\u001b[0m eta \u001b[36m0:00:01\u001b[0m\r\u001b[2K     \u001b[91m━━━━━━━━━━━━━━━━━━━━━━━━━━━━━━━━━━━━━━━\u001b[0m\u001b[91m╸\u001b[0m \u001b[32m2.1/2.1 MB\u001b[0m \u001b[31m15.6 MB/s\u001b[0m eta \u001b[36m0:00:01\u001b[0m\r\u001b[2K     \u001b[90m━━━━━━━━━━━━━━━━━━━━━━━━━━━━━━━━━━━━━━━━\u001b[0m \u001b[32m2.1/2.1 MB\u001b[0m \u001b[31m14.0 MB/s\u001b[0m eta \u001b[36m0:00:00\u001b[0m\n",
            "\u001b[?25hFound existing installation: folium 0.14.0\n",
            "Uninstalling folium-0.14.0:\n",
            "  Successfully uninstalled folium-0.14.0\n",
            "\u001b[33mWARNING: Running pip as the 'root' user can result in broken permissions and conflicting behaviour with the system package manager. It is recommended to use a virtual environment instead: https://pip.pypa.io/warnings/venv\u001b[0m\u001b[33m\n",
            "\u001b[2K     \u001b[90m━━━━━━━━━━━━━━━━━━━━━━━━━━━━━━━━━━━━━━━━\u001b[0m \u001b[32m91.2/91.2 kB\u001b[0m \u001b[31m980.9 kB/s\u001b[0m eta \u001b[36m0:00:00\u001b[0m\n",
            "\u001b[?25h\u001b[31mERROR: pip's dependency resolver does not currently take into account all the packages that are installed. This behaviour is the source of the following dependency conflicts.\n",
            "geemap 0.28.2 requires folium>=0.13.0, but you have folium 0.9.1 which is incompatible.\u001b[0m\u001b[31m\n",
            "\u001b[0m\u001b[33mWARNING: Running pip as the 'root' user can result in broken permissions and conflicting behaviour with the system package manager. It is recommended to use a virtual environment instead: https://pip.pypa.io/warnings/venv\u001b[0m\u001b[33m\n",
            "\u001b[0mFound existing installation: urllib3 2.0.7\n",
            "Uninstalling urllib3-2.0.7:\n",
            "  Successfully uninstalled urllib3-2.0.7\n",
            "\u001b[33mWARNING: Running pip as the 'root' user can result in broken permissions and conflicting behaviour with the system package manager. It is recommended to use a virtual environment instead: https://pip.pypa.io/warnings/venv\u001b[0m\u001b[33m\n",
            "\u001b[2K     \u001b[90m━━━━━━━━━━━━━━━━━━━━━━━━━━━━━━━━━━━━━━━━\u001b[0m \u001b[32m125.5/125.5 kB\u001b[0m \u001b[31m2.5 MB/s\u001b[0m eta \u001b[36m0:00:00\u001b[0m\n",
            "\u001b[?25h\u001b[33mWARNING: Running pip as the 'root' user can result in broken permissions and conflicting behaviour with the system package manager. It is recommended to use a virtual environment instead: https://pip.pypa.io/warnings/venv\u001b[0m\u001b[33m\n",
            "\u001b[0m"
          ]
        }
      ],
      "source": [
        "!pip install -q --upgrade pip\n",
        "!pip uninstall -y folium\n",
        "!pip install -q folium==0.9.1\n",
        "!pip uninstall -y urllib3\n",
        "!pip install -q urllib3==1.25.4"
      ]
    },
    {
      "cell_type": "code",
      "execution_count": 2,
      "metadata": {
        "id": "JkyVzxoL4tZO",
        "colab": {
          "base_uri": "https://localhost:8080/",
          "height": 0
        },
        "outputId": "bc80f697-6ddb-43c8-8dea-d1d83a817299"
      },
      "outputs": [
        {
          "output_type": "stream",
          "name": "stdout",
          "text": [
            "\u001b[33mWARNING: Skipping featuretools as it is not installed.\u001b[0m\u001b[33m\n",
            "\u001b[0m\u001b[33mWARNING: Running pip as the 'root' user can result in broken permissions and conflicting behaviour with the system package manager. It is recommended to use a virtual environment instead: https://pip.pypa.io/warnings/venv\u001b[0m\u001b[33m\n",
            "\u001b[2K     \u001b[90m━━━━━━━━━━━━━━━━━━━━━━━━━━━━━━━━━━━━━━━━\u001b[0m \u001b[32m140.9/140.9 kB\u001b[0m \u001b[31m2.6 MB/s\u001b[0m eta \u001b[36m0:00:00\u001b[0m\n",
            "\u001b[?25h  Preparing metadata (setup.py) ... \u001b[?25l\u001b[?25hdone\n",
            "\u001b[2K     \u001b[90m━━━━━━━━━━━━━━━━━━━━━━━━━━━━━━━━━━━━━━━━\u001b[0m \u001b[32m164.8/164.8 kB\u001b[0m \u001b[31m13.6 MB/s\u001b[0m eta \u001b[36m0:00:00\u001b[0m\n",
            "\u001b[2K   \u001b[90m━━━━━━━━━━━━━━━━━━━━━━━━━━━━━━━━━━━━━━━━\u001b[0m \u001b[32m166.4/166.4 kB\u001b[0m \u001b[31m13.5 MB/s\u001b[0m eta \u001b[36m0:00:00\u001b[0m\n",
            "\u001b[2K   \u001b[90m━━━━━━━━━━━━━━━━━━━━━━━━━━━━━━━━━━━━━━━━\u001b[0m \u001b[32m73.5/73.5 kB\u001b[0m \u001b[31m6.4 MB/s\u001b[0m eta \u001b[36m0:00:00\u001b[0m\n",
            "\u001b[2K   \u001b[90m━━━━━━━━━━━━━━━━━━━━━━━━━━━━━━━━━━━━━━━━\u001b[0m \u001b[32m11.3/11.3 MB\u001b[0m \u001b[31m94.1 MB/s\u001b[0m eta \u001b[36m0:00:00\u001b[0m\n",
            "\u001b[?25h  Building wheel for featuretools (setup.py) ... \u001b[?25l\u001b[?25hdone\n",
            "\u001b[31mERROR: pip's dependency resolver does not currently take into account all the packages that are installed. This behaviour is the source of the following dependency conflicts.\n",
            "gcsfs 2023.6.0 requires fsspec==2023.6.0, but you have fsspec 2023.10.0 which is incompatible.\u001b[0m\u001b[31m\n",
            "\u001b[0m\u001b[33mWARNING: Running pip as the 'root' user can result in broken permissions and conflicting behaviour with the system package manager. It is recommended to use a virtual environment instead: https://pip.pypa.io/warnings/venv\u001b[0m\u001b[33m\n",
            "\u001b[0mFound existing installation: pandas 1.5.3\n",
            "Uninstalling pandas-1.5.3:\n",
            "  Successfully uninstalled pandas-1.5.3\n",
            "\u001b[33mWARNING: Running pip as the 'root' user can result in broken permissions and conflicting behaviour with the system package manager. It is recommended to use a virtual environment instead: https://pip.pypa.io/warnings/venv\u001b[0m\u001b[33m\n",
            "\u001b[2K     \u001b[90m━━━━━━━━━━━━━━━━━━━━━━━━━━━━━━━━━━━━━━━━\u001b[0m \u001b[32m11.6/11.6 MB\u001b[0m \u001b[31m34.8 MB/s\u001b[0m eta \u001b[36m0:00:00\u001b[0m\n",
            "\u001b[?25h\u001b[31mERROR: pip's dependency resolver does not currently take into account all the packages that are installed. This behaviour is the source of the following dependency conflicts.\n",
            "lida 0.0.10 requires fastapi, which is not installed.\n",
            "lida 0.0.10 requires kaleido, which is not installed.\n",
            "lida 0.0.10 requires python-multipart, which is not installed.\n",
            "lida 0.0.10 requires uvicorn, which is not installed.\n",
            "bigframes 0.13.0 requires pandas>=1.5.0, but you have pandas 1.4.4 which is incompatible.\n",
            "geemap 0.28.2 requires folium>=0.13.0, but you have folium 0.9.1 which is incompatible.\n",
            "google-colab 1.0.0 requires pandas==1.5.3, but you have pandas 1.4.4 which is incompatible.\n",
            "plotnine 0.12.4 requires pandas>=1.5.0, but you have pandas 1.4.4 which is incompatible.\u001b[0m\u001b[31m\n",
            "\u001b[0m\u001b[33mWARNING: Running pip as the 'root' user can result in broken permissions and conflicting behaviour with the system package manager. It is recommended to use a virtual environment instead: https://pip.pypa.io/warnings/venv\u001b[0m\u001b[33m\n",
            "\u001b[0mBibliotecas instaladas com sucesso!!\n"
          ]
        }
      ],
      "source": [
        "!pip uninstall -y featuretools\n",
        "!pip install -q featuretools~=0.1.14\n",
        "!pip uninstall -y pandas\n",
        "!pip install -q pandas~=1.4.0\n",
        "print('Bibliotecas instaladas com sucesso!!')"
      ]
    },
    {
      "cell_type": "code",
      "execution_count": 3,
      "metadata": {
        "id": "_DBX7iCu4t7W",
        "colab": {
          "base_uri": "https://localhost:8080/",
          "height": 0
        },
        "outputId": "64dbfdeb-7d5b-4075-bf50-9130a2dc40de"
      },
      "outputs": [
        {
          "output_type": "stream",
          "name": "stdout",
          "text": [
            "Mounted at /content/drive\n"
          ]
        }
      ],
      "source": [
        "from google.colab import drive\n",
        "drive.mount('/content/drive')"
      ]
    },
    {
      "cell_type": "markdown",
      "metadata": {
        "id": "FwtFi8pTlnjj"
      },
      "source": [
        "<h1>Atención:</h1>\n",
        "\n",
        "Ahora ha de reiniciar el entorno de ejecución. Para ello vaya a:\n",
        "\n",
        "Entorno de ejecución > _Reiniciar entorno de ejecución_\n",
        "\n",
        "en la parte superior de su pantalla. Esto asegurará que sus cambio se han realizado con éxito.\n"
      ]
    },
    {
      "cell_type": "markdown",
      "metadata": {
        "id": "YN4MS-O-ozKz"
      },
      "source": [
        "# Importar"
      ]
    },
    {
      "cell_type": "markdown",
      "metadata": {
        "id": "awHj7_vdpF1K"
      },
      "source": [
        "Sincronice su cuenta de Google. Para ello, siga el link que aparece en la salida de la siguiente celda una vez ejecutada. Copie el código que le aparece en pantalla e introdúzcalo en la salida de la celda. Una vez vea el mensaje: `Google Drive sincronizado con éxito!` puede continuar ejecutando el resto de celdas."
      ]
    },
    {
      "cell_type": "code",
      "execution_count": 1,
      "metadata": {
        "id": "AbnlWQ1EmBJA",
        "colab": {
          "base_uri": "https://localhost:8080/",
          "height": 0
        },
        "outputId": "8d1acfe2-8c11-4581-e372-18e53fa96297"
      },
      "outputs": [
        {
          "output_type": "stream",
          "name": "stdout",
          "text": [
            "Google Drive sincronizado con éxito!\n"
          ]
        }
      ],
      "source": [
        "from google.colab import auth\n",
        "auth.authenticate_user()\n",
        "\n",
        "from pydrive.auth import GoogleAuth\n",
        "from pydrive.drive import GoogleDrive\n",
        "from google.colab import auth\n",
        "from oauth2client.client import GoogleCredentials\n",
        "\n",
        "gauth = GoogleAuth()\n",
        "gauth.credentials = GoogleCredentials.get_application_default()\n",
        "drive = GoogleDrive(gauth)\n",
        "data_drop = drive.CreateFile({'id':'10aXz56ohVOgF2gH4yvmrvTJFY990RHZ1'})\n",
        "data_drop.GetContentFile('dropoff_neighborhoods.csv')\n",
        "data_pick = drive.CreateFile({'id':'1zakjpcMUZTKanSeVlPWbYhL85zn5g8zX'})\n",
        "data_pick.GetContentFile('pickup_neighborhoods.csv')\n",
        "data_trips = drive.CreateFile({'id':'1D4OJPulDK-Z5l4mgwuI2C1zBr4JRC-Q5'})\n",
        "data_trips.GetContentFile('trips.pkl')\n",
        "utils_file = drive.CreateFile({'id':'1UbV2z7L5vonCz3KFLywGs4U-p2g5gQwy'})\n",
        "utils_file.GetContentFile('utils.py')\n",
        "\n",
        "print('Google Drive sincronizado con éxito!')"
      ]
    },
    {
      "cell_type": "code",
      "source": [
        "import os\n",
        "\n",
        "# Define the path to the original config.py file\n",
        "config_file_path = '/usr/local/lib/python3.10/dist-packages/featuretools/config.py'\n",
        "\n",
        "# Read the content of the original file\n",
        "with open(config_file_path, 'r') as f:\n",
        "    lines = f.readlines()\n",
        "\n",
        "# Find the line to replace\n",
        "for i, line in enumerate(lines):\n",
        "    if 'config_dict = yaml.load(text)' in line:\n",
        "        lines[i] = '        config_dict = yaml.load(text, Loader=yaml.FullLoader)\\n'\n",
        "\n",
        "# Write the modified content back to the original file\n",
        "with open(config_file_path, 'w') as f:\n",
        "    f.writelines(lines)"
      ],
      "metadata": {
        "id": "Ovy2CiZtgcrq"
      },
      "execution_count": 2,
      "outputs": []
    },
    {
      "cell_type": "code",
      "execution_count": 3,
      "metadata": {
        "id": "kWRZWiXRozKz",
        "colab": {
          "base_uri": "https://localhost:8080/",
          "height": 0
        },
        "outputId": "df5008b7-a431-4214-9157-91ddd3626490"
      },
      "outputs": [
        {
          "output_type": "stream",
          "name": "stdout",
          "text": [
            "Bibliotecas importadas con éxito!\n"
          ]
        }
      ],
      "source": [
        "import featuretools as ft\n",
        "import matplotlib\n",
        "import matplotlib.pyplot as plt\n",
        "import numpy as np\n",
        "import pandas as pd\n",
        "import utils\n",
        "from featuretools.primitives import (Count, Day, Hour, Max, Mean, Median, Min,\n",
        "                                     Minute, Month, Std, Sum, Week, Weekday,\n",
        "                                     Weekend as Weekend)\n",
        "from sklearn.ensemble import GradientBoostingRegressor\n",
        "from utils import (compute_features, feature_importances, load_nyc_taxi_data,\n",
        "                   preview)\n",
        "%matplotlib inline\n",
        "\n",
        "print('Bibliotecas importadas con éxito!')"
      ]
    },
    {
      "cell_type": "markdown",
      "metadata": {
        "id": "_joN69D4ozK4"
      },
      "source": [
        "# Datos"
      ]
    },
    {
      "cell_type": "markdown",
      "metadata": {
        "id": "ZRwPAufzozK4"
      },
      "source": [
        "- Use `load_nyc_taxi_data` para obtener los datos.\n",
        "- Use `preview` para previsualizarlos.\n",
        "- Cree un histograma de la columna `trip_duration` de la tabla `trips`."
      ]
    },
    {
      "cell_type": "code",
      "execution_count": 4,
      "metadata": {
        "id": "-CmEvPzqozK5"
      },
      "outputs": [],
      "source": [
        "# Escriba aquí su código para cargar, previsualizar y crear un histograma de los datos\n",
        "# Carga de datos\n",
        "trips = load_nyc_taxi_data()"
      ]
    },
    {
      "cell_type": "code",
      "source": [
        "# Previsualización de los datos\n",
        "type(trips)"
      ],
      "metadata": {
        "colab": {
          "base_uri": "https://localhost:8080/",
          "height": 0
        },
        "id": "CLPPu8cmKFig",
        "outputId": "a28fc676-f79c-4207-c96f-2128045dcd12"
      },
      "execution_count": 5,
      "outputs": [
        {
          "output_type": "execute_result",
          "data": {
            "text/plain": [
              "tuple"
            ]
          },
          "metadata": {},
          "execution_count": 5
        }
      ]
    },
    {
      "cell_type": "code",
      "source": [
        "len(trips)"
      ],
      "metadata": {
        "colab": {
          "base_uri": "https://localhost:8080/",
          "height": 0
        },
        "id": "A-6kIVNiKF14",
        "outputId": "7629a2e4-dee5-44e0-82fa-939fdfd515ce"
      },
      "execution_count": 6,
      "outputs": [
        {
          "output_type": "execute_result",
          "data": {
            "text/plain": [
              "3"
            ]
          },
          "metadata": {},
          "execution_count": 6
        }
      ]
    },
    {
      "cell_type": "code",
      "source": [
        "trips[0].head(3) # primera componente de la tupla"
      ],
      "metadata": {
        "colab": {
          "base_uri": "https://localhost:8080/",
          "height": 216
        },
        "id": "OvO1yEPBKF8w",
        "outputId": "a237ce89-5d72-4ffd-8822-17a227bc936c"
      },
      "execution_count": 7,
      "outputs": [
        {
          "output_type": "execute_result",
          "data": {
            "text/plain": [
              "       id  vendor_id pickup_datetime    dropoff_datetime  passenger_count  \\\n",
              "0  514030          2      2016-04-02 2016-04-02 00:17:00                1   \n",
              "1  514031          1      2016-04-02 2016-04-02 00:24:00                2   \n",
              "2  514032          1      2016-04-02 2016-04-02 00:19:00                1   \n",
              "\n",
              "   trip_distance  pickup_longitude  pickup_latitude  dropoff_longitude  \\\n",
              "0           2.46        -73.987595        40.754711         -73.959633   \n",
              "1           7.90        -73.924713        40.745567         -73.972763   \n",
              "2           1.00        -73.989800        40.732994         -74.000557   \n",
              "\n",
              "   dropoff_latitude payment_type  trip_duration pickup_neighborhood  \\\n",
              "0         40.762836            1           1039                  AA   \n",
              "1         40.793354            1           1454                   L   \n",
              "2         40.742622            1           1168                   H   \n",
              "\n",
              "  dropoff_neighborhood  \n",
              "0                    K  \n",
              "1                    U  \n",
              "2                    Q  "
            ],
            "text/html": [
              "\n",
              "  <div id=\"df-a596cc85-070f-4559-bed4-a09a1586dd8e\" class=\"colab-df-container\">\n",
              "    <div>\n",
              "<style scoped>\n",
              "    .dataframe tbody tr th:only-of-type {\n",
              "        vertical-align: middle;\n",
              "    }\n",
              "\n",
              "    .dataframe tbody tr th {\n",
              "        vertical-align: top;\n",
              "    }\n",
              "\n",
              "    .dataframe thead th {\n",
              "        text-align: right;\n",
              "    }\n",
              "</style>\n",
              "<table border=\"1\" class=\"dataframe\">\n",
              "  <thead>\n",
              "    <tr style=\"text-align: right;\">\n",
              "      <th></th>\n",
              "      <th>id</th>\n",
              "      <th>vendor_id</th>\n",
              "      <th>pickup_datetime</th>\n",
              "      <th>dropoff_datetime</th>\n",
              "      <th>passenger_count</th>\n",
              "      <th>trip_distance</th>\n",
              "      <th>pickup_longitude</th>\n",
              "      <th>pickup_latitude</th>\n",
              "      <th>dropoff_longitude</th>\n",
              "      <th>dropoff_latitude</th>\n",
              "      <th>payment_type</th>\n",
              "      <th>trip_duration</th>\n",
              "      <th>pickup_neighborhood</th>\n",
              "      <th>dropoff_neighborhood</th>\n",
              "    </tr>\n",
              "  </thead>\n",
              "  <tbody>\n",
              "    <tr>\n",
              "      <th>0</th>\n",
              "      <td>514030</td>\n",
              "      <td>2</td>\n",
              "      <td>2016-04-02</td>\n",
              "      <td>2016-04-02 00:17:00</td>\n",
              "      <td>1</td>\n",
              "      <td>2.46</td>\n",
              "      <td>-73.987595</td>\n",
              "      <td>40.754711</td>\n",
              "      <td>-73.959633</td>\n",
              "      <td>40.762836</td>\n",
              "      <td>1</td>\n",
              "      <td>1039</td>\n",
              "      <td>AA</td>\n",
              "      <td>K</td>\n",
              "    </tr>\n",
              "    <tr>\n",
              "      <th>1</th>\n",
              "      <td>514031</td>\n",
              "      <td>1</td>\n",
              "      <td>2016-04-02</td>\n",
              "      <td>2016-04-02 00:24:00</td>\n",
              "      <td>2</td>\n",
              "      <td>7.90</td>\n",
              "      <td>-73.924713</td>\n",
              "      <td>40.745567</td>\n",
              "      <td>-73.972763</td>\n",
              "      <td>40.793354</td>\n",
              "      <td>1</td>\n",
              "      <td>1454</td>\n",
              "      <td>L</td>\n",
              "      <td>U</td>\n",
              "    </tr>\n",
              "    <tr>\n",
              "      <th>2</th>\n",
              "      <td>514032</td>\n",
              "      <td>1</td>\n",
              "      <td>2016-04-02</td>\n",
              "      <td>2016-04-02 00:19:00</td>\n",
              "      <td>1</td>\n",
              "      <td>1.00</td>\n",
              "      <td>-73.989800</td>\n",
              "      <td>40.732994</td>\n",
              "      <td>-74.000557</td>\n",
              "      <td>40.742622</td>\n",
              "      <td>1</td>\n",
              "      <td>1168</td>\n",
              "      <td>H</td>\n",
              "      <td>Q</td>\n",
              "    </tr>\n",
              "  </tbody>\n",
              "</table>\n",
              "</div>\n",
              "    <div class=\"colab-df-buttons\">\n",
              "\n",
              "  <div class=\"colab-df-container\">\n",
              "    <button class=\"colab-df-convert\" onclick=\"convertToInteractive('df-a596cc85-070f-4559-bed4-a09a1586dd8e')\"\n",
              "            title=\"Convert this dataframe to an interactive table.\"\n",
              "            style=\"display:none;\">\n",
              "\n",
              "  <svg xmlns=\"http://www.w3.org/2000/svg\" height=\"24px\" viewBox=\"0 -960 960 960\">\n",
              "    <path d=\"M120-120v-720h720v720H120Zm60-500h600v-160H180v160Zm220 220h160v-160H400v160Zm0 220h160v-160H400v160ZM180-400h160v-160H180v160Zm440 0h160v-160H620v160ZM180-180h160v-160H180v160Zm440 0h160v-160H620v160Z\"/>\n",
              "  </svg>\n",
              "    </button>\n",
              "\n",
              "  <style>\n",
              "    .colab-df-container {\n",
              "      display:flex;\n",
              "      gap: 12px;\n",
              "    }\n",
              "\n",
              "    .colab-df-convert {\n",
              "      background-color: #E8F0FE;\n",
              "      border: none;\n",
              "      border-radius: 50%;\n",
              "      cursor: pointer;\n",
              "      display: none;\n",
              "      fill: #1967D2;\n",
              "      height: 32px;\n",
              "      padding: 0 0 0 0;\n",
              "      width: 32px;\n",
              "    }\n",
              "\n",
              "    .colab-df-convert:hover {\n",
              "      background-color: #E2EBFA;\n",
              "      box-shadow: 0px 1px 2px rgba(60, 64, 67, 0.3), 0px 1px 3px 1px rgba(60, 64, 67, 0.15);\n",
              "      fill: #174EA6;\n",
              "    }\n",
              "\n",
              "    .colab-df-buttons div {\n",
              "      margin-bottom: 4px;\n",
              "    }\n",
              "\n",
              "    [theme=dark] .colab-df-convert {\n",
              "      background-color: #3B4455;\n",
              "      fill: #D2E3FC;\n",
              "    }\n",
              "\n",
              "    [theme=dark] .colab-df-convert:hover {\n",
              "      background-color: #434B5C;\n",
              "      box-shadow: 0px 1px 3px 1px rgba(0, 0, 0, 0.15);\n",
              "      filter: drop-shadow(0px 1px 2px rgba(0, 0, 0, 0.3));\n",
              "      fill: #FFFFFF;\n",
              "    }\n",
              "  </style>\n",
              "\n",
              "    <script>\n",
              "      const buttonEl =\n",
              "        document.querySelector('#df-a596cc85-070f-4559-bed4-a09a1586dd8e button.colab-df-convert');\n",
              "      buttonEl.style.display =\n",
              "        google.colab.kernel.accessAllowed ? 'block' : 'none';\n",
              "\n",
              "      async function convertToInteractive(key) {\n",
              "        const element = document.querySelector('#df-a596cc85-070f-4559-bed4-a09a1586dd8e');\n",
              "        const dataTable =\n",
              "          await google.colab.kernel.invokeFunction('convertToInteractive',\n",
              "                                                    [key], {});\n",
              "        if (!dataTable) return;\n",
              "\n",
              "        const docLinkHtml = 'Like what you see? Visit the ' +\n",
              "          '<a target=\"_blank\" href=https://colab.research.google.com/notebooks/data_table.ipynb>data table notebook</a>'\n",
              "          + ' to learn more about interactive tables.';\n",
              "        element.innerHTML = '';\n",
              "        dataTable['output_type'] = 'display_data';\n",
              "        await google.colab.output.renderOutput(dataTable, element);\n",
              "        const docLink = document.createElement('div');\n",
              "        docLink.innerHTML = docLinkHtml;\n",
              "        element.appendChild(docLink);\n",
              "      }\n",
              "    </script>\n",
              "  </div>\n",
              "\n",
              "\n",
              "<div id=\"df-394dbe1c-3188-4a2e-82cd-acd764085e6c\">\n",
              "  <button class=\"colab-df-quickchart\" onclick=\"quickchart('df-394dbe1c-3188-4a2e-82cd-acd764085e6c')\"\n",
              "            title=\"Suggest charts\"\n",
              "            style=\"display:none;\">\n",
              "\n",
              "<svg xmlns=\"http://www.w3.org/2000/svg\" height=\"24px\"viewBox=\"0 0 24 24\"\n",
              "     width=\"24px\">\n",
              "    <g>\n",
              "        <path d=\"M19 3H5c-1.1 0-2 .9-2 2v14c0 1.1.9 2 2 2h14c1.1 0 2-.9 2-2V5c0-1.1-.9-2-2-2zM9 17H7v-7h2v7zm4 0h-2V7h2v10zm4 0h-2v-4h2v4z\"/>\n",
              "    </g>\n",
              "</svg>\n",
              "  </button>\n",
              "\n",
              "<style>\n",
              "  .colab-df-quickchart {\n",
              "      --bg-color: #E8F0FE;\n",
              "      --fill-color: #1967D2;\n",
              "      --hover-bg-color: #E2EBFA;\n",
              "      --hover-fill-color: #174EA6;\n",
              "      --disabled-fill-color: #AAA;\n",
              "      --disabled-bg-color: #DDD;\n",
              "  }\n",
              "\n",
              "  [theme=dark] .colab-df-quickchart {\n",
              "      --bg-color: #3B4455;\n",
              "      --fill-color: #D2E3FC;\n",
              "      --hover-bg-color: #434B5C;\n",
              "      --hover-fill-color: #FFFFFF;\n",
              "      --disabled-bg-color: #3B4455;\n",
              "      --disabled-fill-color: #666;\n",
              "  }\n",
              "\n",
              "  .colab-df-quickchart {\n",
              "    background-color: var(--bg-color);\n",
              "    border: none;\n",
              "    border-radius: 50%;\n",
              "    cursor: pointer;\n",
              "    display: none;\n",
              "    fill: var(--fill-color);\n",
              "    height: 32px;\n",
              "    padding: 0;\n",
              "    width: 32px;\n",
              "  }\n",
              "\n",
              "  .colab-df-quickchart:hover {\n",
              "    background-color: var(--hover-bg-color);\n",
              "    box-shadow: 0 1px 2px rgba(60, 64, 67, 0.3), 0 1px 3px 1px rgba(60, 64, 67, 0.15);\n",
              "    fill: var(--button-hover-fill-color);\n",
              "  }\n",
              "\n",
              "  .colab-df-quickchart-complete:disabled,\n",
              "  .colab-df-quickchart-complete:disabled:hover {\n",
              "    background-color: var(--disabled-bg-color);\n",
              "    fill: var(--disabled-fill-color);\n",
              "    box-shadow: none;\n",
              "  }\n",
              "\n",
              "  .colab-df-spinner {\n",
              "    border: 2px solid var(--fill-color);\n",
              "    border-color: transparent;\n",
              "    border-bottom-color: var(--fill-color);\n",
              "    animation:\n",
              "      spin 1s steps(1) infinite;\n",
              "  }\n",
              "\n",
              "  @keyframes spin {\n",
              "    0% {\n",
              "      border-color: transparent;\n",
              "      border-bottom-color: var(--fill-color);\n",
              "      border-left-color: var(--fill-color);\n",
              "    }\n",
              "    20% {\n",
              "      border-color: transparent;\n",
              "      border-left-color: var(--fill-color);\n",
              "      border-top-color: var(--fill-color);\n",
              "    }\n",
              "    30% {\n",
              "      border-color: transparent;\n",
              "      border-left-color: var(--fill-color);\n",
              "      border-top-color: var(--fill-color);\n",
              "      border-right-color: var(--fill-color);\n",
              "    }\n",
              "    40% {\n",
              "      border-color: transparent;\n",
              "      border-right-color: var(--fill-color);\n",
              "      border-top-color: var(--fill-color);\n",
              "    }\n",
              "    60% {\n",
              "      border-color: transparent;\n",
              "      border-right-color: var(--fill-color);\n",
              "    }\n",
              "    80% {\n",
              "      border-color: transparent;\n",
              "      border-right-color: var(--fill-color);\n",
              "      border-bottom-color: var(--fill-color);\n",
              "    }\n",
              "    90% {\n",
              "      border-color: transparent;\n",
              "      border-bottom-color: var(--fill-color);\n",
              "    }\n",
              "  }\n",
              "</style>\n",
              "\n",
              "  <script>\n",
              "    async function quickchart(key) {\n",
              "      const quickchartButtonEl =\n",
              "        document.querySelector('#' + key + ' button');\n",
              "      quickchartButtonEl.disabled = true;  // To prevent multiple clicks.\n",
              "      quickchartButtonEl.classList.add('colab-df-spinner');\n",
              "      try {\n",
              "        const charts = await google.colab.kernel.invokeFunction(\n",
              "            'suggestCharts', [key], {});\n",
              "      } catch (error) {\n",
              "        console.error('Error during call to suggestCharts:', error);\n",
              "      }\n",
              "      quickchartButtonEl.classList.remove('colab-df-spinner');\n",
              "      quickchartButtonEl.classList.add('colab-df-quickchart-complete');\n",
              "    }\n",
              "    (() => {\n",
              "      let quickchartButtonEl =\n",
              "        document.querySelector('#df-394dbe1c-3188-4a2e-82cd-acd764085e6c button');\n",
              "      quickchartButtonEl.style.display =\n",
              "        google.colab.kernel.accessAllowed ? 'block' : 'none';\n",
              "    })();\n",
              "  </script>\n",
              "</div>\n",
              "    </div>\n",
              "  </div>\n"
            ]
          },
          "metadata": {},
          "execution_count": 7
        }
      ]
    },
    {
      "cell_type": "code",
      "source": [
        "trips[1].head(3) # segunda componente de la tupla"
      ],
      "metadata": {
        "colab": {
          "base_uri": "https://localhost:8080/",
          "height": 143
        },
        "id": "2c-ecq9fLDNx",
        "outputId": "aa83d1f7-db7a-423b-bb8d-861ce8bc1da0"
      },
      "execution_count": 8,
      "outputs": [
        {
          "output_type": "execute_result",
          "data": {
            "text/plain": [
              "  neighborhood_id   latitude  longitude\n",
              "0              AH  40.804349 -73.961716\n",
              "1               Z  40.715828 -73.954298\n",
              "2               D  40.750179 -73.992557"
            ],
            "text/html": [
              "\n",
              "  <div id=\"df-c212ffb7-9d5b-4e08-bc61-3d7c149a9954\" class=\"colab-df-container\">\n",
              "    <div>\n",
              "<style scoped>\n",
              "    .dataframe tbody tr th:only-of-type {\n",
              "        vertical-align: middle;\n",
              "    }\n",
              "\n",
              "    .dataframe tbody tr th {\n",
              "        vertical-align: top;\n",
              "    }\n",
              "\n",
              "    .dataframe thead th {\n",
              "        text-align: right;\n",
              "    }\n",
              "</style>\n",
              "<table border=\"1\" class=\"dataframe\">\n",
              "  <thead>\n",
              "    <tr style=\"text-align: right;\">\n",
              "      <th></th>\n",
              "      <th>neighborhood_id</th>\n",
              "      <th>latitude</th>\n",
              "      <th>longitude</th>\n",
              "    </tr>\n",
              "  </thead>\n",
              "  <tbody>\n",
              "    <tr>\n",
              "      <th>0</th>\n",
              "      <td>AH</td>\n",
              "      <td>40.804349</td>\n",
              "      <td>-73.961716</td>\n",
              "    </tr>\n",
              "    <tr>\n",
              "      <th>1</th>\n",
              "      <td>Z</td>\n",
              "      <td>40.715828</td>\n",
              "      <td>-73.954298</td>\n",
              "    </tr>\n",
              "    <tr>\n",
              "      <th>2</th>\n",
              "      <td>D</td>\n",
              "      <td>40.750179</td>\n",
              "      <td>-73.992557</td>\n",
              "    </tr>\n",
              "  </tbody>\n",
              "</table>\n",
              "</div>\n",
              "    <div class=\"colab-df-buttons\">\n",
              "\n",
              "  <div class=\"colab-df-container\">\n",
              "    <button class=\"colab-df-convert\" onclick=\"convertToInteractive('df-c212ffb7-9d5b-4e08-bc61-3d7c149a9954')\"\n",
              "            title=\"Convert this dataframe to an interactive table.\"\n",
              "            style=\"display:none;\">\n",
              "\n",
              "  <svg xmlns=\"http://www.w3.org/2000/svg\" height=\"24px\" viewBox=\"0 -960 960 960\">\n",
              "    <path d=\"M120-120v-720h720v720H120Zm60-500h600v-160H180v160Zm220 220h160v-160H400v160Zm0 220h160v-160H400v160ZM180-400h160v-160H180v160Zm440 0h160v-160H620v160ZM180-180h160v-160H180v160Zm440 0h160v-160H620v160Z\"/>\n",
              "  </svg>\n",
              "    </button>\n",
              "\n",
              "  <style>\n",
              "    .colab-df-container {\n",
              "      display:flex;\n",
              "      gap: 12px;\n",
              "    }\n",
              "\n",
              "    .colab-df-convert {\n",
              "      background-color: #E8F0FE;\n",
              "      border: none;\n",
              "      border-radius: 50%;\n",
              "      cursor: pointer;\n",
              "      display: none;\n",
              "      fill: #1967D2;\n",
              "      height: 32px;\n",
              "      padding: 0 0 0 0;\n",
              "      width: 32px;\n",
              "    }\n",
              "\n",
              "    .colab-df-convert:hover {\n",
              "      background-color: #E2EBFA;\n",
              "      box-shadow: 0px 1px 2px rgba(60, 64, 67, 0.3), 0px 1px 3px 1px rgba(60, 64, 67, 0.15);\n",
              "      fill: #174EA6;\n",
              "    }\n",
              "\n",
              "    .colab-df-buttons div {\n",
              "      margin-bottom: 4px;\n",
              "    }\n",
              "\n",
              "    [theme=dark] .colab-df-convert {\n",
              "      background-color: #3B4455;\n",
              "      fill: #D2E3FC;\n",
              "    }\n",
              "\n",
              "    [theme=dark] .colab-df-convert:hover {\n",
              "      background-color: #434B5C;\n",
              "      box-shadow: 0px 1px 3px 1px rgba(0, 0, 0, 0.15);\n",
              "      filter: drop-shadow(0px 1px 2px rgba(0, 0, 0, 0.3));\n",
              "      fill: #FFFFFF;\n",
              "    }\n",
              "  </style>\n",
              "\n",
              "    <script>\n",
              "      const buttonEl =\n",
              "        document.querySelector('#df-c212ffb7-9d5b-4e08-bc61-3d7c149a9954 button.colab-df-convert');\n",
              "      buttonEl.style.display =\n",
              "        google.colab.kernel.accessAllowed ? 'block' : 'none';\n",
              "\n",
              "      async function convertToInteractive(key) {\n",
              "        const element = document.querySelector('#df-c212ffb7-9d5b-4e08-bc61-3d7c149a9954');\n",
              "        const dataTable =\n",
              "          await google.colab.kernel.invokeFunction('convertToInteractive',\n",
              "                                                    [key], {});\n",
              "        if (!dataTable) return;\n",
              "\n",
              "        const docLinkHtml = 'Like what you see? Visit the ' +\n",
              "          '<a target=\"_blank\" href=https://colab.research.google.com/notebooks/data_table.ipynb>data table notebook</a>'\n",
              "          + ' to learn more about interactive tables.';\n",
              "        element.innerHTML = '';\n",
              "        dataTable['output_type'] = 'display_data';\n",
              "        await google.colab.output.renderOutput(dataTable, element);\n",
              "        const docLink = document.createElement('div');\n",
              "        docLink.innerHTML = docLinkHtml;\n",
              "        element.appendChild(docLink);\n",
              "      }\n",
              "    </script>\n",
              "  </div>\n",
              "\n",
              "\n",
              "<div id=\"df-d1ed3224-36db-4987-8820-d82289bb257d\">\n",
              "  <button class=\"colab-df-quickchart\" onclick=\"quickchart('df-d1ed3224-36db-4987-8820-d82289bb257d')\"\n",
              "            title=\"Suggest charts\"\n",
              "            style=\"display:none;\">\n",
              "\n",
              "<svg xmlns=\"http://www.w3.org/2000/svg\" height=\"24px\"viewBox=\"0 0 24 24\"\n",
              "     width=\"24px\">\n",
              "    <g>\n",
              "        <path d=\"M19 3H5c-1.1 0-2 .9-2 2v14c0 1.1.9 2 2 2h14c1.1 0 2-.9 2-2V5c0-1.1-.9-2-2-2zM9 17H7v-7h2v7zm4 0h-2V7h2v10zm4 0h-2v-4h2v4z\"/>\n",
              "    </g>\n",
              "</svg>\n",
              "  </button>\n",
              "\n",
              "<style>\n",
              "  .colab-df-quickchart {\n",
              "      --bg-color: #E8F0FE;\n",
              "      --fill-color: #1967D2;\n",
              "      --hover-bg-color: #E2EBFA;\n",
              "      --hover-fill-color: #174EA6;\n",
              "      --disabled-fill-color: #AAA;\n",
              "      --disabled-bg-color: #DDD;\n",
              "  }\n",
              "\n",
              "  [theme=dark] .colab-df-quickchart {\n",
              "      --bg-color: #3B4455;\n",
              "      --fill-color: #D2E3FC;\n",
              "      --hover-bg-color: #434B5C;\n",
              "      --hover-fill-color: #FFFFFF;\n",
              "      --disabled-bg-color: #3B4455;\n",
              "      --disabled-fill-color: #666;\n",
              "  }\n",
              "\n",
              "  .colab-df-quickchart {\n",
              "    background-color: var(--bg-color);\n",
              "    border: none;\n",
              "    border-radius: 50%;\n",
              "    cursor: pointer;\n",
              "    display: none;\n",
              "    fill: var(--fill-color);\n",
              "    height: 32px;\n",
              "    padding: 0;\n",
              "    width: 32px;\n",
              "  }\n",
              "\n",
              "  .colab-df-quickchart:hover {\n",
              "    background-color: var(--hover-bg-color);\n",
              "    box-shadow: 0 1px 2px rgba(60, 64, 67, 0.3), 0 1px 3px 1px rgba(60, 64, 67, 0.15);\n",
              "    fill: var(--button-hover-fill-color);\n",
              "  }\n",
              "\n",
              "  .colab-df-quickchart-complete:disabled,\n",
              "  .colab-df-quickchart-complete:disabled:hover {\n",
              "    background-color: var(--disabled-bg-color);\n",
              "    fill: var(--disabled-fill-color);\n",
              "    box-shadow: none;\n",
              "  }\n",
              "\n",
              "  .colab-df-spinner {\n",
              "    border: 2px solid var(--fill-color);\n",
              "    border-color: transparent;\n",
              "    border-bottom-color: var(--fill-color);\n",
              "    animation:\n",
              "      spin 1s steps(1) infinite;\n",
              "  }\n",
              "\n",
              "  @keyframes spin {\n",
              "    0% {\n",
              "      border-color: transparent;\n",
              "      border-bottom-color: var(--fill-color);\n",
              "      border-left-color: var(--fill-color);\n",
              "    }\n",
              "    20% {\n",
              "      border-color: transparent;\n",
              "      border-left-color: var(--fill-color);\n",
              "      border-top-color: var(--fill-color);\n",
              "    }\n",
              "    30% {\n",
              "      border-color: transparent;\n",
              "      border-left-color: var(--fill-color);\n",
              "      border-top-color: var(--fill-color);\n",
              "      border-right-color: var(--fill-color);\n",
              "    }\n",
              "    40% {\n",
              "      border-color: transparent;\n",
              "      border-right-color: var(--fill-color);\n",
              "      border-top-color: var(--fill-color);\n",
              "    }\n",
              "    60% {\n",
              "      border-color: transparent;\n",
              "      border-right-color: var(--fill-color);\n",
              "    }\n",
              "    80% {\n",
              "      border-color: transparent;\n",
              "      border-right-color: var(--fill-color);\n",
              "      border-bottom-color: var(--fill-color);\n",
              "    }\n",
              "    90% {\n",
              "      border-color: transparent;\n",
              "      border-bottom-color: var(--fill-color);\n",
              "    }\n",
              "  }\n",
              "</style>\n",
              "\n",
              "  <script>\n",
              "    async function quickchart(key) {\n",
              "      const quickchartButtonEl =\n",
              "        document.querySelector('#' + key + ' button');\n",
              "      quickchartButtonEl.disabled = true;  // To prevent multiple clicks.\n",
              "      quickchartButtonEl.classList.add('colab-df-spinner');\n",
              "      try {\n",
              "        const charts = await google.colab.kernel.invokeFunction(\n",
              "            'suggestCharts', [key], {});\n",
              "      } catch (error) {\n",
              "        console.error('Error during call to suggestCharts:', error);\n",
              "      }\n",
              "      quickchartButtonEl.classList.remove('colab-df-spinner');\n",
              "      quickchartButtonEl.classList.add('colab-df-quickchart-complete');\n",
              "    }\n",
              "    (() => {\n",
              "      let quickchartButtonEl =\n",
              "        document.querySelector('#df-d1ed3224-36db-4987-8820-d82289bb257d button');\n",
              "      quickchartButtonEl.style.display =\n",
              "        google.colab.kernel.accessAllowed ? 'block' : 'none';\n",
              "    })();\n",
              "  </script>\n",
              "</div>\n",
              "    </div>\n",
              "  </div>\n"
            ]
          },
          "metadata": {},
          "execution_count": 8
        }
      ]
    },
    {
      "cell_type": "code",
      "source": [
        "trips[2].head(3) # tercera componente de la tupla"
      ],
      "metadata": {
        "colab": {
          "base_uri": "https://localhost:8080/",
          "height": 143
        },
        "id": "MIDOsOkFLjau",
        "outputId": "f2b81982-12ef-45c0-bd6d-b084aafd4cd0"
      },
      "execution_count": 9,
      "outputs": [
        {
          "output_type": "execute_result",
          "data": {
            "text/plain": [
              "  neighborhood_id   latitude  longitude\n",
              "0               C  40.783780 -73.953145\n",
              "1               S  40.836792 -73.934381\n",
              "2              AL  40.818445 -73.948046"
            ],
            "text/html": [
              "\n",
              "  <div id=\"df-0eccf6ab-a672-4ba3-b655-1fef172beb98\" class=\"colab-df-container\">\n",
              "    <div>\n",
              "<style scoped>\n",
              "    .dataframe tbody tr th:only-of-type {\n",
              "        vertical-align: middle;\n",
              "    }\n",
              "\n",
              "    .dataframe tbody tr th {\n",
              "        vertical-align: top;\n",
              "    }\n",
              "\n",
              "    .dataframe thead th {\n",
              "        text-align: right;\n",
              "    }\n",
              "</style>\n",
              "<table border=\"1\" class=\"dataframe\">\n",
              "  <thead>\n",
              "    <tr style=\"text-align: right;\">\n",
              "      <th></th>\n",
              "      <th>neighborhood_id</th>\n",
              "      <th>latitude</th>\n",
              "      <th>longitude</th>\n",
              "    </tr>\n",
              "  </thead>\n",
              "  <tbody>\n",
              "    <tr>\n",
              "      <th>0</th>\n",
              "      <td>C</td>\n",
              "      <td>40.783780</td>\n",
              "      <td>-73.953145</td>\n",
              "    </tr>\n",
              "    <tr>\n",
              "      <th>1</th>\n",
              "      <td>S</td>\n",
              "      <td>40.836792</td>\n",
              "      <td>-73.934381</td>\n",
              "    </tr>\n",
              "    <tr>\n",
              "      <th>2</th>\n",
              "      <td>AL</td>\n",
              "      <td>40.818445</td>\n",
              "      <td>-73.948046</td>\n",
              "    </tr>\n",
              "  </tbody>\n",
              "</table>\n",
              "</div>\n",
              "    <div class=\"colab-df-buttons\">\n",
              "\n",
              "  <div class=\"colab-df-container\">\n",
              "    <button class=\"colab-df-convert\" onclick=\"convertToInteractive('df-0eccf6ab-a672-4ba3-b655-1fef172beb98')\"\n",
              "            title=\"Convert this dataframe to an interactive table.\"\n",
              "            style=\"display:none;\">\n",
              "\n",
              "  <svg xmlns=\"http://www.w3.org/2000/svg\" height=\"24px\" viewBox=\"0 -960 960 960\">\n",
              "    <path d=\"M120-120v-720h720v720H120Zm60-500h600v-160H180v160Zm220 220h160v-160H400v160Zm0 220h160v-160H400v160ZM180-400h160v-160H180v160Zm440 0h160v-160H620v160ZM180-180h160v-160H180v160Zm440 0h160v-160H620v160Z\"/>\n",
              "  </svg>\n",
              "    </button>\n",
              "\n",
              "  <style>\n",
              "    .colab-df-container {\n",
              "      display:flex;\n",
              "      gap: 12px;\n",
              "    }\n",
              "\n",
              "    .colab-df-convert {\n",
              "      background-color: #E8F0FE;\n",
              "      border: none;\n",
              "      border-radius: 50%;\n",
              "      cursor: pointer;\n",
              "      display: none;\n",
              "      fill: #1967D2;\n",
              "      height: 32px;\n",
              "      padding: 0 0 0 0;\n",
              "      width: 32px;\n",
              "    }\n",
              "\n",
              "    .colab-df-convert:hover {\n",
              "      background-color: #E2EBFA;\n",
              "      box-shadow: 0px 1px 2px rgba(60, 64, 67, 0.3), 0px 1px 3px 1px rgba(60, 64, 67, 0.15);\n",
              "      fill: #174EA6;\n",
              "    }\n",
              "\n",
              "    .colab-df-buttons div {\n",
              "      margin-bottom: 4px;\n",
              "    }\n",
              "\n",
              "    [theme=dark] .colab-df-convert {\n",
              "      background-color: #3B4455;\n",
              "      fill: #D2E3FC;\n",
              "    }\n",
              "\n",
              "    [theme=dark] .colab-df-convert:hover {\n",
              "      background-color: #434B5C;\n",
              "      box-shadow: 0px 1px 3px 1px rgba(0, 0, 0, 0.15);\n",
              "      filter: drop-shadow(0px 1px 2px rgba(0, 0, 0, 0.3));\n",
              "      fill: #FFFFFF;\n",
              "    }\n",
              "  </style>\n",
              "\n",
              "    <script>\n",
              "      const buttonEl =\n",
              "        document.querySelector('#df-0eccf6ab-a672-4ba3-b655-1fef172beb98 button.colab-df-convert');\n",
              "      buttonEl.style.display =\n",
              "        google.colab.kernel.accessAllowed ? 'block' : 'none';\n",
              "\n",
              "      async function convertToInteractive(key) {\n",
              "        const element = document.querySelector('#df-0eccf6ab-a672-4ba3-b655-1fef172beb98');\n",
              "        const dataTable =\n",
              "          await google.colab.kernel.invokeFunction('convertToInteractive',\n",
              "                                                    [key], {});\n",
              "        if (!dataTable) return;\n",
              "\n",
              "        const docLinkHtml = 'Like what you see? Visit the ' +\n",
              "          '<a target=\"_blank\" href=https://colab.research.google.com/notebooks/data_table.ipynb>data table notebook</a>'\n",
              "          + ' to learn more about interactive tables.';\n",
              "        element.innerHTML = '';\n",
              "        dataTable['output_type'] = 'display_data';\n",
              "        await google.colab.output.renderOutput(dataTable, element);\n",
              "        const docLink = document.createElement('div');\n",
              "        docLink.innerHTML = docLinkHtml;\n",
              "        element.appendChild(docLink);\n",
              "      }\n",
              "    </script>\n",
              "  </div>\n",
              "\n",
              "\n",
              "<div id=\"df-3254930a-20e1-425a-88f0-53d9ae1d7153\">\n",
              "  <button class=\"colab-df-quickchart\" onclick=\"quickchart('df-3254930a-20e1-425a-88f0-53d9ae1d7153')\"\n",
              "            title=\"Suggest charts\"\n",
              "            style=\"display:none;\">\n",
              "\n",
              "<svg xmlns=\"http://www.w3.org/2000/svg\" height=\"24px\"viewBox=\"0 0 24 24\"\n",
              "     width=\"24px\">\n",
              "    <g>\n",
              "        <path d=\"M19 3H5c-1.1 0-2 .9-2 2v14c0 1.1.9 2 2 2h14c1.1 0 2-.9 2-2V5c0-1.1-.9-2-2-2zM9 17H7v-7h2v7zm4 0h-2V7h2v10zm4 0h-2v-4h2v4z\"/>\n",
              "    </g>\n",
              "</svg>\n",
              "  </button>\n",
              "\n",
              "<style>\n",
              "  .colab-df-quickchart {\n",
              "      --bg-color: #E8F0FE;\n",
              "      --fill-color: #1967D2;\n",
              "      --hover-bg-color: #E2EBFA;\n",
              "      --hover-fill-color: #174EA6;\n",
              "      --disabled-fill-color: #AAA;\n",
              "      --disabled-bg-color: #DDD;\n",
              "  }\n",
              "\n",
              "  [theme=dark] .colab-df-quickchart {\n",
              "      --bg-color: #3B4455;\n",
              "      --fill-color: #D2E3FC;\n",
              "      --hover-bg-color: #434B5C;\n",
              "      --hover-fill-color: #FFFFFF;\n",
              "      --disabled-bg-color: #3B4455;\n",
              "      --disabled-fill-color: #666;\n",
              "  }\n",
              "\n",
              "  .colab-df-quickchart {\n",
              "    background-color: var(--bg-color);\n",
              "    border: none;\n",
              "    border-radius: 50%;\n",
              "    cursor: pointer;\n",
              "    display: none;\n",
              "    fill: var(--fill-color);\n",
              "    height: 32px;\n",
              "    padding: 0;\n",
              "    width: 32px;\n",
              "  }\n",
              "\n",
              "  .colab-df-quickchart:hover {\n",
              "    background-color: var(--hover-bg-color);\n",
              "    box-shadow: 0 1px 2px rgba(60, 64, 67, 0.3), 0 1px 3px 1px rgba(60, 64, 67, 0.15);\n",
              "    fill: var(--button-hover-fill-color);\n",
              "  }\n",
              "\n",
              "  .colab-df-quickchart-complete:disabled,\n",
              "  .colab-df-quickchart-complete:disabled:hover {\n",
              "    background-color: var(--disabled-bg-color);\n",
              "    fill: var(--disabled-fill-color);\n",
              "    box-shadow: none;\n",
              "  }\n",
              "\n",
              "  .colab-df-spinner {\n",
              "    border: 2px solid var(--fill-color);\n",
              "    border-color: transparent;\n",
              "    border-bottom-color: var(--fill-color);\n",
              "    animation:\n",
              "      spin 1s steps(1) infinite;\n",
              "  }\n",
              "\n",
              "  @keyframes spin {\n",
              "    0% {\n",
              "      border-color: transparent;\n",
              "      border-bottom-color: var(--fill-color);\n",
              "      border-left-color: var(--fill-color);\n",
              "    }\n",
              "    20% {\n",
              "      border-color: transparent;\n",
              "      border-left-color: var(--fill-color);\n",
              "      border-top-color: var(--fill-color);\n",
              "    }\n",
              "    30% {\n",
              "      border-color: transparent;\n",
              "      border-left-color: var(--fill-color);\n",
              "      border-top-color: var(--fill-color);\n",
              "      border-right-color: var(--fill-color);\n",
              "    }\n",
              "    40% {\n",
              "      border-color: transparent;\n",
              "      border-right-color: var(--fill-color);\n",
              "      border-top-color: var(--fill-color);\n",
              "    }\n",
              "    60% {\n",
              "      border-color: transparent;\n",
              "      border-right-color: var(--fill-color);\n",
              "    }\n",
              "    80% {\n",
              "      border-color: transparent;\n",
              "      border-right-color: var(--fill-color);\n",
              "      border-bottom-color: var(--fill-color);\n",
              "    }\n",
              "    90% {\n",
              "      border-color: transparent;\n",
              "      border-bottom-color: var(--fill-color);\n",
              "    }\n",
              "  }\n",
              "</style>\n",
              "\n",
              "  <script>\n",
              "    async function quickchart(key) {\n",
              "      const quickchartButtonEl =\n",
              "        document.querySelector('#' + key + ' button');\n",
              "      quickchartButtonEl.disabled = true;  // To prevent multiple clicks.\n",
              "      quickchartButtonEl.classList.add('colab-df-spinner');\n",
              "      try {\n",
              "        const charts = await google.colab.kernel.invokeFunction(\n",
              "            'suggestCharts', [key], {});\n",
              "      } catch (error) {\n",
              "        console.error('Error during call to suggestCharts:', error);\n",
              "      }\n",
              "      quickchartButtonEl.classList.remove('colab-df-spinner');\n",
              "      quickchartButtonEl.classList.add('colab-df-quickchart-complete');\n",
              "    }\n",
              "    (() => {\n",
              "      let quickchartButtonEl =\n",
              "        document.querySelector('#df-3254930a-20e1-425a-88f0-53d9ae1d7153 button');\n",
              "      quickchartButtonEl.style.display =\n",
              "        google.colab.kernel.accessAllowed ? 'block' : 'none';\n",
              "    })();\n",
              "  </script>\n",
              "</div>\n",
              "    </div>\n",
              "  </div>\n"
            ]
          },
          "metadata": {},
          "execution_count": 9
        }
      ]
    },
    {
      "cell_type": "code",
      "source": [
        "trips_data=trips[0] # se carga la data completa"
      ],
      "metadata": {
        "id": "Q9g_sFESMLVF"
      },
      "execution_count": 10,
      "outputs": []
    },
    {
      "cell_type": "markdown",
      "source": [
        "Se crea el histograma con el campo solicitado usando la primera componente de la tupla"
      ],
      "metadata": {
        "id": "wroBTRLPLpl0"
      }
    },
    {
      "cell_type": "code",
      "source": [
        "# Crear un histograma para la columna 'trip_duration' de trips_head\n",
        "plt.figure(figsize=(10, 6))\n",
        "plt.hist(trips_data['trip_duration'], bins=30, color='blue', edgecolor='black')\n",
        "plt.title('Histograma de Duración de Viajes')\n",
        "plt.xlabel('Duración del Viaje')\n",
        "plt.ylabel('Frecuencia')\n",
        "plt.show()"
      ],
      "metadata": {
        "colab": {
          "base_uri": "https://localhost:8080/",
          "height": 565
        },
        "id": "OZ1yZxrqMF--",
        "outputId": "c754c440-0e19-4d53-d048-583a002b8cb4"
      },
      "execution_count": 11,
      "outputs": [
        {
          "output_type": "display_data",
          "data": {
            "text/plain": [
              "<Figure size 1000x600 with 1 Axes>"
            ],
            "image/png": "[encoded data removed]"
          },
          "metadata": {}
        }
      ]
    },
    {
      "cell_type": "markdown",
      "metadata": {
        "id": "iLo0OehYozK8"
      },
      "source": [
        "<h1 style=\"color:red;\">PREGUNTA 1: ANÁLISIS DE DATOS</h1>"
      ]
    },
    {
      "cell_type": "markdown",
      "metadata": {
        "id": "AuhREGYyozK8"
      },
      "source": [
        "**Describa la base de datos. ¿Cuántos trayectos hay en la base de datos? ¿Cómo describiría la distribución de la duración de los trayectos? ¿Hay algo que debamos observar? Asegúrese de que el histograma se muestra visible en el notebook.**"
      ]
    },
    {
      "cell_type": "code",
      "source": [
        "trips_data.columns"
      ],
      "metadata": {
        "colab": {
          "base_uri": "https://localhost:8080/",
          "height": 0
        },
        "id": "qsQf4xJGNBsy",
        "outputId": "95ebe6e6-a7e4-48f6-8513-ef70eca674a8"
      },
      "execution_count": 12,
      "outputs": [
        {
          "output_type": "execute_result",
          "data": {
            "text/plain": [
              "Index(['id', 'vendor_id', 'pickup_datetime', 'dropoff_datetime',\n",
              "       'passenger_count', 'trip_distance', 'pickup_longitude',\n",
              "       'pickup_latitude', 'dropoff_longitude', 'dropoff_latitude',\n",
              "       'payment_type', 'trip_duration', 'pickup_neighborhood',\n",
              "       'dropoff_neighborhood'],\n",
              "      dtype='object')"
            ]
          },
          "metadata": {},
          "execution_count": 12
        }
      ]
    },
    {
      "cell_type": "code",
      "source": [
        "# Contar el número de trayectos\n",
        "print(f\"Número total de trayectos: {trips_data.shape[0]}\")"
      ],
      "metadata": {
        "colab": {
          "base_uri": "https://localhost:8080/",
          "height": 0
        },
        "id": "owfbd5zIN9Zv",
        "outputId": "060628ad-6a96-4df2-b700-53ae21b9d72c"
      },
      "execution_count": 13,
      "outputs": [
        {
          "output_type": "stream",
          "name": "stdout",
          "text": [
            "Número total de trayectos: 10000\n"
          ]
        }
      ]
    },
    {
      "cell_type": "code",
      "source": [
        "# Analizar la duración de los trayectos\n",
        "print(trips_data['trip_duration'].describe())"
      ],
      "metadata": {
        "colab": {
          "base_uri": "https://localhost:8080/",
          "height": 0
        },
        "id": "ATqA-NI3OMGX",
        "outputId": "16cdc14f-5857-4b49-8a0a-3b6764d3e9d9"
      },
      "execution_count": 14,
      "outputs": [
        {
          "output_type": "stream",
          "name": "stdout",
          "text": [
            "count    10000.000000\n",
            "mean       746.098900\n",
            "std        525.049496\n",
            "min          2.000000\n",
            "25%        364.000000\n",
            "50%        616.000000\n",
            "75%        988.000000\n",
            "max       3573.000000\n",
            "Name: trip_duration, dtype: float64\n"
          ]
        }
      ]
    },
    {
      "cell_type": "markdown",
      "source": [
        "# Entrenamiento de modelo sin usar featuretools"
      ],
      "metadata": {
        "id": "sppDFF4QaQpQ"
      }
    },
    {
      "cell_type": "code",
      "source": [
        "from sklearn.model_selection import train_test_split\n",
        "from sklearn.ensemble import GradientBoostingRegressor\n",
        "from sklearn.metrics import mean_squared_error"
      ],
      "metadata": {
        "id": "N3osMbx0aLun"
      },
      "execution_count": 15,
      "outputs": []
    },
    {
      "cell_type": "code",
      "source": [
        "X = trips_data[['vendor_id', 'passenger_count', 'trip_distance', 'pickup_longitude', 'pickup_latitude', 'dropoff_longitude', 'dropoff_latitude', 'payment_type']]\n",
        "y = trips_data['trip_duration']\n",
        "\n",
        "# División en conjuntos de entrenamiento y prueba\n",
        "X_train, X_test, y_train, y_test = train_test_split(X, y, test_size=0.2, random_state=42)\n",
        "\n",
        "# Inicialización y entrenamiento del modelo\n",
        "model = GradientBoostingRegressor(verbose=True)\n",
        "model.fit(X_train, y_train)\n",
        "\n",
        "# Predicción y evaluación\n",
        "predictions = model.predict(X_test)\n",
        "print(model.score(X_test, y_test)) # Valor R^2 de la predicción\n"
      ],
      "metadata": {
        "colab": {
          "base_uri": "https://localhost:8080/",
          "height": 0
        },
        "id": "ss-qxyGnaAUt",
        "outputId": "2bc39cbf-5892-4770-ae98-e66d7bdb6ecc"
      },
      "execution_count": 16,
      "outputs": [
        {
          "output_type": "stream",
          "name": "stdout",
          "text": [
            "      Iter       Train Loss   Remaining Time \n",
            "         1      242177.3813            2.55s\n",
            "         2      212553.5139            2.67s\n",
            "         3      188272.4472            2.67s\n",
            "         4      168471.0483            2.62s\n",
            "         5      152241.5019            2.53s\n",
            "         6      138883.3000            2.45s\n",
            "         7      127833.2678            2.38s\n",
            "         8      118833.2873            2.36s\n",
            "         9      111463.8595            2.29s\n",
            "        10      105375.9892            2.24s\n",
            "        20       79170.9691            1.92s\n",
            "        30       72460.8636            1.63s\n",
            "        40       68796.6016            1.39s\n",
            "        50       66792.5114            1.15s\n",
            "        60       65285.2938            0.92s\n",
            "        70       64279.8495            0.69s\n",
            "        80       63105.0346            0.46s\n",
            "        90       61870.4009            0.23s\n",
            "       100       60999.5672            0.00s\n",
            "0.7467053761851711\n"
          ]
        }
      ]
    },
    {
      "cell_type": "markdown",
      "metadata": {
        "id": "Qt4lvlCGozK8"
      },
      "source": [
        "# RESPUESTA A PREGUNTA 1\n",
        "\n",
        "*Escriba su respuesta aquí: Según los outputs mostrados anteriormente  hay un total de 10000 registros de trayectos en la base de datos. La distribución sesgada a la derecha, lo que significa que hay una mayor concentración de viajes con duraciones más cortas y menos frecuentes a medida que aumenta la duración. la media de cada viaje es de 746. La desviación estándar de 525 demuestra una alta variabilidad en la duración de los viajes. El análisis de los percentiles demuestra que  El 75% de los viajes tienen una duración de 988 unidades de tiempo o menos. Además de que el viaje más largo fue de 3573.*"
      ]
    },
    {
      "cell_type": "markdown",
      "metadata": {
        "id": "HV7x7w_uozK9"
      },
      "source": [
        "# Entidades y relaciones"
      ]
    },
    {
      "cell_type": "markdown",
      "metadata": {
        "id": "9s81H5rpozK9"
      },
      "source": [
        "Construya un diccionario de entidades y relaciones. Puede consultar el formato de estos objetos [aquí](https://docs.featuretools.com/en/stable/generated/featuretools.dfs.html)."
      ]
    },
    {
      "cell_type": "code",
      "source": [
        "trips, pickup_neighborhoods, dropoff_neighborhoods = load_nyc_taxi_data()"
      ],
      "metadata": {
        "id": "ObsQB7nSSOMr"
      },
      "execution_count": 17,
      "outputs": []
    },
    {
      "cell_type": "code",
      "execution_count": 18,
      "metadata": {
        "id": "HhMpyG-hozK-"
      },
      "outputs": [],
      "source": [
        "# Construya el diccionario de entidades y relaciones\n",
        "\n",
        "entities = {\n",
        "    \"trips\": (trips, \"id\", 'pickup_datetime'),\n",
        "    \"pickup_neighborhoods\": (pickup_neighborhoods, \"neighborhood_id\"),\n",
        "    \"dropoff_neighborhoods\": (dropoff_neighborhoods, \"neighborhood_id\"),\n",
        "}\n",
        "\n",
        "relationships = [(\"pickup_neighborhoods\", \"neighborhood_id\", \"trips\", \"pickup_neighborhood\"),\n",
        "                 (\"dropoff_neighborhoods\", \"neighborhood_id\", \"trips\", \"dropoff_neighborhood\")]"
      ]
    },
    {
      "cell_type": "markdown",
      "metadata": {
        "id": "df_Ukri2ozLB"
      },
      "source": [
        "# Primitivas de transformación"
      ]
    },
    {
      "cell_type": "code",
      "execution_count": 19,
      "metadata": {
        "id": "xFwj-8UGozLC"
      },
      "outputs": [],
      "source": [
        "# Cree una lista de primitivas de transformación que sólo contenga el objeto Weekend"
      ]
    },
    {
      "cell_type": "code",
      "source": [
        "trans_primitives = [Weekend]"
      ],
      "metadata": {
        "id": "S6FBwN03TPiB"
      },
      "execution_count": 20,
      "outputs": []
    },
    {
      "cell_type": "code",
      "execution_count": 21,
      "metadata": {
        "id": "srufqJR5ozLD"
      },
      "outputs": [],
      "source": [
        "# Use featuretools.dfs para obtener los atributos\n",
        "# Consulte https://docs.featuretools.com/generated/featuretools.dfs.html\n",
        "# La entidad objetivo debería coincidir en nombre con la entidad de trips de su diccionario de entidades\n",
        "# no use agg_primitives todavía\n",
        "# ignore las latitudes/longitudes de salida y llegada"
      ]
    },
    {
      "cell_type": "code",
      "source": [
        "features = ft.dfs(entities=entities,\n",
        "                  relationships=relationships,\n",
        "                  target_entity=\"trips\",\n",
        "                  trans_primitives=trans_primitives,\n",
        "                  agg_primitives=[],\n",
        "                  ignore_variables={\"trips\": [\"pickup_latitude\", \"pickup_longitude\",\n",
        "                                              \"dropoff_latitude\", \"dropoff_longitude\", \"trip_duration\"]},\n",
        "                  features_only=True)"
      ],
      "metadata": {
        "id": "bvcfheBHTO2H"
      },
      "execution_count": 22,
      "outputs": []
    },
    {
      "cell_type": "code",
      "execution_count": 23,
      "metadata": {
        "id": "wR5G1Tq1ozLF"
      },
      "outputs": [],
      "source": [
        "# Muestre los atributos que acaba de crear"
      ]
    },
    {
      "cell_type": "code",
      "source": [
        "print(f\"Número de atributos: {len(features)}\")\n",
        "features"
      ],
      "metadata": {
        "colab": {
          "base_uri": "https://localhost:8080/",
          "height": 0
        },
        "id": "r4n-pSdzTWhe",
        "outputId": "9f79f10f-7eac-43c3-c364-118ae0d77798"
      },
      "execution_count": 24,
      "outputs": [
        {
          "output_type": "stream",
          "name": "stdout",
          "text": [
            "Número de atributos: 12\n"
          ]
        },
        {
          "output_type": "execute_result",
          "data": {
            "text/plain": [
              "[<Feature: vendor_id>,\n",
              " <Feature: passenger_count>,\n",
              " <Feature: trip_distance>,\n",
              " <Feature: payment_type>,\n",
              " <Feature: pickup_neighborhood>,\n",
              " <Feature: dropoff_neighborhood>,\n",
              " <Feature: WEEKEND(pickup_datetime)>,\n",
              " <Feature: WEEKEND(dropoff_datetime)>,\n",
              " <Feature: pickup_neighborhoods.latitude>,\n",
              " <Feature: pickup_neighborhoods.longitude>,\n",
              " <Feature: dropoff_neighborhoods.latitude>,\n",
              " <Feature: dropoff_neighborhoods.longitude>]"
            ]
          },
          "metadata": {},
          "execution_count": 24
        }
      ]
    },
    {
      "cell_type": "code",
      "execution_count": 25,
      "metadata": {
        "id": "N-50o9kIozLH"
      },
      "outputs": [],
      "source": [
        "# Use compute_features para obtener la matriz de atributos de la lista de atributos que acaba de crear"
      ]
    },
    {
      "cell_type": "code",
      "source": [
        "feature_matrix = compute_features(features, entities, relationships)\n",
        "preview(feature_matrix, 5)"
      ],
      "metadata": {
        "colab": {
          "base_uri": "https://localhost:8080/",
          "height": 1797
        },
        "id": "uKNgNL08W4hk",
        "outputId": "0df2d361-61b7-477c-e098-c0c5166c6319"
      },
      "execution_count": 26,
      "outputs": [
        {
          "output_type": "stream",
          "name": "stdout",
          "text": [
            "Elapsed: 00:00 | Remaining: 00:01 | Progress:  10%|█         | Calculated: 1/10 chunks"
          ]
        },
        {
          "output_type": "stream",
          "name": "stderr",
          "text": [
            "/usr/local/lib/python3.10/dist-packages/featuretools/entityset/entity.py:249: FutureWarning: The default dtype for empty Series will be 'object' instead of 'float64' in a future version. Specify a dtype explicitly to silence this warning.\n",
            "  my_id_vals = pd.Series([]).append(to_append)\n",
            "/usr/local/lib/python3.10/dist-packages/featuretools/entityset/entity.py:249: FutureWarning: The series.append method is deprecated and will be removed from pandas in a future version. Use pandas.concat instead.\n",
            "  my_id_vals = pd.Series([]).append(to_append)\n",
            "/usr/local/lib/python3.10/dist-packages/featuretools/entityset/entity.py:249: FutureWarning: The default dtype for empty Series will be 'object' instead of 'float64' in a future version. Specify a dtype explicitly to silence this warning.\n",
            "  my_id_vals = pd.Series([]).append(to_append)\n",
            "/usr/local/lib/python3.10/dist-packages/featuretools/entityset/entity.py:249: FutureWarning: The series.append method is deprecated and will be removed from pandas in a future version. Use pandas.concat instead.\n",
            "  my_id_vals = pd.Series([]).append(to_append)\n",
            "/usr/local/lib/python3.10/dist-packages/featuretools/entityset/entity.py:249: FutureWarning: The default dtype for empty Series will be 'object' instead of 'float64' in a future version. Specify a dtype explicitly to silence this warning.\n",
            "  my_id_vals = pd.Series([]).append(to_append)\n",
            "/usr/local/lib/python3.10/dist-packages/featuretools/entityset/entity.py:249: FutureWarning: The series.append method is deprecated and will be removed from pandas in a future version. Use pandas.concat instead.\n",
            "  my_id_vals = pd.Series([]).append(to_append)\n",
            "/usr/local/lib/python3.10/dist-packages/featuretools/entityset/entity.py:249: FutureWarning: The default dtype for empty Series will be 'object' instead of 'float64' in a future version. Specify a dtype explicitly to silence this warning.\n",
            "  my_id_vals = pd.Series([]).append(to_append)\n",
            "/usr/local/lib/python3.10/dist-packages/featuretools/entityset/entity.py:249: FutureWarning: The series.append method is deprecated and will be removed from pandas in a future version. Use pandas.concat instead.\n",
            "  my_id_vals = pd.Series([]).append(to_append)\n"
          ]
        },
        {
          "output_type": "stream",
          "name": "stdout",
          "text": [
            "Elapsed: 00:00 | Remaining: 00:01 | Progress:  30%|███       | Calculated: 3/10 chunks"
          ]
        },
        {
          "output_type": "stream",
          "name": "stderr",
          "text": [
            "/usr/local/lib/python3.10/dist-packages/featuretools/entityset/entity.py:249: FutureWarning: The default dtype for empty Series will be 'object' instead of 'float64' in a future version. Specify a dtype explicitly to silence this warning.\n",
            "  my_id_vals = pd.Series([]).append(to_append)\n",
            "/usr/local/lib/python3.10/dist-packages/featuretools/entityset/entity.py:249: FutureWarning: The series.append method is deprecated and will be removed from pandas in a future version. Use pandas.concat instead.\n",
            "  my_id_vals = pd.Series([]).append(to_append)\n",
            "/usr/local/lib/python3.10/dist-packages/featuretools/entityset/entity.py:249: FutureWarning: The default dtype for empty Series will be 'object' instead of 'float64' in a future version. Specify a dtype explicitly to silence this warning.\n",
            "  my_id_vals = pd.Series([]).append(to_append)\n",
            "/usr/local/lib/python3.10/dist-packages/featuretools/entityset/entity.py:249: FutureWarning: The series.append method is deprecated and will be removed from pandas in a future version. Use pandas.concat instead.\n",
            "  my_id_vals = pd.Series([]).append(to_append)\n",
            "/usr/local/lib/python3.10/dist-packages/featuretools/entityset/entity.py:249: FutureWarning: The default dtype for empty Series will be 'object' instead of 'float64' in a future version. Specify a dtype explicitly to silence this warning.\n",
            "  my_id_vals = pd.Series([]).append(to_append)\n",
            "/usr/local/lib/python3.10/dist-packages/featuretools/entityset/entity.py:249: FutureWarning: The series.append method is deprecated and will be removed from pandas in a future version. Use pandas.concat instead.\n",
            "  my_id_vals = pd.Series([]).append(to_append)\n",
            "/usr/local/lib/python3.10/dist-packages/featuretools/entityset/entity.py:249: FutureWarning: The default dtype for empty Series will be 'object' instead of 'float64' in a future version. Specify a dtype explicitly to silence this warning.\n",
            "  my_id_vals = pd.Series([]).append(to_append)\n",
            "/usr/local/lib/python3.10/dist-packages/featuretools/entityset/entity.py:249: FutureWarning: The series.append method is deprecated and will be removed from pandas in a future version. Use pandas.concat instead.\n",
            "  my_id_vals = pd.Series([]).append(to_append)\n"
          ]
        },
        {
          "output_type": "stream",
          "name": "stdout",
          "text": [
            "Elapsed: 00:00 | Remaining: 00:00 | Progress:  50%|█████     | Calculated: 5/10 chunks"
          ]
        },
        {
          "output_type": "stream",
          "name": "stderr",
          "text": [
            "/usr/local/lib/python3.10/dist-packages/featuretools/entityset/entity.py:249: FutureWarning: The default dtype for empty Series will be 'object' instead of 'float64' in a future version. Specify a dtype explicitly to silence this warning.\n",
            "  my_id_vals = pd.Series([]).append(to_append)\n",
            "/usr/local/lib/python3.10/dist-packages/featuretools/entityset/entity.py:249: FutureWarning: The series.append method is deprecated and will be removed from pandas in a future version. Use pandas.concat instead.\n",
            "  my_id_vals = pd.Series([]).append(to_append)\n",
            "/usr/local/lib/python3.10/dist-packages/featuretools/entityset/entity.py:249: FutureWarning: The default dtype for empty Series will be 'object' instead of 'float64' in a future version. Specify a dtype explicitly to silence this warning.\n",
            "  my_id_vals = pd.Series([]).append(to_append)\n",
            "/usr/local/lib/python3.10/dist-packages/featuretools/entityset/entity.py:249: FutureWarning: The series.append method is deprecated and will be removed from pandas in a future version. Use pandas.concat instead.\n",
            "  my_id_vals = pd.Series([]).append(to_append)\n",
            "/usr/local/lib/python3.10/dist-packages/featuretools/entityset/entity.py:249: FutureWarning: The default dtype for empty Series will be 'object' instead of 'float64' in a future version. Specify a dtype explicitly to silence this warning.\n",
            "  my_id_vals = pd.Series([]).append(to_append)\n",
            "/usr/local/lib/python3.10/dist-packages/featuretools/entityset/entity.py:249: FutureWarning: The series.append method is deprecated and will be removed from pandas in a future version. Use pandas.concat instead.\n",
            "  my_id_vals = pd.Series([]).append(to_append)\n",
            "/usr/local/lib/python3.10/dist-packages/featuretools/entityset/entity.py:249: FutureWarning: The default dtype for empty Series will be 'object' instead of 'float64' in a future version. Specify a dtype explicitly to silence this warning.\n",
            "  my_id_vals = pd.Series([]).append(to_append)\n",
            "/usr/local/lib/python3.10/dist-packages/featuretools/entityset/entity.py:249: FutureWarning: The series.append method is deprecated and will be removed from pandas in a future version. Use pandas.concat instead.\n",
            "  my_id_vals = pd.Series([]).append(to_append)\n"
          ]
        },
        {
          "output_type": "stream",
          "name": "stdout",
          "text": [
            "Elapsed: 00:01 | Remaining: 00:00 | Progress:  70%|███████   | Calculated: 7/10 chunks"
          ]
        },
        {
          "output_type": "stream",
          "name": "stderr",
          "text": [
            "/usr/local/lib/python3.10/dist-packages/featuretools/entityset/entity.py:249: FutureWarning: The default dtype for empty Series will be 'object' instead of 'float64' in a future version. Specify a dtype explicitly to silence this warning.\n",
            "  my_id_vals = pd.Series([]).append(to_append)\n",
            "/usr/local/lib/python3.10/dist-packages/featuretools/entityset/entity.py:249: FutureWarning: The series.append method is deprecated and will be removed from pandas in a future version. Use pandas.concat instead.\n",
            "  my_id_vals = pd.Series([]).append(to_append)\n",
            "/usr/local/lib/python3.10/dist-packages/featuretools/entityset/entity.py:249: FutureWarning: The default dtype for empty Series will be 'object' instead of 'float64' in a future version. Specify a dtype explicitly to silence this warning.\n",
            "  my_id_vals = pd.Series([]).append(to_append)\n",
            "/usr/local/lib/python3.10/dist-packages/featuretools/entityset/entity.py:249: FutureWarning: The series.append method is deprecated and will be removed from pandas in a future version. Use pandas.concat instead.\n",
            "  my_id_vals = pd.Series([]).append(to_append)\n",
            "/usr/local/lib/python3.10/dist-packages/featuretools/entityset/entity.py:249: FutureWarning: The default dtype for empty Series will be 'object' instead of 'float64' in a future version. Specify a dtype explicitly to silence this warning.\n",
            "  my_id_vals = pd.Series([]).append(to_append)\n",
            "/usr/local/lib/python3.10/dist-packages/featuretools/entityset/entity.py:249: FutureWarning: The series.append method is deprecated and will be removed from pandas in a future version. Use pandas.concat instead.\n",
            "  my_id_vals = pd.Series([]).append(to_append)\n",
            "/usr/local/lib/python3.10/dist-packages/featuretools/entityset/entity.py:249: FutureWarning: The default dtype for empty Series will be 'object' instead of 'float64' in a future version. Specify a dtype explicitly to silence this warning.\n",
            "  my_id_vals = pd.Series([]).append(to_append)\n",
            "/usr/local/lib/python3.10/dist-packages/featuretools/entityset/entity.py:249: FutureWarning: The series.append method is deprecated and will be removed from pandas in a future version. Use pandas.concat instead.\n",
            "  my_id_vals = pd.Series([]).append(to_append)\n"
          ]
        },
        {
          "output_type": "stream",
          "name": "stdout",
          "text": [
            "Elapsed: 00:01 | Remaining: 00:00 | Progress:  90%|█████████ | Calculated: 9/10 chunks"
          ]
        },
        {
          "output_type": "stream",
          "name": "stderr",
          "text": [
            "/usr/local/lib/python3.10/dist-packages/featuretools/entityset/entity.py:249: FutureWarning: The default dtype for empty Series will be 'object' instead of 'float64' in a future version. Specify a dtype explicitly to silence this warning.\n",
            "  my_id_vals = pd.Series([]).append(to_append)\n",
            "/usr/local/lib/python3.10/dist-packages/featuretools/entityset/entity.py:249: FutureWarning: The series.append method is deprecated and will be removed from pandas in a future version. Use pandas.concat instead.\n",
            "  my_id_vals = pd.Series([]).append(to_append)\n",
            "/usr/local/lib/python3.10/dist-packages/featuretools/entityset/entity.py:249: FutureWarning: The default dtype for empty Series will be 'object' instead of 'float64' in a future version. Specify a dtype explicitly to silence this warning.\n",
            "  my_id_vals = pd.Series([]).append(to_append)\n",
            "/usr/local/lib/python3.10/dist-packages/featuretools/entityset/entity.py:249: FutureWarning: The series.append method is deprecated and will be removed from pandas in a future version. Use pandas.concat instead.\n",
            "  my_id_vals = pd.Series([]).append(to_append)\n",
            "/usr/local/lib/python3.10/dist-packages/featuretools/entityset/entity.py:249: FutureWarning: The default dtype for empty Series will be 'object' instead of 'float64' in a future version. Specify a dtype explicitly to silence this warning.\n",
            "  my_id_vals = pd.Series([]).append(to_append)\n",
            "/usr/local/lib/python3.10/dist-packages/featuretools/entityset/entity.py:249: FutureWarning: The series.append method is deprecated and will be removed from pandas in a future version. Use pandas.concat instead.\n",
            "  my_id_vals = pd.Series([]).append(to_append)\n",
            "/usr/local/lib/python3.10/dist-packages/featuretools/entityset/entity.py:249: FutureWarning: The default dtype for empty Series will be 'object' instead of 'float64' in a future version. Specify a dtype explicitly to silence this warning.\n",
            "  my_id_vals = pd.Series([]).append(to_append)\n"
          ]
        },
        {
          "output_type": "stream",
          "name": "stdout",
          "text": [
            "Elapsed: 00:01 | Remaining: 00:00 | Progress: 100%|██████████| Calculated: 10/10 chunks\n"
          ]
        },
        {
          "output_type": "stream",
          "name": "stderr",
          "text": [
            "/usr/local/lib/python3.10/dist-packages/featuretools/entityset/entity.py:249: FutureWarning: The series.append method is deprecated and will be removed from pandas in a future version. Use pandas.concat instead.\n",
            "  my_id_vals = pd.Series([]).append(to_append)\n"
          ]
        },
        {
          "output_type": "stream",
          "name": "stdout",
          "text": [
            "Finishing computing...\n"
          ]
        },
        {
          "output_type": "stream",
          "name": "stderr",
          "text": [
            "/usr/local/lib/python3.10/dist-packages/featuretools/synthesis/encode_features.py:110: PerformanceWarning: DataFrame is highly fragmented.  This is usually the result of calling `frame.insert` many times, which has poor performance.  Consider joining all columns at once using pd.concat(axis=1) instead. To get a de-fragmented frame, use `newframe = frame.copy()`\n",
            "  X[add.get_name()] = (X[f.get_name()] == label).astype(int)\n",
            "/usr/local/lib/python3.10/dist-packages/featuretools/synthesis/encode_features.py:110: PerformanceWarning: DataFrame is highly fragmented.  This is usually the result of calling `frame.insert` many times, which has poor performance.  Consider joining all columns at once using pd.concat(axis=1) instead. To get a de-fragmented frame, use `newframe = frame.copy()`\n",
            "  X[add.get_name()] = (X[f.get_name()] == label).astype(int)\n"
          ]
        },
        {
          "output_type": "execute_result",
          "data": {
            "text/plain": [
              "        dropoff_neighborhoods.latitude  pickup_neighborhoods.longitude  \\\n",
              "id                                                                       \n",
              "514030                       40.766809                      -73.986446   \n",
              "514031                       40.793597                      -73.919159   \n",
              "514032                       40.740333                      -73.991595   \n",
              "514033                       40.720245                      -73.987205   \n",
              "514034                       40.785005                      -73.785073   \n",
              "\n",
              "        pickup_neighborhood = AA  pickup_neighborhood = D  \\\n",
              "id                                                          \n",
              "514030                         1                        0   \n",
              "514031                         0                        0   \n",
              "514032                         0                        0   \n",
              "514033                         0                        0   \n",
              "514034                         0                        0   \n",
              "\n",
              "        pickup_neighborhood = AC  pickup_neighborhood = AB  \\\n",
              "id                                                           \n",
              "514030                         0                         0   \n",
              "514031                         0                         0   \n",
              "514032                         0                         0   \n",
              "514033                         1                         0   \n",
              "514034                         0                         0   \n",
              "\n",
              "        pickup_neighborhood = AO  pickup_neighborhood = AD  \\\n",
              "id                                                           \n",
              "514030                         0                         0   \n",
              "514031                         0                         0   \n",
              "514032                         0                         0   \n",
              "514033                         0                         0   \n",
              "514034                         0                         0   \n",
              "\n",
              "        pickup_neighborhood = Q  pickup_neighborhood = AR  ...  \\\n",
              "id                                                         ...   \n",
              "514030                        0                         0  ...   \n",
              "514031                        0                         0  ...   \n",
              "514032                        0                         0  ...   \n",
              "514033                        0                         0  ...   \n",
              "514034                        0                         0  ...   \n",
              "\n",
              "        dropoff_neighborhood = L  dropoff_neighborhood = M  \\\n",
              "id                                                           \n",
              "514030                         0                         0   \n",
              "514031                         0                         0   \n",
              "514032                         0                         0   \n",
              "514033                         0                         0   \n",
              "514034                         0                         0   \n",
              "\n",
              "        dropoff_neighborhood = AF  dropoff_neighborhood = T  \\\n",
              "id                                                            \n",
              "514030                          0                         0   \n",
              "514031                          0                         0   \n",
              "514032                          0                         0   \n",
              "514033                          0                         0   \n",
              "514034                          0                         0   \n",
              "\n",
              "        dropoff_neighborhood = B  dropoff_neighborhood = AI  \\\n",
              "id                                                            \n",
              "514030                         0                          0   \n",
              "514031                         0                          0   \n",
              "514032                         0                          0   \n",
              "514033                         0                          0   \n",
              "514034                         0                          0   \n",
              "\n",
              "        dropoff_neighborhood = AE  dropoff_neighborhood = AQ  vendor_id  \\\n",
              "id                                                                        \n",
              "514030                          0                          0          2   \n",
              "514031                          0                          0          1   \n",
              "514032                          0                          0          1   \n",
              "514033                          0                          0          2   \n",
              "514034                          0                          0          1   \n",
              "\n",
              "        passenger_count  \n",
              "id                       \n",
              "514030                1  \n",
              "514031                2  \n",
              "514032                1  \n",
              "514033                1  \n",
              "514034                2  \n",
              "\n",
              "[5 rows x 108 columns]"
            ],
            "text/html": [
              "\n",
              "  <div id=\"df-60ea10da-2bb4-44f2-9adc-50f846670977\" class=\"colab-df-container\">\n",
              "    <div>\n",
              "<style scoped>\n",
              "    .dataframe tbody tr th:only-of-type {\n",
              "        vertical-align: middle;\n",
              "    }\n",
              "\n",
              "    .dataframe tbody tr th {\n",
              "        vertical-align: top;\n",
              "    }\n",
              "\n",
              "    .dataframe thead th {\n",
              "        text-align: right;\n",
              "    }\n",
              "</style>\n",
              "<table border=\"1\" class=\"dataframe\">\n",
              "  <thead>\n",
              "    <tr style=\"text-align: right;\">\n",
              "      <th></th>\n",
              "      <th>dropoff_neighborhoods.latitude</th>\n",
              "      <th>pickup_neighborhoods.longitude</th>\n",
              "      <th>pickup_neighborhood = AA</th>\n",
              "      <th>pickup_neighborhood = D</th>\n",
              "      <th>pickup_neighborhood = AC</th>\n",
              "      <th>pickup_neighborhood = AB</th>\n",
              "      <th>pickup_neighborhood = AO</th>\n",
              "      <th>pickup_neighborhood = AD</th>\n",
              "      <th>pickup_neighborhood = Q</th>\n",
              "      <th>pickup_neighborhood = AR</th>\n",
              "      <th>...</th>\n",
              "      <th>dropoff_neighborhood = L</th>\n",
              "      <th>dropoff_neighborhood = M</th>\n",
              "      <th>dropoff_neighborhood = AF</th>\n",
              "      <th>dropoff_neighborhood = T</th>\n",
              "      <th>dropoff_neighborhood = B</th>\n",
              "      <th>dropoff_neighborhood = AI</th>\n",
              "      <th>dropoff_neighborhood = AE</th>\n",
              "      <th>dropoff_neighborhood = AQ</th>\n",
              "      <th>vendor_id</th>\n",
              "      <th>passenger_count</th>\n",
              "    </tr>\n",
              "    <tr>\n",
              "      <th>id</th>\n",
              "      <th></th>\n",
              "      <th></th>\n",
              "      <th></th>\n",
              "      <th></th>\n",
              "      <th></th>\n",
              "      <th></th>\n",
              "      <th></th>\n",
              "      <th></th>\n",
              "      <th></th>\n",
              "      <th></th>\n",
              "      <th></th>\n",
              "      <th></th>\n",
              "      <th></th>\n",
              "      <th></th>\n",
              "      <th></th>\n",
              "      <th></th>\n",
              "      <th></th>\n",
              "      <th></th>\n",
              "      <th></th>\n",
              "      <th></th>\n",
              "      <th></th>\n",
              "    </tr>\n",
              "  </thead>\n",
              "  <tbody>\n",
              "    <tr>\n",
              "      <th>514030</th>\n",
              "      <td>40.766809</td>\n",
              "      <td>-73.986446</td>\n",
              "      <td>1</td>\n",
              "      <td>0</td>\n",
              "      <td>0</td>\n",
              "      <td>0</td>\n",
              "      <td>0</td>\n",
              "      <td>0</td>\n",
              "      <td>0</td>\n",
              "      <td>0</td>\n",
              "      <td>...</td>\n",
              "      <td>0</td>\n",
              "      <td>0</td>\n",
              "      <td>0</td>\n",
              "      <td>0</td>\n",
              "      <td>0</td>\n",
              "      <td>0</td>\n",
              "      <td>0</td>\n",
              "      <td>0</td>\n",
              "      <td>2</td>\n",
              "      <td>1</td>\n",
              "    </tr>\n",
              "    <tr>\n",
              "      <th>514031</th>\n",
              "      <td>40.793597</td>\n",
              "      <td>-73.919159</td>\n",
              "      <td>0</td>\n",
              "      <td>0</td>\n",
              "      <td>0</td>\n",
              "      <td>0</td>\n",
              "      <td>0</td>\n",
              "      <td>0</td>\n",
              "      <td>0</td>\n",
              "      <td>0</td>\n",
              "      <td>...</td>\n",
              "      <td>0</td>\n",
              "      <td>0</td>\n",
              "      <td>0</td>\n",
              "      <td>0</td>\n",
              "      <td>0</td>\n",
              "      <td>0</td>\n",
              "      <td>0</td>\n",
              "      <td>0</td>\n",
              "      <td>1</td>\n",
              "      <td>2</td>\n",
              "    </tr>\n",
              "    <tr>\n",
              "      <th>514032</th>\n",
              "      <td>40.740333</td>\n",
              "      <td>-73.991595</td>\n",
              "      <td>0</td>\n",
              "      <td>0</td>\n",
              "      <td>0</td>\n",
              "      <td>0</td>\n",
              "      <td>0</td>\n",
              "      <td>0</td>\n",
              "      <td>0</td>\n",
              "      <td>0</td>\n",
              "      <td>...</td>\n",
              "      <td>0</td>\n",
              "      <td>0</td>\n",
              "      <td>0</td>\n",
              "      <td>0</td>\n",
              "      <td>0</td>\n",
              "      <td>0</td>\n",
              "      <td>0</td>\n",
              "      <td>0</td>\n",
              "      <td>1</td>\n",
              "      <td>1</td>\n",
              "    </tr>\n",
              "    <tr>\n",
              "      <th>514033</th>\n",
              "      <td>40.720245</td>\n",
              "      <td>-73.987205</td>\n",
              "      <td>0</td>\n",
              "      <td>0</td>\n",
              "      <td>1</td>\n",
              "      <td>0</td>\n",
              "      <td>0</td>\n",
              "      <td>0</td>\n",
              "      <td>0</td>\n",
              "      <td>0</td>\n",
              "      <td>...</td>\n",
              "      <td>0</td>\n",
              "      <td>0</td>\n",
              "      <td>0</td>\n",
              "      <td>0</td>\n",
              "      <td>0</td>\n",
              "      <td>0</td>\n",
              "      <td>0</td>\n",
              "      <td>0</td>\n",
              "      <td>2</td>\n",
              "      <td>1</td>\n",
              "    </tr>\n",
              "    <tr>\n",
              "      <th>514034</th>\n",
              "      <td>40.785005</td>\n",
              "      <td>-73.785073</td>\n",
              "      <td>0</td>\n",
              "      <td>0</td>\n",
              "      <td>0</td>\n",
              "      <td>0</td>\n",
              "      <td>0</td>\n",
              "      <td>0</td>\n",
              "      <td>0</td>\n",
              "      <td>0</td>\n",
              "      <td>...</td>\n",
              "      <td>0</td>\n",
              "      <td>0</td>\n",
              "      <td>0</td>\n",
              "      <td>0</td>\n",
              "      <td>0</td>\n",
              "      <td>0</td>\n",
              "      <td>0</td>\n",
              "      <td>0</td>\n",
              "      <td>1</td>\n",
              "      <td>2</td>\n",
              "    </tr>\n",
              "  </tbody>\n",
              "</table>\n",
              "<p>5 rows × 108 columns</p>\n",
              "</div>\n",
              "    <div class=\"colab-df-buttons\">\n",
              "\n",
              "  <div class=\"colab-df-container\">\n",
              "    <button class=\"colab-df-convert\" onclick=\"convertToInteractive('df-60ea10da-2bb4-44f2-9adc-50f846670977')\"\n",
              "            title=\"Convert this dataframe to an interactive table.\"\n",
              "            style=\"display:none;\">\n",
              "\n",
              "  <svg xmlns=\"http://www.w3.org/2000/svg\" height=\"24px\" viewBox=\"0 -960 960 960\">\n",
              "    <path d=\"M120-120v-720h720v720H120Zm60-500h600v-160H180v160Zm220 220h160v-160H400v160Zm0 220h160v-160H400v160ZM180-400h160v-160H180v160Zm440 0h160v-160H620v160ZM180-180h160v-160H180v160Zm440 0h160v-160H620v160Z\"/>\n",
              "  </svg>\n",
              "    </button>\n",
              "\n",
              "  <style>\n",
              "    .colab-df-container {\n",
              "      display:flex;\n",
              "      gap: 12px;\n",
              "    }\n",
              "\n",
              "    .colab-df-convert {\n",
              "      background-color: #E8F0FE;\n",
              "      border: none;\n",
              "      border-radius: 50%;\n",
              "      cursor: pointer;\n",
              "      display: none;\n",
              "      fill: #1967D2;\n",
              "      height: 32px;\n",
              "      padding: 0 0 0 0;\n",
              "      width: 32px;\n",
              "    }\n",
              "\n",
              "    .colab-df-convert:hover {\n",
              "      background-color: #E2EBFA;\n",
              "      box-shadow: 0px 1px 2px rgba(60, 64, 67, 0.3), 0px 1px 3px 1px rgba(60, 64, 67, 0.15);\n",
              "      fill: #174EA6;\n",
              "    }\n",
              "\n",
              "    .colab-df-buttons div {\n",
              "      margin-bottom: 4px;\n",
              "    }\n",
              "\n",
              "    [theme=dark] .colab-df-convert {\n",
              "      background-color: #3B4455;\n",
              "      fill: #D2E3FC;\n",
              "    }\n",
              "\n",
              "    [theme=dark] .colab-df-convert:hover {\n",
              "      background-color: #434B5C;\n",
              "      box-shadow: 0px 1px 3px 1px rgba(0, 0, 0, 0.15);\n",
              "      filter: drop-shadow(0px 1px 2px rgba(0, 0, 0, 0.3));\n",
              "      fill: #FFFFFF;\n",
              "    }\n",
              "  </style>\n",
              "\n",
              "    <script>\n",
              "      const buttonEl =\n",
              "        document.querySelector('#df-60ea10da-2bb4-44f2-9adc-50f846670977 button.colab-df-convert');\n",
              "      buttonEl.style.display =\n",
              "        google.colab.kernel.accessAllowed ? 'block' : 'none';\n",
              "\n",
              "      async function convertToInteractive(key) {\n",
              "        const element = document.querySelector('#df-60ea10da-2bb4-44f2-9adc-50f846670977');\n",
              "        const dataTable =\n",
              "          await google.colab.kernel.invokeFunction('convertToInteractive',\n",
              "                                                    [key], {});\n",
              "        if (!dataTable) return;\n",
              "\n",
              "        const docLinkHtml = 'Like what you see? Visit the ' +\n",
              "          '<a target=\"_blank\" href=https://colab.research.google.com/notebooks/data_table.ipynb>data table notebook</a>'\n",
              "          + ' to learn more about interactive tables.';\n",
              "        element.innerHTML = '';\n",
              "        dataTable['output_type'] = 'display_data';\n",
              "        await google.colab.output.renderOutput(dataTable, element);\n",
              "        const docLink = document.createElement('div');\n",
              "        docLink.innerHTML = docLinkHtml;\n",
              "        element.appendChild(docLink);\n",
              "      }\n",
              "    </script>\n",
              "  </div>\n",
              "\n",
              "\n",
              "<div id=\"df-f5289962-8577-4a86-a07e-00dff1746545\">\n",
              "  <button class=\"colab-df-quickchart\" onclick=\"quickchart('df-f5289962-8577-4a86-a07e-00dff1746545')\"\n",
              "            title=\"Suggest charts\"\n",
              "            style=\"display:none;\">\n",
              "\n",
              "<svg xmlns=\"http://www.w3.org/2000/svg\" height=\"24px\"viewBox=\"0 0 24 24\"\n",
              "     width=\"24px\">\n",
              "    <g>\n",
              "        <path d=\"M19 3H5c-1.1 0-2 .9-2 2v14c0 1.1.9 2 2 2h14c1.1 0 2-.9 2-2V5c0-1.1-.9-2-2-2zM9 17H7v-7h2v7zm4 0h-2V7h2v10zm4 0h-2v-4h2v4z\"/>\n",
              "    </g>\n",
              "</svg>\n",
              "  </button>\n",
              "\n",
              "<style>\n",
              "  .colab-df-quickchart {\n",
              "      --bg-color: #E8F0FE;\n",
              "      --fill-color: #1967D2;\n",
              "      --hover-bg-color: #E2EBFA;\n",
              "      --hover-fill-color: #174EA6;\n",
              "      --disabled-fill-color: #AAA;\n",
              "      --disabled-bg-color: #DDD;\n",
              "  }\n",
              "\n",
              "  [theme=dark] .colab-df-quickchart {\n",
              "      --bg-color: #3B4455;\n",
              "      --fill-color: #D2E3FC;\n",
              "      --hover-bg-color: #434B5C;\n",
              "      --hover-fill-color: #FFFFFF;\n",
              "      --disabled-bg-color: #3B4455;\n",
              "      --disabled-fill-color: #666;\n",
              "  }\n",
              "\n",
              "  .colab-df-quickchart {\n",
              "    background-color: var(--bg-color);\n",
              "    border: none;\n",
              "    border-radius: 50%;\n",
              "    cursor: pointer;\n",
              "    display: none;\n",
              "    fill: var(--fill-color);\n",
              "    height: 32px;\n",
              "    padding: 0;\n",
              "    width: 32px;\n",
              "  }\n",
              "\n",
              "  .colab-df-quickchart:hover {\n",
              "    background-color: var(--hover-bg-color);\n",
              "    box-shadow: 0 1px 2px rgba(60, 64, 67, 0.3), 0 1px 3px 1px rgba(60, 64, 67, 0.15);\n",
              "    fill: var(--button-hover-fill-color);\n",
              "  }\n",
              "\n",
              "  .colab-df-quickchart-complete:disabled,\n",
              "  .colab-df-quickchart-complete:disabled:hover {\n",
              "    background-color: var(--disabled-bg-color);\n",
              "    fill: var(--disabled-fill-color);\n",
              "    box-shadow: none;\n",
              "  }\n",
              "\n",
              "  .colab-df-spinner {\n",
              "    border: 2px solid var(--fill-color);\n",
              "    border-color: transparent;\n",
              "    border-bottom-color: var(--fill-color);\n",
              "    animation:\n",
              "      spin 1s steps(1) infinite;\n",
              "  }\n",
              "\n",
              "  @keyframes spin {\n",
              "    0% {\n",
              "      border-color: transparent;\n",
              "      border-bottom-color: var(--fill-color);\n",
              "      border-left-color: var(--fill-color);\n",
              "    }\n",
              "    20% {\n",
              "      border-color: transparent;\n",
              "      border-left-color: var(--fill-color);\n",
              "      border-top-color: var(--fill-color);\n",
              "    }\n",
              "    30% {\n",
              "      border-color: transparent;\n",
              "      border-left-color: var(--fill-color);\n",
              "      border-top-color: var(--fill-color);\n",
              "      border-right-color: var(--fill-color);\n",
              "    }\n",
              "    40% {\n",
              "      border-color: transparent;\n",
              "      border-right-color: var(--fill-color);\n",
              "      border-top-color: var(--fill-color);\n",
              "    }\n",
              "    60% {\n",
              "      border-color: transparent;\n",
              "      border-right-color: var(--fill-color);\n",
              "    }\n",
              "    80% {\n",
              "      border-color: transparent;\n",
              "      border-right-color: var(--fill-color);\n",
              "      border-bottom-color: var(--fill-color);\n",
              "    }\n",
              "    90% {\n",
              "      border-color: transparent;\n",
              "      border-bottom-color: var(--fill-color);\n",
              "    }\n",
              "  }\n",
              "</style>\n",
              "\n",
              "  <script>\n",
              "    async function quickchart(key) {\n",
              "      const quickchartButtonEl =\n",
              "        document.querySelector('#' + key + ' button');\n",
              "      quickchartButtonEl.disabled = true;  // To prevent multiple clicks.\n",
              "      quickchartButtonEl.classList.add('colab-df-spinner');\n",
              "      try {\n",
              "        const charts = await google.colab.kernel.invokeFunction(\n",
              "            'suggestCharts', [key], {});\n",
              "      } catch (error) {\n",
              "        console.error('Error during call to suggestCharts:', error);\n",
              "      }\n",
              "      quickchartButtonEl.classList.remove('colab-df-spinner');\n",
              "      quickchartButtonEl.classList.add('colab-df-quickchart-complete');\n",
              "    }\n",
              "    (() => {\n",
              "      let quickchartButtonEl =\n",
              "        document.querySelector('#df-f5289962-8577-4a86-a07e-00dff1746545 button');\n",
              "      quickchartButtonEl.style.display =\n",
              "        google.colab.kernel.accessAllowed ? 'block' : 'none';\n",
              "    })();\n",
              "  </script>\n",
              "</div>\n",
              "    </div>\n",
              "  </div>\n"
            ]
          },
          "metadata": {},
          "execution_count": 26
        }
      ]
    },
    {
      "cell_type": "code",
      "source": [
        "feature_matrix.columns"
      ],
      "metadata": {
        "colab": {
          "base_uri": "https://localhost:8080/",
          "height": 0
        },
        "id": "W-yw6nLWXC1R",
        "outputId": "ebb9b70c-6393-466b-9985-f3c0ac5e9d2c"
      },
      "execution_count": 27,
      "outputs": [
        {
          "output_type": "execute_result",
          "data": {
            "text/plain": [
              "Index(['dropoff_neighborhoods.latitude', 'pickup_neighborhoods.longitude',\n",
              "       'pickup_neighborhood = AA', 'pickup_neighborhood = D',\n",
              "       'pickup_neighborhood = AC', 'pickup_neighborhood = AB',\n",
              "       'pickup_neighborhood = AO', 'pickup_neighborhood = AD',\n",
              "       'pickup_neighborhood = Q', 'pickup_neighborhood = AR',\n",
              "       ...\n",
              "       'dropoff_neighborhood = L', 'dropoff_neighborhood = M',\n",
              "       'dropoff_neighborhood = AF', 'dropoff_neighborhood = T',\n",
              "       'dropoff_neighborhood = B', 'dropoff_neighborhood = AI',\n",
              "       'dropoff_neighborhood = AE', 'dropoff_neighborhood = AQ', 'vendor_id',\n",
              "       'passenger_count'],\n",
              "      dtype='object', length=108)"
            ]
          },
          "metadata": {},
          "execution_count": 27
        }
      ]
    },
    {
      "cell_type": "markdown",
      "metadata": {
        "id": "hYpYwlGuozLJ"
      },
      "source": [
        "# Primer modelo"
      ]
    },
    {
      "cell_type": "code",
      "execution_count": 28,
      "metadata": {
        "id": "HoAbCkLLozLK"
      },
      "outputs": [],
      "source": [
        "# Separe la matriz de atributos (75% entrenamiento, 25% prueba) usando utils.train_test_fm\n",
        "# Para ello, suministre los atributos, el dataframe trips, y la fracción de entrenamiento (0.75)\n",
        "# Use np.log(x + 1) para calcular el logaritmo de un vector x - esto ayuda a crear una relación más lineal\n",
        "\n",
        "# Separación de los datos de entrenamiento y prueba\n",
        "X_train, y_train, X_test, y_test = utils.get_train_test_fm(feature_matrix, trips, .75)\n",
        "y_train = np.log(y_train + 1)\n",
        "y_test = np.log(y_test + 1)"
      ]
    },
    {
      "cell_type": "code",
      "source": [
        "y_train"
      ],
      "metadata": {
        "colab": {
          "base_uri": "https://localhost:8080/",
          "height": 0
        },
        "id": "RZMk9MwxZTWo",
        "outputId": "ad537739-6ddf-403b-f01b-64102df83843"
      },
      "execution_count": 29,
      "outputs": [
        {
          "output_type": "execute_result",
          "data": {
            "text/plain": [
              "0       6.946976\n",
              "1       7.282761\n",
              "2       7.063904\n",
              "3       3.583519\n",
              "4       8.152198\n",
              "          ...   \n",
              "7495    6.447306\n",
              "7496    4.709530\n",
              "7497    7.287561\n",
              "7498    1.609438\n",
              "7499    6.218600\n",
              "Name: trip_duration, Length: 7500, dtype: float64"
            ]
          },
          "metadata": {},
          "execution_count": 29
        }
      ]
    },
    {
      "cell_type": "code",
      "execution_count": 30,
      "metadata": {
        "id": "5kMpPLfQozLN"
      },
      "outputs": [],
      "source": [
        "# Cree a GradientBoostingRegressor\n",
        "# Ajuste el modelo mediante su entrenamiento\n",
        "# Evalúelo en la prueba"
      ]
    },
    {
      "cell_type": "code",
      "source": [
        "model = GradientBoostingRegressor(verbose=True)\n",
        "model.fit(X_train, y_train)\n",
        "print(model.score(X_test, y_test)) # Valor R^2 de la predicción\n"
      ],
      "metadata": {
        "colab": {
          "base_uri": "https://localhost:8080/",
          "height": 0
        },
        "id": "dudkHhXPXa63",
        "outputId": "3ce21116-c43d-4f3b-d25b-b507f19d9be9"
      },
      "execution_count": 31,
      "outputs": [
        {
          "output_type": "stream",
          "name": "stdout",
          "text": [
            "      Iter       Train Loss   Remaining Time \n",
            "         1           0.4736            9.36s\n",
            "         2           0.4148            8.73s\n",
            "         3           0.3661            8.18s\n",
            "         4           0.3266            7.03s\n",
            "         5           0.2934            6.53s\n",
            "         6           0.2665            6.40s\n",
            "         7           0.2441            5.82s\n",
            "         8           0.2257            5.54s\n",
            "         9           0.2103            5.42s\n",
            "        10           0.1973            5.15s\n",
            "        20           0.1433            4.03s\n",
            "        30           0.1308            3.14s\n",
            "        40           0.1252            2.79s\n",
            "        50           0.1212            2.60s\n",
            "        60           0.1187            2.19s\n",
            "        70           0.1167            1.71s\n",
            "        80           0.1155            1.17s\n",
            "        90           0.1143            0.59s\n",
            "       100           0.1133            0.00s\n",
            "0.7554606406665475\n"
          ]
        }
      ]
    },
    {
      "cell_type": "markdown",
      "metadata": {
        "id": "ZvtJ4whbozLQ"
      },
      "source": [
        "<h1 style=\"color:red;\">PREGUNTA 2: PRIMER MODELO</h1>"
      ]
    },
    {
      "cell_type": "markdown",
      "metadata": {
        "id": "Fec2lR-qozLR"
      },
      "source": [
        "**Describa todos los atributos que hemos añadido al modelo. ¿Cree que han mejorado el desempeño respecto al modelo que no contaba con ellos? ¿Por qué?.\n",
        "\n",
        "# REPSUESTA\n",
        "Mejoró una décima en el cálculo de R2 respecto a ala predicción sin usar featuretools, lo cual es bastante poco. Quizá deba haber un proceso de selección más minucioso sobre aquellas variables que no estpen correlacionadas , por ejemplo, y seleccionar sólo auqellas variables que sean significativas para poder realizar una predicción más robusta.**"
      ]
    },
    {
      "cell_type": "markdown",
      "metadata": {
        "id": "999NQ5_GozLS"
      },
      "source": [
        "# Más primitivas de transformación"
      ]
    },
    {
      "cell_type": "code",
      "execution_count": 33,
      "metadata": {
        "id": "dhBlR-zFozLS"
      },
      "outputs": [],
      "source": [
        "# Cree una lista de primitivas de transformación que contenga las nuevas primitivas\n",
        "# descritas en el manual de instrucciones\n",
        "\n",
        "trans_primitives_2 = [Minute, Hour, Day, Week, Month, Weekday, Weekend]\n",
        "\n",
        "features_2 = ft.dfs(entities=entities,\n",
        "                  relationships=relationships,\n",
        "                  target_entity=\"trips\",\n",
        "                  trans_primitives=trans_primitives_2,\n",
        "                  agg_primitives=[],\n",
        "                  ignore_variables={\"trips\": [\"pickup_latitude\", \"pickup_longitude\",\n",
        "                                              \"dropoff_latitude\", \"dropoff_longitude\", \"trip_duration\"]},\n",
        "                  features_only=True)"
      ]
    },
    {
      "cell_type": "code",
      "execution_count": 35,
      "metadata": {
        "id": "-ygu0CGcozLU",
        "colab": {
          "base_uri": "https://localhost:8080/",
          "height": 0
        },
        "outputId": "d37fa4f9-18fc-4165-a427-46ed625dfcd9"
      },
      "outputs": [
        {
          "output_type": "stream",
          "name": "stdout",
          "text": [
            "Número de atributos: 24\n"
          ]
        },
        {
          "output_type": "execute_result",
          "data": {
            "text/plain": [
              "[<Feature: vendor_id>,\n",
              " <Feature: passenger_count>,\n",
              " <Feature: trip_distance>,\n",
              " <Feature: payment_type>,\n",
              " <Feature: pickup_neighborhood>,\n",
              " <Feature: dropoff_neighborhood>,\n",
              " <Feature: MINUTE(pickup_datetime)>,\n",
              " <Feature: MINUTE(dropoff_datetime)>,\n",
              " <Feature: HOUR(pickup_datetime)>,\n",
              " <Feature: HOUR(dropoff_datetime)>,\n",
              " <Feature: DAY(pickup_datetime)>,\n",
              " <Feature: DAY(dropoff_datetime)>,\n",
              " <Feature: WEEK(pickup_datetime)>,\n",
              " <Feature: WEEK(dropoff_datetime)>,\n",
              " <Feature: MONTH(pickup_datetime)>,\n",
              " <Feature: MONTH(dropoff_datetime)>,\n",
              " <Feature: WEEKDAY(pickup_datetime)>,\n",
              " <Feature: WEEKDAY(dropoff_datetime)>,\n",
              " <Feature: WEEKEND(pickup_datetime)>,\n",
              " <Feature: WEEKEND(dropoff_datetime)>,\n",
              " <Feature: pickup_neighborhoods.latitude>,\n",
              " <Feature: pickup_neighborhoods.longitude>,\n",
              " <Feature: dropoff_neighborhoods.latitude>,\n",
              " <Feature: dropoff_neighborhoods.longitude>]"
            ]
          },
          "metadata": {},
          "execution_count": 35
        }
      ],
      "source": [
        "# Calcule los atributos\n",
        "print(f\"Número de atributos: {len(features_2)}\")\n",
        "features_2"
      ]
    },
    {
      "cell_type": "code",
      "execution_count": 36,
      "metadata": {
        "id": "spf6K7WiozLW",
        "colab": {
          "base_uri": "https://localhost:8080/",
          "height": 2492
        },
        "outputId": "6cc95095-b1bd-4b3d-936e-9545e3d45909"
      },
      "outputs": [
        {
          "output_type": "stream",
          "name": "stdout",
          "text": [
            "Elapsed: 00:00 | Remaining: 00:01 | Progress:  10%|█         | Calculated: 1/10 chunks"
          ]
        },
        {
          "output_type": "stream",
          "name": "stderr",
          "text": [
            "/usr/local/lib/python3.10/dist-packages/featuretools/entityset/entity.py:249: FutureWarning: The default dtype for empty Series will be 'object' instead of 'float64' in a future version. Specify a dtype explicitly to silence this warning.\n",
            "  my_id_vals = pd.Series([]).append(to_append)\n",
            "/usr/local/lib/python3.10/dist-packages/featuretools/entityset/entity.py:249: FutureWarning: The series.append method is deprecated and will be removed from pandas in a future version. Use pandas.concat instead.\n",
            "  my_id_vals = pd.Series([]).append(to_append)\n",
            "/usr/local/lib/python3.10/dist-packages/featuretools/entityset/entity.py:249: FutureWarning: The default dtype for empty Series will be 'object' instead of 'float64' in a future version. Specify a dtype explicitly to silence this warning.\n",
            "  my_id_vals = pd.Series([]).append(to_append)\n",
            "/usr/local/lib/python3.10/dist-packages/featuretools/entityset/entity.py:249: FutureWarning: The series.append method is deprecated and will be removed from pandas in a future version. Use pandas.concat instead.\n",
            "  my_id_vals = pd.Series([]).append(to_append)\n",
            "/usr/local/lib/python3.10/dist-packages/featuretools/primitives/transform_primitive.py:529: FutureWarning: weekofyear and week have been deprecated, please use DatetimeIndex.isocalendar().week instead, which returns a Series. To exactly reproduce the behavior of week and weekofyear and return an Index, you may call pd.Int64Index(idx.isocalendar().week)\n",
            "  return getattr(pd_index, time_unit).values\n",
            "/usr/local/lib/python3.10/dist-packages/featuretools/primitives/transform_primitive.py:529: FutureWarning: weekofyear and week have been deprecated, please use DatetimeIndex.isocalendar().week instead, which returns a Series. To exactly reproduce the behavior of week and weekofyear and return an Index, you may call pd.Int64Index(idx.isocalendar().week)\n",
            "  return getattr(pd_index, time_unit).values\n",
            "/usr/local/lib/python3.10/dist-packages/featuretools/entityset/entity.py:249: FutureWarning: The default dtype for empty Series will be 'object' instead of 'float64' in a future version. Specify a dtype explicitly to silence this warning.\n",
            "  my_id_vals = pd.Series([]).append(to_append)\n",
            "/usr/local/lib/python3.10/dist-packages/featuretools/entityset/entity.py:249: FutureWarning: The series.append method is deprecated and will be removed from pandas in a future version. Use pandas.concat instead.\n",
            "  my_id_vals = pd.Series([]).append(to_append)\n"
          ]
        },
        {
          "output_type": "stream",
          "name": "stdout",
          "text": [
            "\rElapsed: 00:00 | Remaining: 00:01 | Progress:  20%|██        | Calculated: 2/10 chunks"
          ]
        },
        {
          "output_type": "stream",
          "name": "stderr",
          "text": [
            "/usr/local/lib/python3.10/dist-packages/featuretools/entityset/entity.py:249: FutureWarning: The default dtype for empty Series will be 'object' instead of 'float64' in a future version. Specify a dtype explicitly to silence this warning.\n",
            "  my_id_vals = pd.Series([]).append(to_append)\n",
            "/usr/local/lib/python3.10/dist-packages/featuretools/entityset/entity.py:249: FutureWarning: The series.append method is deprecated and will be removed from pandas in a future version. Use pandas.concat instead.\n",
            "  my_id_vals = pd.Series([]).append(to_append)\n",
            "/usr/local/lib/python3.10/dist-packages/featuretools/primitives/transform_primitive.py:529: FutureWarning: weekofyear and week have been deprecated, please use DatetimeIndex.isocalendar().week instead, which returns a Series. To exactly reproduce the behavior of week and weekofyear and return an Index, you may call pd.Int64Index(idx.isocalendar().week)\n",
            "  return getattr(pd_index, time_unit).values\n",
            "/usr/local/lib/python3.10/dist-packages/featuretools/primitives/transform_primitive.py:529: FutureWarning: weekofyear and week have been deprecated, please use DatetimeIndex.isocalendar().week instead, which returns a Series. To exactly reproduce the behavior of week and weekofyear and return an Index, you may call pd.Int64Index(idx.isocalendar().week)\n",
            "  return getattr(pd_index, time_unit).values\n",
            "/usr/local/lib/python3.10/dist-packages/featuretools/entityset/entity.py:249: FutureWarning: The default dtype for empty Series will be 'object' instead of 'float64' in a future version. Specify a dtype explicitly to silence this warning.\n",
            "  my_id_vals = pd.Series([]).append(to_append)\n",
            "/usr/local/lib/python3.10/dist-packages/featuretools/entityset/entity.py:249: FutureWarning: The series.append method is deprecated and will be removed from pandas in a future version. Use pandas.concat instead.\n",
            "  my_id_vals = pd.Series([]).append(to_append)\n",
            "/usr/local/lib/python3.10/dist-packages/featuretools/entityset/entity.py:249: FutureWarning: The default dtype for empty Series will be 'object' instead of 'float64' in a future version. Specify a dtype explicitly to silence this warning.\n",
            "  my_id_vals = pd.Series([]).append(to_append)\n",
            "/usr/local/lib/python3.10/dist-packages/featuretools/entityset/entity.py:249: FutureWarning: The series.append method is deprecated and will be removed from pandas in a future version. Use pandas.concat instead.\n",
            "  my_id_vals = pd.Series([]).append(to_append)\n"
          ]
        },
        {
          "output_type": "stream",
          "name": "stdout",
          "text": [
            "\rElapsed: 00:00 | Remaining: 00:01 | Progress:  30%|███       | Calculated: 3/10 chunks"
          ]
        },
        {
          "output_type": "stream",
          "name": "stderr",
          "text": [
            "/usr/local/lib/python3.10/dist-packages/featuretools/primitives/transform_primitive.py:529: FutureWarning: weekofyear and week have been deprecated, please use DatetimeIndex.isocalendar().week instead, which returns a Series. To exactly reproduce the behavior of week and weekofyear and return an Index, you may call pd.Int64Index(idx.isocalendar().week)\n",
            "  return getattr(pd_index, time_unit).values\n",
            "/usr/local/lib/python3.10/dist-packages/featuretools/primitives/transform_primitive.py:529: FutureWarning: weekofyear and week have been deprecated, please use DatetimeIndex.isocalendar().week instead, which returns a Series. To exactly reproduce the behavior of week and weekofyear and return an Index, you may call pd.Int64Index(idx.isocalendar().week)\n",
            "  return getattr(pd_index, time_unit).values\n",
            "/usr/local/lib/python3.10/dist-packages/featuretools/entityset/entity.py:249: FutureWarning: The default dtype for empty Series will be 'object' instead of 'float64' in a future version. Specify a dtype explicitly to silence this warning.\n",
            "  my_id_vals = pd.Series([]).append(to_append)\n",
            "/usr/local/lib/python3.10/dist-packages/featuretools/entityset/entity.py:249: FutureWarning: The series.append method is deprecated and will be removed from pandas in a future version. Use pandas.concat instead.\n",
            "  my_id_vals = pd.Series([]).append(to_append)\n",
            "/usr/local/lib/python3.10/dist-packages/featuretools/entityset/entity.py:249: FutureWarning: The default dtype for empty Series will be 'object' instead of 'float64' in a future version. Specify a dtype explicitly to silence this warning.\n",
            "  my_id_vals = pd.Series([]).append(to_append)\n",
            "/usr/local/lib/python3.10/dist-packages/featuretools/entityset/entity.py:249: FutureWarning: The series.append method is deprecated and will be removed from pandas in a future version. Use pandas.concat instead.\n",
            "  my_id_vals = pd.Series([]).append(to_append)\n",
            "/usr/local/lib/python3.10/dist-packages/featuretools/primitives/transform_primitive.py:529: FutureWarning: weekofyear and week have been deprecated, please use DatetimeIndex.isocalendar().week instead, which returns a Series. To exactly reproduce the behavior of week and weekofyear and return an Index, you may call pd.Int64Index(idx.isocalendar().week)\n",
            "  return getattr(pd_index, time_unit).values\n"
          ]
        },
        {
          "output_type": "stream",
          "name": "stdout",
          "text": [
            "\rElapsed: 00:00 | Remaining: 00:01 | Progress:  40%|████      | Calculated: 4/10 chunks"
          ]
        },
        {
          "output_type": "stream",
          "name": "stderr",
          "text": [
            "/usr/local/lib/python3.10/dist-packages/featuretools/primitives/transform_primitive.py:529: FutureWarning: weekofyear and week have been deprecated, please use DatetimeIndex.isocalendar().week instead, which returns a Series. To exactly reproduce the behavior of week and weekofyear and return an Index, you may call pd.Int64Index(idx.isocalendar().week)\n",
            "  return getattr(pd_index, time_unit).values\n",
            "/usr/local/lib/python3.10/dist-packages/featuretools/entityset/entity.py:249: FutureWarning: The default dtype for empty Series will be 'object' instead of 'float64' in a future version. Specify a dtype explicitly to silence this warning.\n",
            "  my_id_vals = pd.Series([]).append(to_append)\n",
            "/usr/local/lib/python3.10/dist-packages/featuretools/entityset/entity.py:249: FutureWarning: The series.append method is deprecated and will be removed from pandas in a future version. Use pandas.concat instead.\n",
            "  my_id_vals = pd.Series([]).append(to_append)\n",
            "/usr/local/lib/python3.10/dist-packages/featuretools/entityset/entity.py:249: FutureWarning: The default dtype for empty Series will be 'object' instead of 'float64' in a future version. Specify a dtype explicitly to silence this warning.\n",
            "  my_id_vals = pd.Series([]).append(to_append)\n",
            "/usr/local/lib/python3.10/dist-packages/featuretools/entityset/entity.py:249: FutureWarning: The series.append method is deprecated and will be removed from pandas in a future version. Use pandas.concat instead.\n",
            "  my_id_vals = pd.Series([]).append(to_append)\n",
            "/usr/local/lib/python3.10/dist-packages/featuretools/primitives/transform_primitive.py:529: FutureWarning: weekofyear and week have been deprecated, please use DatetimeIndex.isocalendar().week instead, which returns a Series. To exactly reproduce the behavior of week and weekofyear and return an Index, you may call pd.Int64Index(idx.isocalendar().week)\n",
            "  return getattr(pd_index, time_unit).values\n",
            "/usr/local/lib/python3.10/dist-packages/featuretools/primitives/transform_primitive.py:529: FutureWarning: weekofyear and week have been deprecated, please use DatetimeIndex.isocalendar().week instead, which returns a Series. To exactly reproduce the behavior of week and weekofyear and return an Index, you may call pd.Int64Index(idx.isocalendar().week)\n",
            "  return getattr(pd_index, time_unit).values\n"
          ]
        },
        {
          "output_type": "stream",
          "name": "stdout",
          "text": [
            "Elapsed: 00:01 | Remaining: 00:00 | Progress:  60%|██████    | Calculated: 6/10 chunks"
          ]
        },
        {
          "output_type": "stream",
          "name": "stderr",
          "text": [
            "/usr/local/lib/python3.10/dist-packages/featuretools/entityset/entity.py:249: FutureWarning: The default dtype for empty Series will be 'object' instead of 'float64' in a future version. Specify a dtype explicitly to silence this warning.\n",
            "  my_id_vals = pd.Series([]).append(to_append)\n",
            "/usr/local/lib/python3.10/dist-packages/featuretools/entityset/entity.py:249: FutureWarning: The series.append method is deprecated and will be removed from pandas in a future version. Use pandas.concat instead.\n",
            "  my_id_vals = pd.Series([]).append(to_append)\n",
            "/usr/local/lib/python3.10/dist-packages/featuretools/entityset/entity.py:249: FutureWarning: The default dtype for empty Series will be 'object' instead of 'float64' in a future version. Specify a dtype explicitly to silence this warning.\n",
            "  my_id_vals = pd.Series([]).append(to_append)\n",
            "/usr/local/lib/python3.10/dist-packages/featuretools/entityset/entity.py:249: FutureWarning: The series.append method is deprecated and will be removed from pandas in a future version. Use pandas.concat instead.\n",
            "  my_id_vals = pd.Series([]).append(to_append)\n",
            "/usr/local/lib/python3.10/dist-packages/featuretools/primitives/transform_primitive.py:529: FutureWarning: weekofyear and week have been deprecated, please use DatetimeIndex.isocalendar().week instead, which returns a Series. To exactly reproduce the behavior of week and weekofyear and return an Index, you may call pd.Int64Index(idx.isocalendar().week)\n",
            "  return getattr(pd_index, time_unit).values\n",
            "/usr/local/lib/python3.10/dist-packages/featuretools/primitives/transform_primitive.py:529: FutureWarning: weekofyear and week have been deprecated, please use DatetimeIndex.isocalendar().week instead, which returns a Series. To exactly reproduce the behavior of week and weekofyear and return an Index, you may call pd.Int64Index(idx.isocalendar().week)\n",
            "  return getattr(pd_index, time_unit).values\n",
            "/usr/local/lib/python3.10/dist-packages/featuretools/entityset/entity.py:249: FutureWarning: The default dtype for empty Series will be 'object' instead of 'float64' in a future version. Specify a dtype explicitly to silence this warning.\n",
            "  my_id_vals = pd.Series([]).append(to_append)\n",
            "/usr/local/lib/python3.10/dist-packages/featuretools/entityset/entity.py:249: FutureWarning: The series.append method is deprecated and will be removed from pandas in a future version. Use pandas.concat instead.\n",
            "  my_id_vals = pd.Series([]).append(to_append)\n",
            "/usr/local/lib/python3.10/dist-packages/featuretools/entityset/entity.py:249: FutureWarning: The default dtype for empty Series will be 'object' instead of 'float64' in a future version. Specify a dtype explicitly to silence this warning.\n",
            "  my_id_vals = pd.Series([]).append(to_append)\n"
          ]
        },
        {
          "output_type": "stream",
          "name": "stdout",
          "text": [
            "\rElapsed: 00:01 | Remaining: 00:00 | Progress:  70%|███████   | Calculated: 7/10 chunks"
          ]
        },
        {
          "output_type": "stream",
          "name": "stderr",
          "text": [
            "/usr/local/lib/python3.10/dist-packages/featuretools/entityset/entity.py:249: FutureWarning: The series.append method is deprecated and will be removed from pandas in a future version. Use pandas.concat instead.\n",
            "  my_id_vals = pd.Series([]).append(to_append)\n",
            "/usr/local/lib/python3.10/dist-packages/featuretools/primitives/transform_primitive.py:529: FutureWarning: weekofyear and week have been deprecated, please use DatetimeIndex.isocalendar().week instead, which returns a Series. To exactly reproduce the behavior of week and weekofyear and return an Index, you may call pd.Int64Index(idx.isocalendar().week)\n",
            "  return getattr(pd_index, time_unit).values\n",
            "/usr/local/lib/python3.10/dist-packages/featuretools/primitives/transform_primitive.py:529: FutureWarning: weekofyear and week have been deprecated, please use DatetimeIndex.isocalendar().week instead, which returns a Series. To exactly reproduce the behavior of week and weekofyear and return an Index, you may call pd.Int64Index(idx.isocalendar().week)\n",
            "  return getattr(pd_index, time_unit).values\n",
            "/usr/local/lib/python3.10/dist-packages/featuretools/entityset/entity.py:249: FutureWarning: The default dtype for empty Series will be 'object' instead of 'float64' in a future version. Specify a dtype explicitly to silence this warning.\n",
            "  my_id_vals = pd.Series([]).append(to_append)\n",
            "/usr/local/lib/python3.10/dist-packages/featuretools/entityset/entity.py:249: FutureWarning: The series.append method is deprecated and will be removed from pandas in a future version. Use pandas.concat instead.\n",
            "  my_id_vals = pd.Series([]).append(to_append)\n",
            "/usr/local/lib/python3.10/dist-packages/featuretools/entityset/entity.py:249: FutureWarning: The default dtype for empty Series will be 'object' instead of 'float64' in a future version. Specify a dtype explicitly to silence this warning.\n",
            "  my_id_vals = pd.Series([]).append(to_append)\n",
            "/usr/local/lib/python3.10/dist-packages/featuretools/entityset/entity.py:249: FutureWarning: The series.append method is deprecated and will be removed from pandas in a future version. Use pandas.concat instead.\n",
            "  my_id_vals = pd.Series([]).append(to_append)\n"
          ]
        },
        {
          "output_type": "stream",
          "name": "stdout",
          "text": [
            "\rElapsed: 00:01 | Remaining: 00:00 | Progress:  80%|████████  | Calculated: 8/10 chunks"
          ]
        },
        {
          "output_type": "stream",
          "name": "stderr",
          "text": [
            "/usr/local/lib/python3.10/dist-packages/featuretools/primitives/transform_primitive.py:529: FutureWarning: weekofyear and week have been deprecated, please use DatetimeIndex.isocalendar().week instead, which returns a Series. To exactly reproduce the behavior of week and weekofyear and return an Index, you may call pd.Int64Index(idx.isocalendar().week)\n",
            "  return getattr(pd_index, time_unit).values\n",
            "/usr/local/lib/python3.10/dist-packages/featuretools/primitives/transform_primitive.py:529: FutureWarning: weekofyear and week have been deprecated, please use DatetimeIndex.isocalendar().week instead, which returns a Series. To exactly reproduce the behavior of week and weekofyear and return an Index, you may call pd.Int64Index(idx.isocalendar().week)\n",
            "  return getattr(pd_index, time_unit).values\n",
            "/usr/local/lib/python3.10/dist-packages/featuretools/entityset/entity.py:249: FutureWarning: The default dtype for empty Series will be 'object' instead of 'float64' in a future version. Specify a dtype explicitly to silence this warning.\n",
            "  my_id_vals = pd.Series([]).append(to_append)\n",
            "/usr/local/lib/python3.10/dist-packages/featuretools/entityset/entity.py:249: FutureWarning: The series.append method is deprecated and will be removed from pandas in a future version. Use pandas.concat instead.\n",
            "  my_id_vals = pd.Series([]).append(to_append)\n",
            "/usr/local/lib/python3.10/dist-packages/featuretools/entityset/entity.py:249: FutureWarning: The default dtype for empty Series will be 'object' instead of 'float64' in a future version. Specify a dtype explicitly to silence this warning.\n",
            "  my_id_vals = pd.Series([]).append(to_append)\n",
            "/usr/local/lib/python3.10/dist-packages/featuretools/entityset/entity.py:249: FutureWarning: The series.append method is deprecated and will be removed from pandas in a future version. Use pandas.concat instead.\n",
            "  my_id_vals = pd.Series([]).append(to_append)\n",
            "/usr/local/lib/python3.10/dist-packages/featuretools/primitives/transform_primitive.py:529: FutureWarning: weekofyear and week have been deprecated, please use DatetimeIndex.isocalendar().week instead, which returns a Series. To exactly reproduce the behavior of week and weekofyear and return an Index, you may call pd.Int64Index(idx.isocalendar().week)\n",
            "  return getattr(pd_index, time_unit).values\n"
          ]
        },
        {
          "output_type": "stream",
          "name": "stdout",
          "text": [
            "\rElapsed: 00:01 | Remaining: 00:00 | Progress:  90%|█████████ | Calculated: 9/10 chunks"
          ]
        },
        {
          "output_type": "stream",
          "name": "stderr",
          "text": [
            "/usr/local/lib/python3.10/dist-packages/featuretools/primitives/transform_primitive.py:529: FutureWarning: weekofyear and week have been deprecated, please use DatetimeIndex.isocalendar().week instead, which returns a Series. To exactly reproduce the behavior of week and weekofyear and return an Index, you may call pd.Int64Index(idx.isocalendar().week)\n",
            "  return getattr(pd_index, time_unit).values\n",
            "/usr/local/lib/python3.10/dist-packages/featuretools/entityset/entity.py:249: FutureWarning: The default dtype for empty Series will be 'object' instead of 'float64' in a future version. Specify a dtype explicitly to silence this warning.\n",
            "  my_id_vals = pd.Series([]).append(to_append)\n",
            "/usr/local/lib/python3.10/dist-packages/featuretools/entityset/entity.py:249: FutureWarning: The series.append method is deprecated and will be removed from pandas in a future version. Use pandas.concat instead.\n",
            "  my_id_vals = pd.Series([]).append(to_append)\n",
            "/usr/local/lib/python3.10/dist-packages/featuretools/entityset/entity.py:249: FutureWarning: The default dtype for empty Series will be 'object' instead of 'float64' in a future version. Specify a dtype explicitly to silence this warning.\n",
            "  my_id_vals = pd.Series([]).append(to_append)\n",
            "/usr/local/lib/python3.10/dist-packages/featuretools/entityset/entity.py:249: FutureWarning: The series.append method is deprecated and will be removed from pandas in a future version. Use pandas.concat instead.\n",
            "  my_id_vals = pd.Series([]).append(to_append)\n",
            "/usr/local/lib/python3.10/dist-packages/featuretools/primitives/transform_primitive.py:529: FutureWarning: weekofyear and week have been deprecated, please use DatetimeIndex.isocalendar().week instead, which returns a Series. To exactly reproduce the behavior of week and weekofyear and return an Index, you may call pd.Int64Index(idx.isocalendar().week)\n",
            "  return getattr(pd_index, time_unit).values\n",
            "/usr/local/lib/python3.10/dist-packages/featuretools/primitives/transform_primitive.py:529: FutureWarning: weekofyear and week have been deprecated, please use DatetimeIndex.isocalendar().week instead, which returns a Series. To exactly reproduce the behavior of week and weekofyear and return an Index, you may call pd.Int64Index(idx.isocalendar().week)\n",
            "  return getattr(pd_index, time_unit).values\n"
          ]
        },
        {
          "output_type": "stream",
          "name": "stdout",
          "text": [
            "Elapsed: 00:01 | Remaining: 00:00 | Progress: 100%|██████████| Calculated: 10/10 chunks\n",
            "Finishing computing...\n"
          ]
        },
        {
          "output_type": "stream",
          "name": "stderr",
          "text": [
            "/usr/local/lib/python3.10/dist-packages/featuretools/synthesis/encode_features.py:110: PerformanceWarning: DataFrame is highly fragmented.  This is usually the result of calling `frame.insert` many times, which has poor performance.  Consider joining all columns at once using pd.concat(axis=1) instead. To get a de-fragmented frame, use `newframe = frame.copy()`\n",
            "  X[add.get_name()] = (X[f.get_name()] == label).astype(int)\n",
            "/usr/local/lib/python3.10/dist-packages/featuretools/synthesis/encode_features.py:110: PerformanceWarning: DataFrame is highly fragmented.  This is usually the result of calling `frame.insert` many times, which has poor performance.  Consider joining all columns at once using pd.concat(axis=1) instead. To get a de-fragmented frame, use `newframe = frame.copy()`\n",
            "  X[add.get_name()] = (X[f.get_name()] == label).astype(int)\n"
          ]
        },
        {
          "output_type": "execute_result",
          "data": {
            "text/plain": [
              "        WEEKDAY(pickup_datetime)  WEEKDAY(dropoff_datetime)  passenger_count  \\\n",
              "id                                                                             \n",
              "514030                         5                          5                1   \n",
              "514031                         5                          5                2   \n",
              "514032                         5                          5                1   \n",
              "514033                         5                          5                1   \n",
              "514034                         5                          5                2   \n",
              "\n",
              "        MONTH(dropoff_datetime)  WEEKEND(pickup_datetime)  \\\n",
              "id                                                          \n",
              "514030                        4                      True   \n",
              "514031                        4                      True   \n",
              "514032                        4                      True   \n",
              "514033                        4                      True   \n",
              "514034                        4                      True   \n",
              "\n",
              "        MONTH(pickup_datetime)  WEEK(pickup_datetime)  \\\n",
              "id                                                      \n",
              "514030                       4                     13   \n",
              "514031                       4                     13   \n",
              "514032                       4                     13   \n",
              "514033                       4                     13   \n",
              "514034                       4                     13   \n",
              "\n",
              "        MINUTE(pickup_datetime)  pickup_neighborhood = AA  \\\n",
              "id                                                          \n",
              "514030                        0                         1   \n",
              "514031                        0                         0   \n",
              "514032                        0                         0   \n",
              "514033                        0                         0   \n",
              "514034                        1                         0   \n",
              "\n",
              "        pickup_neighborhood = D  ...  dropoff_neighborhood = B  \\\n",
              "id                               ...                             \n",
              "514030                        0  ...                         0   \n",
              "514031                        0  ...                         0   \n",
              "514032                        0  ...                         0   \n",
              "514033                        0  ...                         0   \n",
              "514034                        0  ...                         0   \n",
              "\n",
              "        dropoff_neighborhood = AI  dropoff_neighborhood = AE  \\\n",
              "id                                                             \n",
              "514030                          0                          0   \n",
              "514031                          0                          0   \n",
              "514032                          0                          0   \n",
              "514033                          0                          0   \n",
              "514034                          0                          0   \n",
              "\n",
              "        dropoff_neighborhood = AQ  pickup_neighborhoods.longitude  \\\n",
              "id                                                                  \n",
              "514030                          0                      -73.986446   \n",
              "514031                          0                      -73.919159   \n",
              "514032                          0                      -73.991595   \n",
              "514033                          0                      -73.987205   \n",
              "514034                          0                      -73.785073   \n",
              "\n",
              "        WEEKEND(dropoff_datetime)  vendor_id  WEEK(dropoff_datetime)  \\\n",
              "id                                                                     \n",
              "514030                       True          2                      13   \n",
              "514031                       True          1                      13   \n",
              "514032                       True          1                      13   \n",
              "514033                       True          2                      13   \n",
              "514034                       True          1                      13   \n",
              "\n",
              "        DAY(dropoff_datetime)  dropoff_neighborhoods.longitude  \n",
              "id                                                              \n",
              "514030                      2                       -73.956886  \n",
              "514031                      2                       -73.969822  \n",
              "514032                      2                       -74.005107  \n",
              "514033                      2                       -73.987205  \n",
              "514034                      2                       -73.976050  \n",
              "\n",
              "[5 rows x 120 columns]"
            ],
            "text/html": [
              "\n",
              "  <div id=\"df-d05b4930-d455-47fb-b151-4dfa1bb53dd2\" class=\"colab-df-container\">\n",
              "    <div>\n",
              "<style scoped>\n",
              "    .dataframe tbody tr th:only-of-type {\n",
              "        vertical-align: middle;\n",
              "    }\n",
              "\n",
              "    .dataframe tbody tr th {\n",
              "        vertical-align: top;\n",
              "    }\n",
              "\n",
              "    .dataframe thead th {\n",
              "        text-align: right;\n",
              "    }\n",
              "</style>\n",
              "<table border=\"1\" class=\"dataframe\">\n",
              "  <thead>\n",
              "    <tr style=\"text-align: right;\">\n",
              "      <th></th>\n",
              "      <th>WEEKDAY(pickup_datetime)</th>\n",
              "      <th>WEEKDAY(dropoff_datetime)</th>\n",
              "      <th>passenger_count</th>\n",
              "      <th>MONTH(dropoff_datetime)</th>\n",
              "      <th>WEEKEND(pickup_datetime)</th>\n",
              "      <th>MONTH(pickup_datetime)</th>\n",
              "      <th>WEEK(pickup_datetime)</th>\n",
              "      <th>MINUTE(pickup_datetime)</th>\n",
              "      <th>pickup_neighborhood = AA</th>\n",
              "      <th>pickup_neighborhood = D</th>\n",
              "      <th>...</th>\n",
              "      <th>dropoff_neighborhood = B</th>\n",
              "      <th>dropoff_neighborhood = AI</th>\n",
              "      <th>dropoff_neighborhood = AE</th>\n",
              "      <th>dropoff_neighborhood = AQ</th>\n",
              "      <th>pickup_neighborhoods.longitude</th>\n",
              "      <th>WEEKEND(dropoff_datetime)</th>\n",
              "      <th>vendor_id</th>\n",
              "      <th>WEEK(dropoff_datetime)</th>\n",
              "      <th>DAY(dropoff_datetime)</th>\n",
              "      <th>dropoff_neighborhoods.longitude</th>\n",
              "    </tr>\n",
              "    <tr>\n",
              "      <th>id</th>\n",
              "      <th></th>\n",
              "      <th></th>\n",
              "      <th></th>\n",
              "      <th></th>\n",
              "      <th></th>\n",
              "      <th></th>\n",
              "      <th></th>\n",
              "      <th></th>\n",
              "      <th></th>\n",
              "      <th></th>\n",
              "      <th></th>\n",
              "      <th></th>\n",
              "      <th></th>\n",
              "      <th></th>\n",
              "      <th></th>\n",
              "      <th></th>\n",
              "      <th></th>\n",
              "      <th></th>\n",
              "      <th></th>\n",
              "      <th></th>\n",
              "      <th></th>\n",
              "    </tr>\n",
              "  </thead>\n",
              "  <tbody>\n",
              "    <tr>\n",
              "      <th>514030</th>\n",
              "      <td>5</td>\n",
              "      <td>5</td>\n",
              "      <td>1</td>\n",
              "      <td>4</td>\n",
              "      <td>True</td>\n",
              "      <td>4</td>\n",
              "      <td>13</td>\n",
              "      <td>0</td>\n",
              "      <td>1</td>\n",
              "      <td>0</td>\n",
              "      <td>...</td>\n",
              "      <td>0</td>\n",
              "      <td>0</td>\n",
              "      <td>0</td>\n",
              "      <td>0</td>\n",
              "      <td>-73.986446</td>\n",
              "      <td>True</td>\n",
              "      <td>2</td>\n",
              "      <td>13</td>\n",
              "      <td>2</td>\n",
              "      <td>-73.956886</td>\n",
              "    </tr>\n",
              "    <tr>\n",
              "      <th>514031</th>\n",
              "      <td>5</td>\n",
              "      <td>5</td>\n",
              "      <td>2</td>\n",
              "      <td>4</td>\n",
              "      <td>True</td>\n",
              "      <td>4</td>\n",
              "      <td>13</td>\n",
              "      <td>0</td>\n",
              "      <td>0</td>\n",
              "      <td>0</td>\n",
              "      <td>...</td>\n",
              "      <td>0</td>\n",
              "      <td>0</td>\n",
              "      <td>0</td>\n",
              "      <td>0</td>\n",
              "      <td>-73.919159</td>\n",
              "      <td>True</td>\n",
              "      <td>1</td>\n",
              "      <td>13</td>\n",
              "      <td>2</td>\n",
              "      <td>-73.969822</td>\n",
              "    </tr>\n",
              "    <tr>\n",
              "      <th>514032</th>\n",
              "      <td>5</td>\n",
              "      <td>5</td>\n",
              "      <td>1</td>\n",
              "      <td>4</td>\n",
              "      <td>True</td>\n",
              "      <td>4</td>\n",
              "      <td>13</td>\n",
              "      <td>0</td>\n",
              "      <td>0</td>\n",
              "      <td>0</td>\n",
              "      <td>...</td>\n",
              "      <td>0</td>\n",
              "      <td>0</td>\n",
              "      <td>0</td>\n",
              "      <td>0</td>\n",
              "      <td>-73.991595</td>\n",
              "      <td>True</td>\n",
              "      <td>1</td>\n",
              "      <td>13</td>\n",
              "      <td>2</td>\n",
              "      <td>-74.005107</td>\n",
              "    </tr>\n",
              "    <tr>\n",
              "      <th>514033</th>\n",
              "      <td>5</td>\n",
              "      <td>5</td>\n",
              "      <td>1</td>\n",
              "      <td>4</td>\n",
              "      <td>True</td>\n",
              "      <td>4</td>\n",
              "      <td>13</td>\n",
              "      <td>0</td>\n",
              "      <td>0</td>\n",
              "      <td>0</td>\n",
              "      <td>...</td>\n",
              "      <td>0</td>\n",
              "      <td>0</td>\n",
              "      <td>0</td>\n",
              "      <td>0</td>\n",
              "      <td>-73.987205</td>\n",
              "      <td>True</td>\n",
              "      <td>2</td>\n",
              "      <td>13</td>\n",
              "      <td>2</td>\n",
              "      <td>-73.987205</td>\n",
              "    </tr>\n",
              "    <tr>\n",
              "      <th>514034</th>\n",
              "      <td>5</td>\n",
              "      <td>5</td>\n",
              "      <td>2</td>\n",
              "      <td>4</td>\n",
              "      <td>True</td>\n",
              "      <td>4</td>\n",
              "      <td>13</td>\n",
              "      <td>1</td>\n",
              "      <td>0</td>\n",
              "      <td>0</td>\n",
              "      <td>...</td>\n",
              "      <td>0</td>\n",
              "      <td>0</td>\n",
              "      <td>0</td>\n",
              "      <td>0</td>\n",
              "      <td>-73.785073</td>\n",
              "      <td>True</td>\n",
              "      <td>1</td>\n",
              "      <td>13</td>\n",
              "      <td>2</td>\n",
              "      <td>-73.976050</td>\n",
              "    </tr>\n",
              "  </tbody>\n",
              "</table>\n",
              "<p>5 rows × 120 columns</p>\n",
              "</div>\n",
              "    <div class=\"colab-df-buttons\">\n",
              "\n",
              "  <div class=\"colab-df-container\">\n",
              "    <button class=\"colab-df-convert\" onclick=\"convertToInteractive('df-d05b4930-d455-47fb-b151-4dfa1bb53dd2')\"\n",
              "            title=\"Convert this dataframe to an interactive table.\"\n",
              "            style=\"display:none;\">\n",
              "\n",
              "  <svg xmlns=\"http://www.w3.org/2000/svg\" height=\"24px\" viewBox=\"0 -960 960 960\">\n",
              "    <path d=\"M120-120v-720h720v720H120Zm60-500h600v-160H180v160Zm220 220h160v-160H400v160Zm0 220h160v-160H400v160ZM180-400h160v-160H180v160Zm440 0h160v-160H620v160ZM180-180h160v-160H180v160Zm440 0h160v-160H620v160Z\"/>\n",
              "  </svg>\n",
              "    </button>\n",
              "\n",
              "  <style>\n",
              "    .colab-df-container {\n",
              "      display:flex;\n",
              "      gap: 12px;\n",
              "    }\n",
              "\n",
              "    .colab-df-convert {\n",
              "      background-color: #E8F0FE;\n",
              "      border: none;\n",
              "      border-radius: 50%;\n",
              "      cursor: pointer;\n",
              "      display: none;\n",
              "      fill: #1967D2;\n",
              "      height: 32px;\n",
              "      padding: 0 0 0 0;\n",
              "      width: 32px;\n",
              "    }\n",
              "\n",
              "    .colab-df-convert:hover {\n",
              "      background-color: #E2EBFA;\n",
              "      box-shadow: 0px 1px 2px rgba(60, 64, 67, 0.3), 0px 1px 3px 1px rgba(60, 64, 67, 0.15);\n",
              "      fill: #174EA6;\n",
              "    }\n",
              "\n",
              "    .colab-df-buttons div {\n",
              "      margin-bottom: 4px;\n",
              "    }\n",
              "\n",
              "    [theme=dark] .colab-df-convert {\n",
              "      background-color: #3B4455;\n",
              "      fill: #D2E3FC;\n",
              "    }\n",
              "\n",
              "    [theme=dark] .colab-df-convert:hover {\n",
              "      background-color: #434B5C;\n",
              "      box-shadow: 0px 1px 3px 1px rgba(0, 0, 0, 0.15);\n",
              "      filter: drop-shadow(0px 1px 2px rgba(0, 0, 0, 0.3));\n",
              "      fill: #FFFFFF;\n",
              "    }\n",
              "  </style>\n",
              "\n",
              "    <script>\n",
              "      const buttonEl =\n",
              "        document.querySelector('#df-d05b4930-d455-47fb-b151-4dfa1bb53dd2 button.colab-df-convert');\n",
              "      buttonEl.style.display =\n",
              "        google.colab.kernel.accessAllowed ? 'block' : 'none';\n",
              "\n",
              "      async function convertToInteractive(key) {\n",
              "        const element = document.querySelector('#df-d05b4930-d455-47fb-b151-4dfa1bb53dd2');\n",
              "        const dataTable =\n",
              "          await google.colab.kernel.invokeFunction('convertToInteractive',\n",
              "                                                    [key], {});\n",
              "        if (!dataTable) return;\n",
              "\n",
              "        const docLinkHtml = 'Like what you see? Visit the ' +\n",
              "          '<a target=\"_blank\" href=https://colab.research.google.com/notebooks/data_table.ipynb>data table notebook</a>'\n",
              "          + ' to learn more about interactive tables.';\n",
              "        element.innerHTML = '';\n",
              "        dataTable['output_type'] = 'display_data';\n",
              "        await google.colab.output.renderOutput(dataTable, element);\n",
              "        const docLink = document.createElement('div');\n",
              "        docLink.innerHTML = docLinkHtml;\n",
              "        element.appendChild(docLink);\n",
              "      }\n",
              "    </script>\n",
              "  </div>\n",
              "\n",
              "\n",
              "<div id=\"df-3682e6e4-c067-4da0-9dcc-f14fa49e4e25\">\n",
              "  <button class=\"colab-df-quickchart\" onclick=\"quickchart('df-3682e6e4-c067-4da0-9dcc-f14fa49e4e25')\"\n",
              "            title=\"Suggest charts\"\n",
              "            style=\"display:none;\">\n",
              "\n",
              "<svg xmlns=\"http://www.w3.org/2000/svg\" height=\"24px\"viewBox=\"0 0 24 24\"\n",
              "     width=\"24px\">\n",
              "    <g>\n",
              "        <path d=\"M19 3H5c-1.1 0-2 .9-2 2v14c0 1.1.9 2 2 2h14c1.1 0 2-.9 2-2V5c0-1.1-.9-2-2-2zM9 17H7v-7h2v7zm4 0h-2V7h2v10zm4 0h-2v-4h2v4z\"/>\n",
              "    </g>\n",
              "</svg>\n",
              "  </button>\n",
              "\n",
              "<style>\n",
              "  .colab-df-quickchart {\n",
              "      --bg-color: #E8F0FE;\n",
              "      --fill-color: #1967D2;\n",
              "      --hover-bg-color: #E2EBFA;\n",
              "      --hover-fill-color: #174EA6;\n",
              "      --disabled-fill-color: #AAA;\n",
              "      --disabled-bg-color: #DDD;\n",
              "  }\n",
              "\n",
              "  [theme=dark] .colab-df-quickchart {\n",
              "      --bg-color: #3B4455;\n",
              "      --fill-color: #D2E3FC;\n",
              "      --hover-bg-color: #434B5C;\n",
              "      --hover-fill-color: #FFFFFF;\n",
              "      --disabled-bg-color: #3B4455;\n",
              "      --disabled-fill-color: #666;\n",
              "  }\n",
              "\n",
              "  .colab-df-quickchart {\n",
              "    background-color: var(--bg-color);\n",
              "    border: none;\n",
              "    border-radius: 50%;\n",
              "    cursor: pointer;\n",
              "    display: none;\n",
              "    fill: var(--fill-color);\n",
              "    height: 32px;\n",
              "    padding: 0;\n",
              "    width: 32px;\n",
              "  }\n",
              "\n",
              "  .colab-df-quickchart:hover {\n",
              "    background-color: var(--hover-bg-color);\n",
              "    box-shadow: 0 1px 2px rgba(60, 64, 67, 0.3), 0 1px 3px 1px rgba(60, 64, 67, 0.15);\n",
              "    fill: var(--button-hover-fill-color);\n",
              "  }\n",
              "\n",
              "  .colab-df-quickchart-complete:disabled,\n",
              "  .colab-df-quickchart-complete:disabled:hover {\n",
              "    background-color: var(--disabled-bg-color);\n",
              "    fill: var(--disabled-fill-color);\n",
              "    box-shadow: none;\n",
              "  }\n",
              "\n",
              "  .colab-df-spinner {\n",
              "    border: 2px solid var(--fill-color);\n",
              "    border-color: transparent;\n",
              "    border-bottom-color: var(--fill-color);\n",
              "    animation:\n",
              "      spin 1s steps(1) infinite;\n",
              "  }\n",
              "\n",
              "  @keyframes spin {\n",
              "    0% {\n",
              "      border-color: transparent;\n",
              "      border-bottom-color: var(--fill-color);\n",
              "      border-left-color: var(--fill-color);\n",
              "    }\n",
              "    20% {\n",
              "      border-color: transparent;\n",
              "      border-left-color: var(--fill-color);\n",
              "      border-top-color: var(--fill-color);\n",
              "    }\n",
              "    30% {\n",
              "      border-color: transparent;\n",
              "      border-left-color: var(--fill-color);\n",
              "      border-top-color: var(--fill-color);\n",
              "      border-right-color: var(--fill-color);\n",
              "    }\n",
              "    40% {\n",
              "      border-color: transparent;\n",
              "      border-right-color: var(--fill-color);\n",
              "      border-top-color: var(--fill-color);\n",
              "    }\n",
              "    60% {\n",
              "      border-color: transparent;\n",
              "      border-right-color: var(--fill-color);\n",
              "    }\n",
              "    80% {\n",
              "      border-color: transparent;\n",
              "      border-right-color: var(--fill-color);\n",
              "      border-bottom-color: var(--fill-color);\n",
              "    }\n",
              "    90% {\n",
              "      border-color: transparent;\n",
              "      border-bottom-color: var(--fill-color);\n",
              "    }\n",
              "  }\n",
              "</style>\n",
              "\n",
              "  <script>\n",
              "    async function quickchart(key) {\n",
              "      const quickchartButtonEl =\n",
              "        document.querySelector('#' + key + ' button');\n",
              "      quickchartButtonEl.disabled = true;  // To prevent multiple clicks.\n",
              "      quickchartButtonEl.classList.add('colab-df-spinner');\n",
              "      try {\n",
              "        const charts = await google.colab.kernel.invokeFunction(\n",
              "            'suggestCharts', [key], {});\n",
              "      } catch (error) {\n",
              "        console.error('Error during call to suggestCharts:', error);\n",
              "      }\n",
              "      quickchartButtonEl.classList.remove('colab-df-spinner');\n",
              "      quickchartButtonEl.classList.add('colab-df-quickchart-complete');\n",
              "    }\n",
              "    (() => {\n",
              "      let quickchartButtonEl =\n",
              "        document.querySelector('#df-3682e6e4-c067-4da0-9dcc-f14fa49e4e25 button');\n",
              "      quickchartButtonEl.style.display =\n",
              "        google.colab.kernel.accessAllowed ? 'block' : 'none';\n",
              "    })();\n",
              "  </script>\n",
              "</div>\n",
              "    </div>\n",
              "  </div>\n"
            ]
          },
          "metadata": {},
          "execution_count": 36
        }
      ],
      "source": [
        "# Calcule la matriz de atributos\n",
        "feature_matrix = compute_features(features_2, entities, relationships)\n",
        "preview(feature_matrix, 5)"
      ]
    },
    {
      "cell_type": "code",
      "execution_count": 37,
      "metadata": {
        "id": "t0McbgZfozLY",
        "colab": {
          "base_uri": "https://localhost:8080/",
          "height": 0
        },
        "outputId": "c509819c-c379-4459-bf6b-186bd484b1e4"
      },
      "outputs": [
        {
          "output_type": "stream",
          "name": "stdout",
          "text": [
            "Datos separados con éxito!\n"
          ]
        }
      ],
      "source": [
        "# Vuelva a separar los datos\n",
        "# Volver a separar los datos\n",
        "X_train, y_train, X_test, y_test = utils.get_train_test_fm(feature_matrix, trips, .75)\n",
        "y_train = np.log(y_train + 1)\n",
        "y_test = np.log(y_test + 1)\n",
        "\n",
        "print('Datos separados con éxito!')"
      ]
    },
    {
      "cell_type": "code",
      "execution_count": 38,
      "metadata": {
        "id": "Adievfk9ozLa",
        "colab": {
          "base_uri": "https://localhost:8080/",
          "height": 0
        },
        "outputId": "11b874f9-bc02-4f4c-e4e6-606fea9c92d8"
      },
      "outputs": [
        {
          "output_type": "stream",
          "name": "stdout",
          "text": [
            "      Iter       Train Loss   Remaining Time \n",
            "         1           0.4736            2.97s\n",
            "         2           0.4148            3.01s\n",
            "         3           0.3661            3.63s\n",
            "         4           0.3264            4.43s\n",
            "         5           0.2930            4.48s\n",
            "         6           0.2660            4.29s\n",
            "         7           0.2432            4.13s\n",
            "         8           0.2245            3.94s\n",
            "         9           0.2090            4.02s\n",
            "        10           0.1960            4.24s\n",
            "        20           0.1362            3.68s\n",
            "        30           0.1198            3.04s\n",
            "        40           0.1124            2.46s\n",
            "        50           0.1075            1.97s\n",
            "        60           0.1044            1.53s\n",
            "        70           0.1017            1.13s\n",
            "        80           0.0999            0.74s\n",
            "        90           0.0971            0.36s\n",
            "       100           0.0936            0.00s\n",
            "0.8013741807920715\n",
            "Fase de entrenamiento realizada con éxito!\n"
          ]
        }
      ],
      "source": [
        "# Entrene y evalúe el nuevo modelo\n",
        "model = GradientBoostingRegressor(verbose=True)\n",
        "model.fit(X_train, y_train)\n",
        "print(model.score(X_test, y_test)) # Valor R^2 de la predicción\n",
        "\n",
        "print('Fase de entrenamiento realizada con éxito!')"
      ]
    },
    {
      "cell_type": "markdown",
      "metadata": {
        "id": "YI-cD7aNozLc"
      },
      "source": [
        "<h1 style=\"color:red;\">PREGUNTA 3: SEGUNDO MODELO</h1>"
      ]
    },
    {
      "cell_type": "markdown",
      "metadata": {
        "id": "AxhCAbjsozLc"
      },
      "source": [
        "**Describa el resto de nuevos atributos que acaba de añadir al modelo. ¿Cómo afectó esto al rendimiento del modelo? ¿Ha sido necesario sacrificar tiempo de entrenamiento?**"
      ]
    },
    {
      "cell_type": "markdown",
      "metadata": {
        "id": "uRkof6i1ozLd"
      },
      "source": [
        "*Escriba su respuesta aquí:*\n",
        "\n",
        "#RESPUESTA\n",
        "\n",
        "Al agregar más primitivas de transformación como Minute, Hour, Day, Week, Month y Weekday además de Weekend se encontraronm un total de 120 de nuevos atributos añadidos al modelo lo que mejoró el rendimiento del modelo al llegar a un valor para R cuadrada de .80, 5 décimas porcentuales más que los modelos anteriores. No fue necesario sacrificar tiempo de entrenamiento de forma significativa, ya que le ejecución fue bastante rápida."
      ]
    },
    {
      "cell_type": "markdown",
      "metadata": {
        "id": "VHhxv9oUozLd"
      },
      "source": [
        "# Primitivas de agregación"
      ]
    },
    {
      "cell_type": "code",
      "execution_count": 40,
      "metadata": {
        "id": "9sPd8sgoozLd"
      },
      "outputs": [],
      "source": [
        "# Cree una lista de primitivas de transformación igual que la que acaba de crear\n",
        "# Cree una lista de primitivas de agregación que contenga:\n",
        "# Count, Sum, Mean, Median, Std, Max, Min\n",
        "# (en español: cuenteo, suma, media, mediana, desviación típica, máximo y mínimo)\n",
        "\n",
        "trans_primitives = [Minute, Hour, Day, Week, Month, Weekday, Weekend]\n",
        "aggregation_primitives = [Count, Sum, Mean, Median, Std, Max, Min]\n",
        "\n",
        "features_3 = ft.dfs(entities=entities,\n",
        "                  relationships=relationships,\n",
        "                  target_entity=\"trips\",\n",
        "                  trans_primitives=trans_primitives,\n",
        "                  agg_primitives=aggregation_primitives,\n",
        "                  ignore_variables={\"trips\": [\"pickup_latitude\", \"pickup_longitude\",\n",
        "                                              \"dropoff_latitude\", \"dropoff_longitude\", \"trip_duration\"]},\n",
        "                  features_only=True)\n"
      ]
    },
    {
      "cell_type": "code",
      "execution_count": 41,
      "metadata": {
        "id": "huVggpQ5ozLf",
        "colab": {
          "base_uri": "https://localhost:8080/",
          "height": 0
        },
        "outputId": "7bc8e7f1-dd31-46de-fe9e-721217e07969"
      },
      "outputs": [
        {
          "output_type": "stream",
          "name": "stdout",
          "text": [
            "Número de atributos: 62\n"
          ]
        },
        {
          "output_type": "execute_result",
          "data": {
            "text/plain": [
              "[<Feature: vendor_id>,\n",
              " <Feature: passenger_count>,\n",
              " <Feature: trip_distance>,\n",
              " <Feature: payment_type>,\n",
              " <Feature: pickup_neighborhood>,\n",
              " <Feature: dropoff_neighborhood>,\n",
              " <Feature: MINUTE(pickup_datetime)>,\n",
              " <Feature: MINUTE(dropoff_datetime)>,\n",
              " <Feature: HOUR(pickup_datetime)>,\n",
              " <Feature: HOUR(dropoff_datetime)>,\n",
              " <Feature: DAY(pickup_datetime)>,\n",
              " <Feature: DAY(dropoff_datetime)>,\n",
              " <Feature: WEEK(pickup_datetime)>,\n",
              " <Feature: WEEK(dropoff_datetime)>,\n",
              " <Feature: MONTH(pickup_datetime)>,\n",
              " <Feature: MONTH(dropoff_datetime)>,\n",
              " <Feature: WEEKDAY(pickup_datetime)>,\n",
              " <Feature: WEEKDAY(dropoff_datetime)>,\n",
              " <Feature: WEEKEND(pickup_datetime)>,\n",
              " <Feature: WEEKEND(dropoff_datetime)>,\n",
              " <Feature: pickup_neighborhoods.latitude>,\n",
              " <Feature: pickup_neighborhoods.longitude>,\n",
              " <Feature: dropoff_neighborhoods.latitude>,\n",
              " <Feature: dropoff_neighborhoods.longitude>,\n",
              " <Feature: pickup_neighborhoods.COUNT(trips)>,\n",
              " <Feature: pickup_neighborhoods.SUM(trips.vendor_id)>,\n",
              " <Feature: pickup_neighborhoods.SUM(trips.passenger_count)>,\n",
              " <Feature: pickup_neighborhoods.SUM(trips.trip_distance)>,\n",
              " <Feature: pickup_neighborhoods.MEAN(trips.vendor_id)>,\n",
              " <Feature: pickup_neighborhoods.MEAN(trips.passenger_count)>,\n",
              " <Feature: pickup_neighborhoods.MEAN(trips.trip_distance)>,\n",
              " <Feature: pickup_neighborhoods.MEDIAN(trips.vendor_id)>,\n",
              " <Feature: pickup_neighborhoods.MEDIAN(trips.passenger_count)>,\n",
              " <Feature: pickup_neighborhoods.MEDIAN(trips.trip_distance)>,\n",
              " <Feature: pickup_neighborhoods.STD(trips.vendor_id)>,\n",
              " <Feature: pickup_neighborhoods.STD(trips.passenger_count)>,\n",
              " <Feature: pickup_neighborhoods.STD(trips.trip_distance)>,\n",
              " <Feature: pickup_neighborhoods.MAX(trips.vendor_id)>,\n",
              " <Feature: pickup_neighborhoods.MAX(trips.passenger_count)>,\n",
              " <Feature: pickup_neighborhoods.MAX(trips.trip_distance)>,\n",
              " <Feature: pickup_neighborhoods.MIN(trips.vendor_id)>,\n",
              " <Feature: pickup_neighborhoods.MIN(trips.passenger_count)>,\n",
              " <Feature: pickup_neighborhoods.MIN(trips.trip_distance)>,\n",
              " <Feature: dropoff_neighborhoods.COUNT(trips)>,\n",
              " <Feature: dropoff_neighborhoods.SUM(trips.vendor_id)>,\n",
              " <Feature: dropoff_neighborhoods.SUM(trips.passenger_count)>,\n",
              " <Feature: dropoff_neighborhoods.SUM(trips.trip_distance)>,\n",
              " <Feature: dropoff_neighborhoods.MEAN(trips.vendor_id)>,\n",
              " <Feature: dropoff_neighborhoods.MEAN(trips.passenger_count)>,\n",
              " <Feature: dropoff_neighborhoods.MEAN(trips.trip_distance)>,\n",
              " <Feature: dropoff_neighborhoods.MEDIAN(trips.vendor_id)>,\n",
              " <Feature: dropoff_neighborhoods.MEDIAN(trips.passenger_count)>,\n",
              " <Feature: dropoff_neighborhoods.MEDIAN(trips.trip_distance)>,\n",
              " <Feature: dropoff_neighborhoods.STD(trips.vendor_id)>,\n",
              " <Feature: dropoff_neighborhoods.STD(trips.passenger_count)>,\n",
              " <Feature: dropoff_neighborhoods.STD(trips.trip_distance)>,\n",
              " <Feature: dropoff_neighborhoods.MAX(trips.vendor_id)>,\n",
              " <Feature: dropoff_neighborhoods.MAX(trips.passenger_count)>,\n",
              " <Feature: dropoff_neighborhoods.MAX(trips.trip_distance)>,\n",
              " <Feature: dropoff_neighborhoods.MIN(trips.vendor_id)>,\n",
              " <Feature: dropoff_neighborhoods.MIN(trips.passenger_count)>,\n",
              " <Feature: dropoff_neighborhoods.MIN(trips.trip_distance)>]"
            ]
          },
          "metadata": {},
          "execution_count": 41
        }
      ],
      "source": [
        "# Calcule los atributos\n",
        "\n",
        "print(f\"Número de atributos: {len(features_3)}\")\n",
        "features_3"
      ]
    },
    {
      "cell_type": "code",
      "execution_count": 42,
      "metadata": {
        "id": "SXNxt-BMozLi",
        "colab": {
          "base_uri": "https://localhost:8080/",
          "height": 5963
        },
        "outputId": "40fc3f19-764a-43b9-be91-9336959a11e0"
      },
      "outputs": [
        {
          "output_type": "stream",
          "name": "stdout",
          "text": [
            "\rElapsed: 00:00 | Remaining: ? | Progress:   0%|          | Calculated: 0/10 chunks"
          ]
        },
        {
          "output_type": "stream",
          "name": "stderr",
          "text": [
            "/usr/local/lib/python3.10/dist-packages/featuretools/entityset/entity.py:249: FutureWarning: The default dtype for empty Series will be 'object' instead of 'float64' in a future version. Specify a dtype explicitly to silence this warning.\n",
            "  my_id_vals = pd.Series([]).append(to_append)\n",
            "/usr/local/lib/python3.10/dist-packages/featuretools/entityset/entity.py:249: FutureWarning: The series.append method is deprecated and will be removed from pandas in a future version. Use pandas.concat instead.\n",
            "  my_id_vals = pd.Series([]).append(to_append)\n",
            "/usr/local/lib/python3.10/dist-packages/featuretools/entityset/entity.py:249: FutureWarning: The default dtype for empty Series will be 'object' instead of 'float64' in a future version. Specify a dtype explicitly to silence this warning.\n",
            "  my_id_vals = pd.Series([]).append(to_append)\n",
            "/usr/local/lib/python3.10/dist-packages/featuretools/entityset/entity.py:249: FutureWarning: The series.append method is deprecated and will be removed from pandas in a future version. Use pandas.concat instead.\n",
            "  my_id_vals = pd.Series([]).append(to_append)\n",
            "/usr/local/lib/python3.10/dist-packages/featuretools/computational_backends/pandas_backend.py:506: FutureWarning: Index.ravel returning ndarray is deprecated; in a future version this will return a view on self.\n",
            "  for n1, n2 in to_merge.columns.ravel()]\n",
            "/usr/local/lib/python3.10/dist-packages/featuretools/entityset/entity.py:249: FutureWarning: The default dtype for empty Series will be 'object' instead of 'float64' in a future version. Specify a dtype explicitly to silence this warning.\n",
            "  my_id_vals = pd.Series([]).append(to_append)\n",
            "/usr/local/lib/python3.10/dist-packages/featuretools/entityset/entity.py:249: FutureWarning: The series.append method is deprecated and will be removed from pandas in a future version. Use pandas.concat instead.\n",
            "  my_id_vals = pd.Series([]).append(to_append)\n",
            "/usr/local/lib/python3.10/dist-packages/featuretools/entityset/entity.py:249: FutureWarning: The default dtype for empty Series will be 'object' instead of 'float64' in a future version. Specify a dtype explicitly to silence this warning.\n",
            "  my_id_vals = pd.Series([]).append(to_append)\n",
            "/usr/local/lib/python3.10/dist-packages/featuretools/entityset/entity.py:249: FutureWarning: The series.append method is deprecated and will be removed from pandas in a future version. Use pandas.concat instead.\n",
            "  my_id_vals = pd.Series([]).append(to_append)\n",
            "/usr/local/lib/python3.10/dist-packages/featuretools/computational_backends/pandas_backend.py:506: FutureWarning: Index.ravel returning ndarray is deprecated; in a future version this will return a view on self.\n",
            "  for n1, n2 in to_merge.columns.ravel()]\n",
            "/usr/local/lib/python3.10/dist-packages/featuretools/entityset/entity.py:249: FutureWarning: The default dtype for empty Series will be 'object' instead of 'float64' in a future version. Specify a dtype explicitly to silence this warning.\n",
            "  my_id_vals = pd.Series([]).append(to_append)\n",
            "/usr/local/lib/python3.10/dist-packages/featuretools/entityset/entity.py:249: FutureWarning: The series.append method is deprecated and will be removed from pandas in a future version. Use pandas.concat instead.\n",
            "  my_id_vals = pd.Series([]).append(to_append)\n",
            "/usr/local/lib/python3.10/dist-packages/featuretools/entityset/entity.py:249: FutureWarning: The default dtype for empty Series will be 'object' instead of 'float64' in a future version. Specify a dtype explicitly to silence this warning.\n",
            "  my_id_vals = pd.Series([]).append(to_append)\n",
            "/usr/local/lib/python3.10/dist-packages/featuretools/entityset/entity.py:249: FutureWarning: The series.append method is deprecated and will be removed from pandas in a future version. Use pandas.concat instead.\n",
            "  my_id_vals = pd.Series([]).append(to_append)\n",
            "/usr/local/lib/python3.10/dist-packages/featuretools/primitives/transform_primitive.py:529: FutureWarning: weekofyear and week have been deprecated, please use DatetimeIndex.isocalendar().week instead, which returns a Series. To exactly reproduce the behavior of week and weekofyear and return an Index, you may call pd.Int64Index(idx.isocalendar().week)\n",
            "  return getattr(pd_index, time_unit).values\n",
            "/usr/local/lib/python3.10/dist-packages/featuretools/primitives/transform_primitive.py:529: FutureWarning: weekofyear and week have been deprecated, please use DatetimeIndex.isocalendar().week instead, which returns a Series. To exactly reproduce the behavior of week and weekofyear and return an Index, you may call pd.Int64Index(idx.isocalendar().week)\n",
            "  return getattr(pd_index, time_unit).values\n"
          ]
        },
        {
          "output_type": "stream",
          "name": "stdout",
          "text": [
            "\rElapsed: 00:01 | Remaining: 00:12 | Progress:  10%|█         | Calculated: 1/10 chunks"
          ]
        },
        {
          "output_type": "stream",
          "name": "stderr",
          "text": [
            "/usr/local/lib/python3.10/dist-packages/featuretools/entityset/entity.py:249: FutureWarning: The default dtype for empty Series will be 'object' instead of 'float64' in a future version. Specify a dtype explicitly to silence this warning.\n",
            "  my_id_vals = pd.Series([]).append(to_append)\n",
            "/usr/local/lib/python3.10/dist-packages/featuretools/entityset/entity.py:249: FutureWarning: The series.append method is deprecated and will be removed from pandas in a future version. Use pandas.concat instead.\n",
            "  my_id_vals = pd.Series([]).append(to_append)\n",
            "/usr/local/lib/python3.10/dist-packages/featuretools/entityset/entity.py:249: FutureWarning: The default dtype for empty Series will be 'object' instead of 'float64' in a future version. Specify a dtype explicitly to silence this warning.\n",
            "  my_id_vals = pd.Series([]).append(to_append)\n",
            "/usr/local/lib/python3.10/dist-packages/featuretools/entityset/entity.py:249: FutureWarning: The series.append method is deprecated and will be removed from pandas in a future version. Use pandas.concat instead.\n",
            "  my_id_vals = pd.Series([]).append(to_append)\n",
            "/usr/local/lib/python3.10/dist-packages/featuretools/computational_backends/pandas_backend.py:506: FutureWarning: Index.ravel returning ndarray is deprecated; in a future version this will return a view on self.\n",
            "  for n1, n2 in to_merge.columns.ravel()]\n",
            "/usr/local/lib/python3.10/dist-packages/featuretools/entityset/entity.py:249: FutureWarning: The default dtype for empty Series will be 'object' instead of 'float64' in a future version. Specify a dtype explicitly to silence this warning.\n",
            "  my_id_vals = pd.Series([]).append(to_append)\n",
            "/usr/local/lib/python3.10/dist-packages/featuretools/entityset/entity.py:249: FutureWarning: The series.append method is deprecated and will be removed from pandas in a future version. Use pandas.concat instead.\n",
            "  my_id_vals = pd.Series([]).append(to_append)\n",
            "/usr/local/lib/python3.10/dist-packages/featuretools/entityset/entity.py:249: FutureWarning: The default dtype for empty Series will be 'object' instead of 'float64' in a future version. Specify a dtype explicitly to silence this warning.\n",
            "  my_id_vals = pd.Series([]).append(to_append)\n",
            "/usr/local/lib/python3.10/dist-packages/featuretools/entityset/entity.py:249: FutureWarning: The series.append method is deprecated and will be removed from pandas in a future version. Use pandas.concat instead.\n",
            "  my_id_vals = pd.Series([]).append(to_append)\n",
            "/usr/local/lib/python3.10/dist-packages/featuretools/computational_backends/pandas_backend.py:506: FutureWarning: Index.ravel returning ndarray is deprecated; in a future version this will return a view on self.\n",
            "  for n1, n2 in to_merge.columns.ravel()]\n",
            "/usr/local/lib/python3.10/dist-packages/featuretools/entityset/entity.py:249: FutureWarning: The default dtype for empty Series will be 'object' instead of 'float64' in a future version. Specify a dtype explicitly to silence this warning.\n",
            "  my_id_vals = pd.Series([]).append(to_append)\n",
            "/usr/local/lib/python3.10/dist-packages/featuretools/entityset/entity.py:249: FutureWarning: The series.append method is deprecated and will be removed from pandas in a future version. Use pandas.concat instead.\n",
            "  my_id_vals = pd.Series([]).append(to_append)\n",
            "/usr/local/lib/python3.10/dist-packages/featuretools/entityset/entity.py:249: FutureWarning: The default dtype for empty Series will be 'object' instead of 'float64' in a future version. Specify a dtype explicitly to silence this warning.\n",
            "  my_id_vals = pd.Series([]).append(to_append)\n",
            "/usr/local/lib/python3.10/dist-packages/featuretools/entityset/entity.py:249: FutureWarning: The series.append method is deprecated and will be removed from pandas in a future version. Use pandas.concat instead.\n",
            "  my_id_vals = pd.Series([]).append(to_append)\n",
            "/usr/local/lib/python3.10/dist-packages/featuretools/primitives/transform_primitive.py:529: FutureWarning: weekofyear and week have been deprecated, please use DatetimeIndex.isocalendar().week instead, which returns a Series. To exactly reproduce the behavior of week and weekofyear and return an Index, you may call pd.Int64Index(idx.isocalendar().week)\n",
            "  return getattr(pd_index, time_unit).values\n"
          ]
        },
        {
          "output_type": "stream",
          "name": "stdout",
          "text": [
            "\rElapsed: 00:02 | Remaining: 00:09 | Progress:  20%|██        | Calculated: 2/10 chunks"
          ]
        },
        {
          "output_type": "stream",
          "name": "stderr",
          "text": [
            "/usr/local/lib/python3.10/dist-packages/featuretools/primitives/transform_primitive.py:529: FutureWarning: weekofyear and week have been deprecated, please use DatetimeIndex.isocalendar().week instead, which returns a Series. To exactly reproduce the behavior of week and weekofyear and return an Index, you may call pd.Int64Index(idx.isocalendar().week)\n",
            "  return getattr(pd_index, time_unit).values\n",
            "/usr/local/lib/python3.10/dist-packages/featuretools/entityset/entity.py:249: FutureWarning: The default dtype for empty Series will be 'object' instead of 'float64' in a future version. Specify a dtype explicitly to silence this warning.\n",
            "  my_id_vals = pd.Series([]).append(to_append)\n",
            "/usr/local/lib/python3.10/dist-packages/featuretools/entityset/entity.py:249: FutureWarning: The series.append method is deprecated and will be removed from pandas in a future version. Use pandas.concat instead.\n",
            "  my_id_vals = pd.Series([]).append(to_append)\n",
            "/usr/local/lib/python3.10/dist-packages/featuretools/entityset/entity.py:249: FutureWarning: The default dtype for empty Series will be 'object' instead of 'float64' in a future version. Specify a dtype explicitly to silence this warning.\n",
            "  my_id_vals = pd.Series([]).append(to_append)\n",
            "/usr/local/lib/python3.10/dist-packages/featuretools/entityset/entity.py:249: FutureWarning: The series.append method is deprecated and will be removed from pandas in a future version. Use pandas.concat instead.\n",
            "  my_id_vals = pd.Series([]).append(to_append)\n",
            "/usr/local/lib/python3.10/dist-packages/featuretools/computational_backends/pandas_backend.py:506: FutureWarning: Index.ravel returning ndarray is deprecated; in a future version this will return a view on self.\n",
            "  for n1, n2 in to_merge.columns.ravel()]\n",
            "/usr/local/lib/python3.10/dist-packages/featuretools/entityset/entity.py:249: FutureWarning: The default dtype for empty Series will be 'object' instead of 'float64' in a future version. Specify a dtype explicitly to silence this warning.\n",
            "  my_id_vals = pd.Series([]).append(to_append)\n",
            "/usr/local/lib/python3.10/dist-packages/featuretools/entityset/entity.py:249: FutureWarning: The series.append method is deprecated and will be removed from pandas in a future version. Use pandas.concat instead.\n",
            "  my_id_vals = pd.Series([]).append(to_append)\n",
            "/usr/local/lib/python3.10/dist-packages/featuretools/entityset/entity.py:249: FutureWarning: The default dtype for empty Series will be 'object' instead of 'float64' in a future version. Specify a dtype explicitly to silence this warning.\n",
            "  my_id_vals = pd.Series([]).append(to_append)\n",
            "/usr/local/lib/python3.10/dist-packages/featuretools/entityset/entity.py:249: FutureWarning: The series.append method is deprecated and will be removed from pandas in a future version. Use pandas.concat instead.\n",
            "  my_id_vals = pd.Series([]).append(to_append)\n",
            "/usr/local/lib/python3.10/dist-packages/featuretools/computational_backends/pandas_backend.py:506: FutureWarning: Index.ravel returning ndarray is deprecated; in a future version this will return a view on self.\n",
            "  for n1, n2 in to_merge.columns.ravel()]\n",
            "/usr/local/lib/python3.10/dist-packages/featuretools/entityset/entity.py:249: FutureWarning: The default dtype for empty Series will be 'object' instead of 'float64' in a future version. Specify a dtype explicitly to silence this warning.\n",
            "  my_id_vals = pd.Series([]).append(to_append)\n",
            "/usr/local/lib/python3.10/dist-packages/featuretools/entityset/entity.py:249: FutureWarning: The series.append method is deprecated and will be removed from pandas in a future version. Use pandas.concat instead.\n",
            "  my_id_vals = pd.Series([]).append(to_append)\n",
            "/usr/local/lib/python3.10/dist-packages/featuretools/entityset/entity.py:249: FutureWarning: The default dtype for empty Series will be 'object' instead of 'float64' in a future version. Specify a dtype explicitly to silence this warning.\n",
            "  my_id_vals = pd.Series([]).append(to_append)\n",
            "/usr/local/lib/python3.10/dist-packages/featuretools/entityset/entity.py:249: FutureWarning: The series.append method is deprecated and will be removed from pandas in a future version. Use pandas.concat instead.\n",
            "  my_id_vals = pd.Series([]).append(to_append)\n",
            "/usr/local/lib/python3.10/dist-packages/featuretools/primitives/transform_primitive.py:529: FutureWarning: weekofyear and week have been deprecated, please use DatetimeIndex.isocalendar().week instead, which returns a Series. To exactly reproduce the behavior of week and weekofyear and return an Index, you may call pd.Int64Index(idx.isocalendar().week)\n",
            "  return getattr(pd_index, time_unit).values\n",
            "/usr/local/lib/python3.10/dist-packages/featuretools/primitives/transform_primitive.py:529: FutureWarning: weekofyear and week have been deprecated, please use DatetimeIndex.isocalendar().week instead, which returns a Series. To exactly reproduce the behavior of week and weekofyear and return an Index, you may call pd.Int64Index(idx.isocalendar().week)\n",
            "  return getattr(pd_index, time_unit).values\n"
          ]
        },
        {
          "output_type": "stream",
          "name": "stdout",
          "text": [
            "\rElapsed: 00:03 | Remaining: 00:07 | Progress:  30%|███       | Calculated: 3/10 chunks"
          ]
        },
        {
          "output_type": "stream",
          "name": "stderr",
          "text": [
            "/usr/local/lib/python3.10/dist-packages/featuretools/entityset/entity.py:249: FutureWarning: The default dtype for empty Series will be 'object' instead of 'float64' in a future version. Specify a dtype explicitly to silence this warning.\n",
            "  my_id_vals = pd.Series([]).append(to_append)\n",
            "/usr/local/lib/python3.10/dist-packages/featuretools/entityset/entity.py:249: FutureWarning: The series.append method is deprecated and will be removed from pandas in a future version. Use pandas.concat instead.\n",
            "  my_id_vals = pd.Series([]).append(to_append)\n",
            "/usr/local/lib/python3.10/dist-packages/featuretools/entityset/entity.py:249: FutureWarning: The default dtype for empty Series will be 'object' instead of 'float64' in a future version. Specify a dtype explicitly to silence this warning.\n",
            "  my_id_vals = pd.Series([]).append(to_append)\n",
            "/usr/local/lib/python3.10/dist-packages/featuretools/entityset/entity.py:249: FutureWarning: The series.append method is deprecated and will be removed from pandas in a future version. Use pandas.concat instead.\n",
            "  my_id_vals = pd.Series([]).append(to_append)\n",
            "/usr/local/lib/python3.10/dist-packages/featuretools/computational_backends/pandas_backend.py:506: FutureWarning: Index.ravel returning ndarray is deprecated; in a future version this will return a view on self.\n",
            "  for n1, n2 in to_merge.columns.ravel()]\n",
            "/usr/local/lib/python3.10/dist-packages/featuretools/entityset/entity.py:249: FutureWarning: The default dtype for empty Series will be 'object' instead of 'float64' in a future version. Specify a dtype explicitly to silence this warning.\n",
            "  my_id_vals = pd.Series([]).append(to_append)\n",
            "/usr/local/lib/python3.10/dist-packages/featuretools/entityset/entity.py:249: FutureWarning: The series.append method is deprecated and will be removed from pandas in a future version. Use pandas.concat instead.\n",
            "  my_id_vals = pd.Series([]).append(to_append)\n",
            "/usr/local/lib/python3.10/dist-packages/featuretools/entityset/entity.py:249: FutureWarning: The default dtype for empty Series will be 'object' instead of 'float64' in a future version. Specify a dtype explicitly to silence this warning.\n",
            "  my_id_vals = pd.Series([]).append(to_append)\n",
            "/usr/local/lib/python3.10/dist-packages/featuretools/entityset/entity.py:249: FutureWarning: The series.append method is deprecated and will be removed from pandas in a future version. Use pandas.concat instead.\n",
            "  my_id_vals = pd.Series([]).append(to_append)\n",
            "/usr/local/lib/python3.10/dist-packages/featuretools/computational_backends/pandas_backend.py:506: FutureWarning: Index.ravel returning ndarray is deprecated; in a future version this will return a view on self.\n",
            "  for n1, n2 in to_merge.columns.ravel()]\n",
            "/usr/local/lib/python3.10/dist-packages/featuretools/entityset/entity.py:249: FutureWarning: The default dtype for empty Series will be 'object' instead of 'float64' in a future version. Specify a dtype explicitly to silence this warning.\n",
            "  my_id_vals = pd.Series([]).append(to_append)\n",
            "/usr/local/lib/python3.10/dist-packages/featuretools/entityset/entity.py:249: FutureWarning: The series.append method is deprecated and will be removed from pandas in a future version. Use pandas.concat instead.\n",
            "  my_id_vals = pd.Series([]).append(to_append)\n",
            "/usr/local/lib/python3.10/dist-packages/featuretools/entityset/entity.py:249: FutureWarning: The default dtype for empty Series will be 'object' instead of 'float64' in a future version. Specify a dtype explicitly to silence this warning.\n",
            "  my_id_vals = pd.Series([]).append(to_append)\n",
            "/usr/local/lib/python3.10/dist-packages/featuretools/entityset/entity.py:249: FutureWarning: The series.append method is deprecated and will be removed from pandas in a future version. Use pandas.concat instead.\n",
            "  my_id_vals = pd.Series([]).append(to_append)\n",
            "/usr/local/lib/python3.10/dist-packages/featuretools/primitives/transform_primitive.py:529: FutureWarning: weekofyear and week have been deprecated, please use DatetimeIndex.isocalendar().week instead, which returns a Series. To exactly reproduce the behavior of week and weekofyear and return an Index, you may call pd.Int64Index(idx.isocalendar().week)\n",
            "  return getattr(pd_index, time_unit).values\n",
            "/usr/local/lib/python3.10/dist-packages/featuretools/primitives/transform_primitive.py:529: FutureWarning: weekofyear and week have been deprecated, please use DatetimeIndex.isocalendar().week instead, which returns a Series. To exactly reproduce the behavior of week and weekofyear and return an Index, you may call pd.Int64Index(idx.isocalendar().week)\n",
            "  return getattr(pd_index, time_unit).values\n"
          ]
        },
        {
          "output_type": "stream",
          "name": "stdout",
          "text": [
            "\rElapsed: 00:03 | Remaining: 00:05 | Progress:  40%|████      | Calculated: 4/10 chunks"
          ]
        },
        {
          "output_type": "stream",
          "name": "stderr",
          "text": [
            "/usr/local/lib/python3.10/dist-packages/featuretools/entityset/entity.py:249: FutureWarning: The default dtype for empty Series will be 'object' instead of 'float64' in a future version. Specify a dtype explicitly to silence this warning.\n",
            "  my_id_vals = pd.Series([]).append(to_append)\n",
            "/usr/local/lib/python3.10/dist-packages/featuretools/entityset/entity.py:249: FutureWarning: The series.append method is deprecated and will be removed from pandas in a future version. Use pandas.concat instead.\n",
            "  my_id_vals = pd.Series([]).append(to_append)\n",
            "/usr/local/lib/python3.10/dist-packages/featuretools/entityset/entity.py:249: FutureWarning: The default dtype for empty Series will be 'object' instead of 'float64' in a future version. Specify a dtype explicitly to silence this warning.\n",
            "  my_id_vals = pd.Series([]).append(to_append)\n",
            "/usr/local/lib/python3.10/dist-packages/featuretools/entityset/entity.py:249: FutureWarning: The series.append method is deprecated and will be removed from pandas in a future version. Use pandas.concat instead.\n",
            "  my_id_vals = pd.Series([]).append(to_append)\n",
            "/usr/local/lib/python3.10/dist-packages/featuretools/computational_backends/pandas_backend.py:506: FutureWarning: Index.ravel returning ndarray is deprecated; in a future version this will return a view on self.\n",
            "  for n1, n2 in to_merge.columns.ravel()]\n",
            "/usr/local/lib/python3.10/dist-packages/featuretools/entityset/entity.py:249: FutureWarning: The default dtype for empty Series will be 'object' instead of 'float64' in a future version. Specify a dtype explicitly to silence this warning.\n",
            "  my_id_vals = pd.Series([]).append(to_append)\n",
            "/usr/local/lib/python3.10/dist-packages/featuretools/entityset/entity.py:249: FutureWarning: The series.append method is deprecated and will be removed from pandas in a future version. Use pandas.concat instead.\n",
            "  my_id_vals = pd.Series([]).append(to_append)\n",
            "/usr/local/lib/python3.10/dist-packages/featuretools/entityset/entity.py:249: FutureWarning: The default dtype for empty Series will be 'object' instead of 'float64' in a future version. Specify a dtype explicitly to silence this warning.\n",
            "  my_id_vals = pd.Series([]).append(to_append)\n",
            "/usr/local/lib/python3.10/dist-packages/featuretools/entityset/entity.py:249: FutureWarning: The series.append method is deprecated and will be removed from pandas in a future version. Use pandas.concat instead.\n",
            "  my_id_vals = pd.Series([]).append(to_append)\n",
            "/usr/local/lib/python3.10/dist-packages/featuretools/computational_backends/pandas_backend.py:506: FutureWarning: Index.ravel returning ndarray is deprecated; in a future version this will return a view on self.\n",
            "  for n1, n2 in to_merge.columns.ravel()]\n"
          ]
        },
        {
          "output_type": "stream",
          "name": "stdout",
          "text": [
            "\rElapsed: 00:04 | Remaining: 00:04 | Progress:  50%|█████     | Calculated: 5/10 chunks"
          ]
        },
        {
          "output_type": "stream",
          "name": "stderr",
          "text": [
            "/usr/local/lib/python3.10/dist-packages/featuretools/entityset/entity.py:249: FutureWarning: The default dtype for empty Series will be 'object' instead of 'float64' in a future version. Specify a dtype explicitly to silence this warning.\n",
            "  my_id_vals = pd.Series([]).append(to_append)\n",
            "/usr/local/lib/python3.10/dist-packages/featuretools/entityset/entity.py:249: FutureWarning: The series.append method is deprecated and will be removed from pandas in a future version. Use pandas.concat instead.\n",
            "  my_id_vals = pd.Series([]).append(to_append)\n",
            "/usr/local/lib/python3.10/dist-packages/featuretools/entityset/entity.py:249: FutureWarning: The default dtype for empty Series will be 'object' instead of 'float64' in a future version. Specify a dtype explicitly to silence this warning.\n",
            "  my_id_vals = pd.Series([]).append(to_append)\n",
            "/usr/local/lib/python3.10/dist-packages/featuretools/entityset/entity.py:249: FutureWarning: The series.append method is deprecated and will be removed from pandas in a future version. Use pandas.concat instead.\n",
            "  my_id_vals = pd.Series([]).append(to_append)\n",
            "/usr/local/lib/python3.10/dist-packages/featuretools/primitives/transform_primitive.py:529: FutureWarning: weekofyear and week have been deprecated, please use DatetimeIndex.isocalendar().week instead, which returns a Series. To exactly reproduce the behavior of week and weekofyear and return an Index, you may call pd.Int64Index(idx.isocalendar().week)\n",
            "  return getattr(pd_index, time_unit).values\n",
            "/usr/local/lib/python3.10/dist-packages/featuretools/primitives/transform_primitive.py:529: FutureWarning: weekofyear and week have been deprecated, please use DatetimeIndex.isocalendar().week instead, which returns a Series. To exactly reproduce the behavior of week and weekofyear and return an Index, you may call pd.Int64Index(idx.isocalendar().week)\n",
            "  return getattr(pd_index, time_unit).values\n",
            "/usr/local/lib/python3.10/dist-packages/featuretools/entityset/entity.py:249: FutureWarning: The default dtype for empty Series will be 'object' instead of 'float64' in a future version. Specify a dtype explicitly to silence this warning.\n",
            "  my_id_vals = pd.Series([]).append(to_append)\n",
            "/usr/local/lib/python3.10/dist-packages/featuretools/entityset/entity.py:249: FutureWarning: The series.append method is deprecated and will be removed from pandas in a future version. Use pandas.concat instead.\n",
            "  my_id_vals = pd.Series([]).append(to_append)\n",
            "/usr/local/lib/python3.10/dist-packages/featuretools/entityset/entity.py:249: FutureWarning: The default dtype for empty Series will be 'object' instead of 'float64' in a future version. Specify a dtype explicitly to silence this warning.\n",
            "  my_id_vals = pd.Series([]).append(to_append)\n",
            "/usr/local/lib/python3.10/dist-packages/featuretools/entityset/entity.py:249: FutureWarning: The series.append method is deprecated and will be removed from pandas in a future version. Use pandas.concat instead.\n",
            "  my_id_vals = pd.Series([]).append(to_append)\n",
            "/usr/local/lib/python3.10/dist-packages/featuretools/computational_backends/pandas_backend.py:506: FutureWarning: Index.ravel returning ndarray is deprecated; in a future version this will return a view on self.\n",
            "  for n1, n2 in to_merge.columns.ravel()]\n",
            "/usr/local/lib/python3.10/dist-packages/featuretools/entityset/entity.py:249: FutureWarning: The default dtype for empty Series will be 'object' instead of 'float64' in a future version. Specify a dtype explicitly to silence this warning.\n",
            "  my_id_vals = pd.Series([]).append(to_append)\n",
            "/usr/local/lib/python3.10/dist-packages/featuretools/entityset/entity.py:249: FutureWarning: The series.append method is deprecated and will be removed from pandas in a future version. Use pandas.concat instead.\n",
            "  my_id_vals = pd.Series([]).append(to_append)\n",
            "/usr/local/lib/python3.10/dist-packages/featuretools/entityset/entity.py:249: FutureWarning: The default dtype for empty Series will be 'object' instead of 'float64' in a future version. Specify a dtype explicitly to silence this warning.\n",
            "  my_id_vals = pd.Series([]).append(to_append)\n",
            "/usr/local/lib/python3.10/dist-packages/featuretools/entityset/entity.py:249: FutureWarning: The series.append method is deprecated and will be removed from pandas in a future version. Use pandas.concat instead.\n",
            "  my_id_vals = pd.Series([]).append(to_append)\n",
            "/usr/local/lib/python3.10/dist-packages/featuretools/computational_backends/pandas_backend.py:506: FutureWarning: Index.ravel returning ndarray is deprecated; in a future version this will return a view on self.\n",
            "  for n1, n2 in to_merge.columns.ravel()]\n",
            "/usr/local/lib/python3.10/dist-packages/featuretools/entityset/entity.py:249: FutureWarning: The default dtype for empty Series will be 'object' instead of 'float64' in a future version. Specify a dtype explicitly to silence this warning.\n",
            "  my_id_vals = pd.Series([]).append(to_append)\n",
            "/usr/local/lib/python3.10/dist-packages/featuretools/entityset/entity.py:249: FutureWarning: The series.append method is deprecated and will be removed from pandas in a future version. Use pandas.concat instead.\n",
            "  my_id_vals = pd.Series([]).append(to_append)\n",
            "/usr/local/lib/python3.10/dist-packages/featuretools/entityset/entity.py:249: FutureWarning: The default dtype for empty Series will be 'object' instead of 'float64' in a future version. Specify a dtype explicitly to silence this warning.\n",
            "  my_id_vals = pd.Series([]).append(to_append)\n",
            "/usr/local/lib/python3.10/dist-packages/featuretools/entityset/entity.py:249: FutureWarning: The series.append method is deprecated and will be removed from pandas in a future version. Use pandas.concat instead.\n",
            "  my_id_vals = pd.Series([]).append(to_append)\n",
            "/usr/local/lib/python3.10/dist-packages/featuretools/primitives/transform_primitive.py:529: FutureWarning: weekofyear and week have been deprecated, please use DatetimeIndex.isocalendar().week instead, which returns a Series. To exactly reproduce the behavior of week and weekofyear and return an Index, you may call pd.Int64Index(idx.isocalendar().week)\n",
            "  return getattr(pd_index, time_unit).values\n",
            "/usr/local/lib/python3.10/dist-packages/featuretools/primitives/transform_primitive.py:529: FutureWarning: weekofyear and week have been deprecated, please use DatetimeIndex.isocalendar().week instead, which returns a Series. To exactly reproduce the behavior of week and weekofyear and return an Index, you may call pd.Int64Index(idx.isocalendar().week)\n",
            "  return getattr(pd_index, time_unit).values\n"
          ]
        },
        {
          "output_type": "stream",
          "name": "stdout",
          "text": [
            "\rElapsed: 00:05 | Remaining: 00:03 | Progress:  60%|██████    | Calculated: 6/10 chunks"
          ]
        },
        {
          "output_type": "stream",
          "name": "stderr",
          "text": [
            "/usr/local/lib/python3.10/dist-packages/featuretools/entityset/entity.py:249: FutureWarning: The default dtype for empty Series will be 'object' instead of 'float64' in a future version. Specify a dtype explicitly to silence this warning.\n",
            "  my_id_vals = pd.Series([]).append(to_append)\n",
            "/usr/local/lib/python3.10/dist-packages/featuretools/entityset/entity.py:249: FutureWarning: The series.append method is deprecated and will be removed from pandas in a future version. Use pandas.concat instead.\n",
            "  my_id_vals = pd.Series([]).append(to_append)\n",
            "/usr/local/lib/python3.10/dist-packages/featuretools/entityset/entity.py:249: FutureWarning: The default dtype for empty Series will be 'object' instead of 'float64' in a future version. Specify a dtype explicitly to silence this warning.\n",
            "  my_id_vals = pd.Series([]).append(to_append)\n",
            "/usr/local/lib/python3.10/dist-packages/featuretools/entityset/entity.py:249: FutureWarning: The series.append method is deprecated and will be removed from pandas in a future version. Use pandas.concat instead.\n",
            "  my_id_vals = pd.Series([]).append(to_append)\n",
            "/usr/local/lib/python3.10/dist-packages/featuretools/computational_backends/pandas_backend.py:506: FutureWarning: Index.ravel returning ndarray is deprecated; in a future version this will return a view on self.\n",
            "  for n1, n2 in to_merge.columns.ravel()]\n",
            "/usr/local/lib/python3.10/dist-packages/featuretools/entityset/entity.py:249: FutureWarning: The default dtype for empty Series will be 'object' instead of 'float64' in a future version. Specify a dtype explicitly to silence this warning.\n",
            "  my_id_vals = pd.Series([]).append(to_append)\n",
            "/usr/local/lib/python3.10/dist-packages/featuretools/entityset/entity.py:249: FutureWarning: The series.append method is deprecated and will be removed from pandas in a future version. Use pandas.concat instead.\n",
            "  my_id_vals = pd.Series([]).append(to_append)\n",
            "/usr/local/lib/python3.10/dist-packages/featuretools/entityset/entity.py:249: FutureWarning: The default dtype for empty Series will be 'object' instead of 'float64' in a future version. Specify a dtype explicitly to silence this warning.\n",
            "  my_id_vals = pd.Series([]).append(to_append)\n",
            "/usr/local/lib/python3.10/dist-packages/featuretools/entityset/entity.py:249: FutureWarning: The series.append method is deprecated and will be removed from pandas in a future version. Use pandas.concat instead.\n",
            "  my_id_vals = pd.Series([]).append(to_append)\n",
            "/usr/local/lib/python3.10/dist-packages/featuretools/computational_backends/pandas_backend.py:506: FutureWarning: Index.ravel returning ndarray is deprecated; in a future version this will return a view on self.\n",
            "  for n1, n2 in to_merge.columns.ravel()]\n"
          ]
        },
        {
          "output_type": "stream",
          "name": "stdout",
          "text": [
            "\rElapsed: 00:06 | Remaining: 00:02 | Progress:  70%|███████   | Calculated: 7/10 chunks"
          ]
        },
        {
          "output_type": "stream",
          "name": "stderr",
          "text": [
            "/usr/local/lib/python3.10/dist-packages/featuretools/entityset/entity.py:249: FutureWarning: The default dtype for empty Series will be 'object' instead of 'float64' in a future version. Specify a dtype explicitly to silence this warning.\n",
            "  my_id_vals = pd.Series([]).append(to_append)\n",
            "/usr/local/lib/python3.10/dist-packages/featuretools/entityset/entity.py:249: FutureWarning: The series.append method is deprecated and will be removed from pandas in a future version. Use pandas.concat instead.\n",
            "  my_id_vals = pd.Series([]).append(to_append)\n",
            "/usr/local/lib/python3.10/dist-packages/featuretools/entityset/entity.py:249: FutureWarning: The default dtype for empty Series will be 'object' instead of 'float64' in a future version. Specify a dtype explicitly to silence this warning.\n",
            "  my_id_vals = pd.Series([]).append(to_append)\n",
            "/usr/local/lib/python3.10/dist-packages/featuretools/entityset/entity.py:249: FutureWarning: The series.append method is deprecated and will be removed from pandas in a future version. Use pandas.concat instead.\n",
            "  my_id_vals = pd.Series([]).append(to_append)\n",
            "/usr/local/lib/python3.10/dist-packages/featuretools/primitives/transform_primitive.py:529: FutureWarning: weekofyear and week have been deprecated, please use DatetimeIndex.isocalendar().week instead, which returns a Series. To exactly reproduce the behavior of week and weekofyear and return an Index, you may call pd.Int64Index(idx.isocalendar().week)\n",
            "  return getattr(pd_index, time_unit).values\n",
            "/usr/local/lib/python3.10/dist-packages/featuretools/primitives/transform_primitive.py:529: FutureWarning: weekofyear and week have been deprecated, please use DatetimeIndex.isocalendar().week instead, which returns a Series. To exactly reproduce the behavior of week and weekofyear and return an Index, you may call pd.Int64Index(idx.isocalendar().week)\n",
            "  return getattr(pd_index, time_unit).values\n",
            "/usr/local/lib/python3.10/dist-packages/featuretools/entityset/entity.py:249: FutureWarning: The default dtype for empty Series will be 'object' instead of 'float64' in a future version. Specify a dtype explicitly to silence this warning.\n",
            "  my_id_vals = pd.Series([]).append(to_append)\n",
            "/usr/local/lib/python3.10/dist-packages/featuretools/entityset/entity.py:249: FutureWarning: The series.append method is deprecated and will be removed from pandas in a future version. Use pandas.concat instead.\n",
            "  my_id_vals = pd.Series([]).append(to_append)\n",
            "/usr/local/lib/python3.10/dist-packages/featuretools/entityset/entity.py:249: FutureWarning: The default dtype for empty Series will be 'object' instead of 'float64' in a future version. Specify a dtype explicitly to silence this warning.\n",
            "  my_id_vals = pd.Series([]).append(to_append)\n",
            "/usr/local/lib/python3.10/dist-packages/featuretools/entityset/entity.py:249: FutureWarning: The series.append method is deprecated and will be removed from pandas in a future version. Use pandas.concat instead.\n",
            "  my_id_vals = pd.Series([]).append(to_append)\n",
            "/usr/local/lib/python3.10/dist-packages/featuretools/computational_backends/pandas_backend.py:506: FutureWarning: Index.ravel returning ndarray is deprecated; in a future version this will return a view on self.\n",
            "  for n1, n2 in to_merge.columns.ravel()]\n",
            "/usr/local/lib/python3.10/dist-packages/featuretools/entityset/entity.py:249: FutureWarning: The default dtype for empty Series will be 'object' instead of 'float64' in a future version. Specify a dtype explicitly to silence this warning.\n",
            "  my_id_vals = pd.Series([]).append(to_append)\n",
            "/usr/local/lib/python3.10/dist-packages/featuretools/entityset/entity.py:249: FutureWarning: The series.append method is deprecated and will be removed from pandas in a future version. Use pandas.concat instead.\n",
            "  my_id_vals = pd.Series([]).append(to_append)\n",
            "/usr/local/lib/python3.10/dist-packages/featuretools/entityset/entity.py:249: FutureWarning: The default dtype for empty Series will be 'object' instead of 'float64' in a future version. Specify a dtype explicitly to silence this warning.\n",
            "  my_id_vals = pd.Series([]).append(to_append)\n",
            "/usr/local/lib/python3.10/dist-packages/featuretools/entityset/entity.py:249: FutureWarning: The series.append method is deprecated and will be removed from pandas in a future version. Use pandas.concat instead.\n",
            "  my_id_vals = pd.Series([]).append(to_append)\n",
            "/usr/local/lib/python3.10/dist-packages/featuretools/computational_backends/pandas_backend.py:506: FutureWarning: Index.ravel returning ndarray is deprecated; in a future version this will return a view on self.\n",
            "  for n1, n2 in to_merge.columns.ravel()]\n",
            "/usr/local/lib/python3.10/dist-packages/featuretools/entityset/entity.py:249: FutureWarning: The default dtype for empty Series will be 'object' instead of 'float64' in a future version. Specify a dtype explicitly to silence this warning.\n",
            "  my_id_vals = pd.Series([]).append(to_append)\n",
            "/usr/local/lib/python3.10/dist-packages/featuretools/entityset/entity.py:249: FutureWarning: The series.append method is deprecated and will be removed from pandas in a future version. Use pandas.concat instead.\n",
            "  my_id_vals = pd.Series([]).append(to_append)\n",
            "/usr/local/lib/python3.10/dist-packages/featuretools/entityset/entity.py:249: FutureWarning: The default dtype for empty Series will be 'object' instead of 'float64' in a future version. Specify a dtype explicitly to silence this warning.\n",
            "  my_id_vals = pd.Series([]).append(to_append)\n",
            "/usr/local/lib/python3.10/dist-packages/featuretools/entityset/entity.py:249: FutureWarning: The series.append method is deprecated and will be removed from pandas in a future version. Use pandas.concat instead.\n",
            "  my_id_vals = pd.Series([]).append(to_append)\n",
            "/usr/local/lib/python3.10/dist-packages/featuretools/primitives/transform_primitive.py:529: FutureWarning: weekofyear and week have been deprecated, please use DatetimeIndex.isocalendar().week instead, which returns a Series. To exactly reproduce the behavior of week and weekofyear and return an Index, you may call pd.Int64Index(idx.isocalendar().week)\n",
            "  return getattr(pd_index, time_unit).values\n",
            "/usr/local/lib/python3.10/dist-packages/featuretools/primitives/transform_primitive.py:529: FutureWarning: weekofyear and week have been deprecated, please use DatetimeIndex.isocalendar().week instead, which returns a Series. To exactly reproduce the behavior of week and weekofyear and return an Index, you may call pd.Int64Index(idx.isocalendar().week)\n",
            "  return getattr(pd_index, time_unit).values\n"
          ]
        },
        {
          "output_type": "stream",
          "name": "stdout",
          "text": [
            "\rElapsed: 00:07 | Remaining: 00:01 | Progress:  80%|████████  | Calculated: 8/10 chunks"
          ]
        },
        {
          "output_type": "stream",
          "name": "stderr",
          "text": [
            "/usr/local/lib/python3.10/dist-packages/featuretools/entityset/entity.py:249: FutureWarning: The default dtype for empty Series will be 'object' instead of 'float64' in a future version. Specify a dtype explicitly to silence this warning.\n",
            "  my_id_vals = pd.Series([]).append(to_append)\n",
            "/usr/local/lib/python3.10/dist-packages/featuretools/entityset/entity.py:249: FutureWarning: The series.append method is deprecated and will be removed from pandas in a future version. Use pandas.concat instead.\n",
            "  my_id_vals = pd.Series([]).append(to_append)\n",
            "/usr/local/lib/python3.10/dist-packages/featuretools/entityset/entity.py:249: FutureWarning: The default dtype for empty Series will be 'object' instead of 'float64' in a future version. Specify a dtype explicitly to silence this warning.\n",
            "  my_id_vals = pd.Series([]).append(to_append)\n",
            "/usr/local/lib/python3.10/dist-packages/featuretools/entityset/entity.py:249: FutureWarning: The series.append method is deprecated and will be removed from pandas in a future version. Use pandas.concat instead.\n",
            "  my_id_vals = pd.Series([]).append(to_append)\n",
            "/usr/local/lib/python3.10/dist-packages/featuretools/computational_backends/pandas_backend.py:506: FutureWarning: Index.ravel returning ndarray is deprecated; in a future version this will return a view on self.\n",
            "  for n1, n2 in to_merge.columns.ravel()]\n",
            "/usr/local/lib/python3.10/dist-packages/featuretools/entityset/entity.py:249: FutureWarning: The default dtype for empty Series will be 'object' instead of 'float64' in a future version. Specify a dtype explicitly to silence this warning.\n",
            "  my_id_vals = pd.Series([]).append(to_append)\n",
            "/usr/local/lib/python3.10/dist-packages/featuretools/entityset/entity.py:249: FutureWarning: The series.append method is deprecated and will be removed from pandas in a future version. Use pandas.concat instead.\n",
            "  my_id_vals = pd.Series([]).append(to_append)\n",
            "/usr/local/lib/python3.10/dist-packages/featuretools/entityset/entity.py:249: FutureWarning: The default dtype for empty Series will be 'object' instead of 'float64' in a future version. Specify a dtype explicitly to silence this warning.\n",
            "  my_id_vals = pd.Series([]).append(to_append)\n",
            "/usr/local/lib/python3.10/dist-packages/featuretools/entityset/entity.py:249: FutureWarning: The series.append method is deprecated and will be removed from pandas in a future version. Use pandas.concat instead.\n",
            "  my_id_vals = pd.Series([]).append(to_append)\n",
            "/usr/local/lib/python3.10/dist-packages/featuretools/computational_backends/pandas_backend.py:506: FutureWarning: Index.ravel returning ndarray is deprecated; in a future version this will return a view on self.\n",
            "  for n1, n2 in to_merge.columns.ravel()]\n",
            "/usr/local/lib/python3.10/dist-packages/featuretools/entityset/entity.py:249: FutureWarning: The default dtype for empty Series will be 'object' instead of 'float64' in a future version. Specify a dtype explicitly to silence this warning.\n",
            "  my_id_vals = pd.Series([]).append(to_append)\n",
            "/usr/local/lib/python3.10/dist-packages/featuretools/entityset/entity.py:249: FutureWarning: The series.append method is deprecated and will be removed from pandas in a future version. Use pandas.concat instead.\n",
            "  my_id_vals = pd.Series([]).append(to_append)\n",
            "/usr/local/lib/python3.10/dist-packages/featuretools/entityset/entity.py:249: FutureWarning: The default dtype for empty Series will be 'object' instead of 'float64' in a future version. Specify a dtype explicitly to silence this warning.\n",
            "  my_id_vals = pd.Series([]).append(to_append)\n",
            "/usr/local/lib/python3.10/dist-packages/featuretools/entityset/entity.py:249: FutureWarning: The series.append method is deprecated and will be removed from pandas in a future version. Use pandas.concat instead.\n",
            "  my_id_vals = pd.Series([]).append(to_append)\n",
            "/usr/local/lib/python3.10/dist-packages/featuretools/primitives/transform_primitive.py:529: FutureWarning: weekofyear and week have been deprecated, please use DatetimeIndex.isocalendar().week instead, which returns a Series. To exactly reproduce the behavior of week and weekofyear and return an Index, you may call pd.Int64Index(idx.isocalendar().week)\n",
            "  return getattr(pd_index, time_unit).values\n",
            "/usr/local/lib/python3.10/dist-packages/featuretools/primitives/transform_primitive.py:529: FutureWarning: weekofyear and week have been deprecated, please use DatetimeIndex.isocalendar().week instead, which returns a Series. To exactly reproduce the behavior of week and weekofyear and return an Index, you may call pd.Int64Index(idx.isocalendar().week)\n",
            "  return getattr(pd_index, time_unit).values\n"
          ]
        },
        {
          "output_type": "stream",
          "name": "stdout",
          "text": [
            "\rElapsed: 00:07 | Remaining: 00:00 | Progress:  90%|█████████ | Calculated: 9/10 chunks"
          ]
        },
        {
          "output_type": "stream",
          "name": "stderr",
          "text": [
            "/usr/local/lib/python3.10/dist-packages/featuretools/entityset/entity.py:249: FutureWarning: The default dtype for empty Series will be 'object' instead of 'float64' in a future version. Specify a dtype explicitly to silence this warning.\n",
            "  my_id_vals = pd.Series([]).append(to_append)\n",
            "/usr/local/lib/python3.10/dist-packages/featuretools/entityset/entity.py:249: FutureWarning: The series.append method is deprecated and will be removed from pandas in a future version. Use pandas.concat instead.\n",
            "  my_id_vals = pd.Series([]).append(to_append)\n",
            "/usr/local/lib/python3.10/dist-packages/featuretools/entityset/entity.py:249: FutureWarning: The default dtype for empty Series will be 'object' instead of 'float64' in a future version. Specify a dtype explicitly to silence this warning.\n",
            "  my_id_vals = pd.Series([]).append(to_append)\n",
            "/usr/local/lib/python3.10/dist-packages/featuretools/entityset/entity.py:249: FutureWarning: The series.append method is deprecated and will be removed from pandas in a future version. Use pandas.concat instead.\n",
            "  my_id_vals = pd.Series([]).append(to_append)\n",
            "/usr/local/lib/python3.10/dist-packages/featuretools/computational_backends/pandas_backend.py:506: FutureWarning: Index.ravel returning ndarray is deprecated; in a future version this will return a view on self.\n",
            "  for n1, n2 in to_merge.columns.ravel()]\n",
            "/usr/local/lib/python3.10/dist-packages/featuretools/entityset/entity.py:249: FutureWarning: The default dtype for empty Series will be 'object' instead of 'float64' in a future version. Specify a dtype explicitly to silence this warning.\n",
            "  my_id_vals = pd.Series([]).append(to_append)\n",
            "/usr/local/lib/python3.10/dist-packages/featuretools/entityset/entity.py:249: FutureWarning: The series.append method is deprecated and will be removed from pandas in a future version. Use pandas.concat instead.\n",
            "  my_id_vals = pd.Series([]).append(to_append)\n",
            "/usr/local/lib/python3.10/dist-packages/featuretools/entityset/entity.py:249: FutureWarning: The default dtype for empty Series will be 'object' instead of 'float64' in a future version. Specify a dtype explicitly to silence this warning.\n",
            "  my_id_vals = pd.Series([]).append(to_append)\n",
            "/usr/local/lib/python3.10/dist-packages/featuretools/entityset/entity.py:249: FutureWarning: The series.append method is deprecated and will be removed from pandas in a future version. Use pandas.concat instead.\n",
            "  my_id_vals = pd.Series([]).append(to_append)\n",
            "/usr/local/lib/python3.10/dist-packages/featuretools/computational_backends/pandas_backend.py:506: FutureWarning: Index.ravel returning ndarray is deprecated; in a future version this will return a view on self.\n",
            "  for n1, n2 in to_merge.columns.ravel()]\n",
            "/usr/local/lib/python3.10/dist-packages/featuretools/entityset/entity.py:249: FutureWarning: The default dtype for empty Series will be 'object' instead of 'float64' in a future version. Specify a dtype explicitly to silence this warning.\n",
            "  my_id_vals = pd.Series([]).append(to_append)\n",
            "/usr/local/lib/python3.10/dist-packages/featuretools/entityset/entity.py:249: FutureWarning: The series.append method is deprecated and will be removed from pandas in a future version. Use pandas.concat instead.\n",
            "  my_id_vals = pd.Series([]).append(to_append)\n",
            "/usr/local/lib/python3.10/dist-packages/featuretools/entityset/entity.py:249: FutureWarning: The default dtype for empty Series will be 'object' instead of 'float64' in a future version. Specify a dtype explicitly to silence this warning.\n",
            "  my_id_vals = pd.Series([]).append(to_append)\n",
            "/usr/local/lib/python3.10/dist-packages/featuretools/entityset/entity.py:249: FutureWarning: The series.append method is deprecated and will be removed from pandas in a future version. Use pandas.concat instead.\n",
            "  my_id_vals = pd.Series([]).append(to_append)\n",
            "/usr/local/lib/python3.10/dist-packages/featuretools/primitives/transform_primitive.py:529: FutureWarning: weekofyear and week have been deprecated, please use DatetimeIndex.isocalendar().week instead, which returns a Series. To exactly reproduce the behavior of week and weekofyear and return an Index, you may call pd.Int64Index(idx.isocalendar().week)\n",
            "  return getattr(pd_index, time_unit).values\n",
            "/usr/local/lib/python3.10/dist-packages/featuretools/primitives/transform_primitive.py:529: FutureWarning: weekofyear and week have been deprecated, please use DatetimeIndex.isocalendar().week instead, which returns a Series. To exactly reproduce the behavior of week and weekofyear and return an Index, you may call pd.Int64Index(idx.isocalendar().week)\n",
            "  return getattr(pd_index, time_unit).values\n"
          ]
        },
        {
          "output_type": "stream",
          "name": "stdout",
          "text": [
            "Elapsed: 00:08 | Remaining: 00:00 | Progress: 100%|██████████| Calculated: 10/10 chunks\n",
            "Finishing computing...\n"
          ]
        },
        {
          "output_type": "stream",
          "name": "stderr",
          "text": [
            "/usr/local/lib/python3.10/dist-packages/featuretools/synthesis/encode_features.py:110: PerformanceWarning: DataFrame is highly fragmented.  This is usually the result of calling `frame.insert` many times, which has poor performance.  Consider joining all columns at once using pd.concat(axis=1) instead. To get a de-fragmented frame, use `newframe = frame.copy()`\n",
            "  X[add.get_name()] = (X[f.get_name()] == label).astype(int)\n",
            "/usr/local/lib/python3.10/dist-packages/featuretools/synthesis/encode_features.py:110: PerformanceWarning: DataFrame is highly fragmented.  This is usually the result of calling `frame.insert` many times, which has poor performance.  Consider joining all columns at once using pd.concat(axis=1) instead. To get a de-fragmented frame, use `newframe = frame.copy()`\n",
            "  X[add.get_name()] = (X[f.get_name()] == label).astype(int)\n"
          ]
        },
        {
          "output_type": "execute_result",
          "data": {
            "text/plain": [
              "        pickup_neighborhoods.MAX(trips.passenger_count)  \\\n",
              "id                                                        \n",
              "514030                                              6.0   \n",
              "514031                                              6.0   \n",
              "514032                                              6.0   \n",
              "514033                                              6.0   \n",
              "514034                                              6.0   \n",
              "\n",
              "        pickup_neighborhoods.STD(trips.trip_distance)  \\\n",
              "id                                                      \n",
              "514030                                       3.368966   \n",
              "514031                                       2.757987   \n",
              "514032                                       2.316361   \n",
              "514033                                       2.428094   \n",
              "514034                                       5.241291   \n",
              "\n",
              "        WEEKDAY(pickup_datetime)  \\\n",
              "id                                 \n",
              "514030                         5   \n",
              "514031                         5   \n",
              "514032                         5   \n",
              "514033                         5   \n",
              "514034                         5   \n",
              "\n",
              "        pickup_neighborhoods.MAX(trips.trip_distance)  \\\n",
              "id                                                      \n",
              "514030                                          18.89   \n",
              "514031                                          16.40   \n",
              "514032                                          17.90   \n",
              "514033                                          17.38   \n",
              "514034                                          26.60   \n",
              "\n",
              "        pickup_neighborhood = AA  pickup_neighborhood = D  \\\n",
              "id                                                          \n",
              "514030                         1                        0   \n",
              "514031                         0                        0   \n",
              "514032                         0                        0   \n",
              "514033                         0                        0   \n",
              "514034                         0                        0   \n",
              "\n",
              "        pickup_neighborhood = AC  pickup_neighborhood = AB  \\\n",
              "id                                                           \n",
              "514030                         0                         0   \n",
              "514031                         0                         0   \n",
              "514032                         0                         0   \n",
              "514033                         1                         0   \n",
              "514034                         0                         0   \n",
              "\n",
              "        pickup_neighborhood = AO  pickup_neighborhood = AD  ...  \\\n",
              "id                                                          ...   \n",
              "514030                         0                         0  ...   \n",
              "514031                         0                         0  ...   \n",
              "514032                         0                         0  ...   \n",
              "514033                         0                         0  ...   \n",
              "514034                         0                         0  ...   \n",
              "\n",
              "        dropoff_neighborhoods.MIN(trips.trip_distance)  \\\n",
              "id                                                       \n",
              "514030                                            0.00   \n",
              "514031                                            0.30   \n",
              "514032                                            0.00   \n",
              "514033                                            0.00   \n",
              "514034                                            0.17   \n",
              "\n",
              "        MONTH(pickup_datetime)  MINUTE(dropoff_datetime)  \\\n",
              "id                                                         \n",
              "514030                       4                        17   \n",
              "514031                       4                        24   \n",
              "514032                       4                        19   \n",
              "514033                       4                         1   \n",
              "514034                       4                        58   \n",
              "\n",
              "        pickup_neighborhoods.COUNT(trips)  DAY(pickup_datetime)  \\\n",
              "id                                                                \n",
              "514030                              444.0                     2   \n",
              "514031                               46.0                     2   \n",
              "514032                              370.0                     2   \n",
              "514033                              407.0                     2   \n",
              "514034                              154.0                     2   \n",
              "\n",
              "        dropoff_neighborhoods.COUNT(trips)  trip_distance  \\\n",
              "id                                                          \n",
              "514030                               295.0           2.46   \n",
              "514031                               181.0           7.90   \n",
              "514032                               293.0           1.00   \n",
              "514033                               282.0           0.02   \n",
              "514034                               293.0          19.00   \n",
              "\n",
              "        dropoff_neighborhoods.MEDIAN(trips.passenger_count)  \\\n",
              "id                                                            \n",
              "514030                                                1.0     \n",
              "514031                                                1.0     \n",
              "514032                                                1.0     \n",
              "514033                                                1.0     \n",
              "514034                                                1.0     \n",
              "\n",
              "        pickup_neighborhoods.SUM(trips.trip_distance)  \\\n",
              "id                                                      \n",
              "514030                                        1301.08   \n",
              "514031                                         142.94   \n",
              "514032                                         875.51   \n",
              "514033                                        1236.31   \n",
              "514034                                        2499.41   \n",
              "\n",
              "        dropoff_neighborhoods.SUM(trips.vendor_id)  \n",
              "id                                                  \n",
              "514030                                       464.0  \n",
              "514031                                       285.0  \n",
              "514032                                       445.0  \n",
              "514033                                       426.0  \n",
              "514034                                       448.0  \n",
              "\n",
              "[5 rows x 158 columns]"
            ],
            "text/html": [
              "\n",
              "  <div id=\"df-953fa001-4fa5-4f26-8bd5-ffe124ae4610\" class=\"colab-df-container\">\n",
              "    <div>\n",
              "<style scoped>\n",
              "    .dataframe tbody tr th:only-of-type {\n",
              "        vertical-align: middle;\n",
              "    }\n",
              "\n",
              "    .dataframe tbody tr th {\n",
              "        vertical-align: top;\n",
              "    }\n",
              "\n",
              "    .dataframe thead th {\n",
              "        text-align: right;\n",
              "    }\n",
              "</style>\n",
              "<table border=\"1\" class=\"dataframe\">\n",
              "  <thead>\n",
              "    <tr style=\"text-align: right;\">\n",
              "      <th></th>\n",
              "      <th>pickup_neighborhoods.MAX(trips.passenger_count)</th>\n",
              "      <th>pickup_neighborhoods.STD(trips.trip_distance)</th>\n",
              "      <th>WEEKDAY(pickup_datetime)</th>\n",
              "      <th>pickup_neighborhoods.MAX(trips.trip_distance)</th>\n",
              "      <th>pickup_neighborhood = AA</th>\n",
              "      <th>pickup_neighborhood = D</th>\n",
              "      <th>pickup_neighborhood = AC</th>\n",
              "      <th>pickup_neighborhood = AB</th>\n",
              "      <th>pickup_neighborhood = AO</th>\n",
              "      <th>pickup_neighborhood = AD</th>\n",
              "      <th>...</th>\n",
              "      <th>dropoff_neighborhoods.MIN(trips.trip_distance)</th>\n",
              "      <th>MONTH(pickup_datetime)</th>\n",
              "      <th>MINUTE(dropoff_datetime)</th>\n",
              "      <th>pickup_neighborhoods.COUNT(trips)</th>\n",
              "      <th>DAY(pickup_datetime)</th>\n",
              "      <th>dropoff_neighborhoods.COUNT(trips)</th>\n",
              "      <th>trip_distance</th>\n",
              "      <th>dropoff_neighborhoods.MEDIAN(trips.passenger_count)</th>\n",
              "      <th>pickup_neighborhoods.SUM(trips.trip_distance)</th>\n",
              "      <th>dropoff_neighborhoods.SUM(trips.vendor_id)</th>\n",
              "    </tr>\n",
              "    <tr>\n",
              "      <th>id</th>\n",
              "      <th></th>\n",
              "      <th></th>\n",
              "      <th></th>\n",
              "      <th></th>\n",
              "      <th></th>\n",
              "      <th></th>\n",
              "      <th></th>\n",
              "      <th></th>\n",
              "      <th></th>\n",
              "      <th></th>\n",
              "      <th></th>\n",
              "      <th></th>\n",
              "      <th></th>\n",
              "      <th></th>\n",
              "      <th></th>\n",
              "      <th></th>\n",
              "      <th></th>\n",
              "      <th></th>\n",
              "      <th></th>\n",
              "      <th></th>\n",
              "      <th></th>\n",
              "    </tr>\n",
              "  </thead>\n",
              "  <tbody>\n",
              "    <tr>\n",
              "      <th>514030</th>\n",
              "      <td>6.0</td>\n",
              "      <td>3.368966</td>\n",
              "      <td>5</td>\n",
              "      <td>18.89</td>\n",
              "      <td>1</td>\n",
              "      <td>0</td>\n",
              "      <td>0</td>\n",
              "      <td>0</td>\n",
              "      <td>0</td>\n",
              "      <td>0</td>\n",
              "      <td>...</td>\n",
              "      <td>0.00</td>\n",
              "      <td>4</td>\n",
              "      <td>17</td>\n",
              "      <td>444.0</td>\n",
              "      <td>2</td>\n",
              "      <td>295.0</td>\n",
              "      <td>2.46</td>\n",
              "      <td>1.0</td>\n",
              "      <td>1301.08</td>\n",
              "      <td>464.0</td>\n",
              "    </tr>\n",
              "    <tr>\n",
              "      <th>514031</th>\n",
              "      <td>6.0</td>\n",
              "      <td>2.757987</td>\n",
              "      <td>5</td>\n",
              "      <td>16.40</td>\n",
              "      <td>0</td>\n",
              "      <td>0</td>\n",
              "      <td>0</td>\n",
              "      <td>0</td>\n",
              "      <td>0</td>\n",
              "      <td>0</td>\n",
              "      <td>...</td>\n",
              "      <td>0.30</td>\n",
              "      <td>4</td>\n",
              "      <td>24</td>\n",
              "      <td>46.0</td>\n",
              "      <td>2</td>\n",
              "      <td>181.0</td>\n",
              "      <td>7.90</td>\n",
              "      <td>1.0</td>\n",
              "      <td>142.94</td>\n",
              "      <td>285.0</td>\n",
              "    </tr>\n",
              "    <tr>\n",
              "      <th>514032</th>\n",
              "      <td>6.0</td>\n",
              "      <td>2.316361</td>\n",
              "      <td>5</td>\n",
              "      <td>17.90</td>\n",
              "      <td>0</td>\n",
              "      <td>0</td>\n",
              "      <td>0</td>\n",
              "      <td>0</td>\n",
              "      <td>0</td>\n",
              "      <td>0</td>\n",
              "      <td>...</td>\n",
              "      <td>0.00</td>\n",
              "      <td>4</td>\n",
              "      <td>19</td>\n",
              "      <td>370.0</td>\n",
              "      <td>2</td>\n",
              "      <td>293.0</td>\n",
              "      <td>1.00</td>\n",
              "      <td>1.0</td>\n",
              "      <td>875.51</td>\n",
              "      <td>445.0</td>\n",
              "    </tr>\n",
              "    <tr>\n",
              "      <th>514033</th>\n",
              "      <td>6.0</td>\n",
              "      <td>2.428094</td>\n",
              "      <td>5</td>\n",
              "      <td>17.38</td>\n",
              "      <td>0</td>\n",
              "      <td>0</td>\n",
              "      <td>1</td>\n",
              "      <td>0</td>\n",
              "      <td>0</td>\n",
              "      <td>0</td>\n",
              "      <td>...</td>\n",
              "      <td>0.00</td>\n",
              "      <td>4</td>\n",
              "      <td>1</td>\n",
              "      <td>407.0</td>\n",
              "      <td>2</td>\n",
              "      <td>282.0</td>\n",
              "      <td>0.02</td>\n",
              "      <td>1.0</td>\n",
              "      <td>1236.31</td>\n",
              "      <td>426.0</td>\n",
              "    </tr>\n",
              "    <tr>\n",
              "      <th>514034</th>\n",
              "      <td>6.0</td>\n",
              "      <td>5.241291</td>\n",
              "      <td>5</td>\n",
              "      <td>26.60</td>\n",
              "      <td>0</td>\n",
              "      <td>0</td>\n",
              "      <td>0</td>\n",
              "      <td>0</td>\n",
              "      <td>0</td>\n",
              "      <td>0</td>\n",
              "      <td>...</td>\n",
              "      <td>0.17</td>\n",
              "      <td>4</td>\n",
              "      <td>58</td>\n",
              "      <td>154.0</td>\n",
              "      <td>2</td>\n",
              "      <td>293.0</td>\n",
              "      <td>19.00</td>\n",
              "      <td>1.0</td>\n",
              "      <td>2499.41</td>\n",
              "      <td>448.0</td>\n",
              "    </tr>\n",
              "  </tbody>\n",
              "</table>\n",
              "<p>5 rows × 158 columns</p>\n",
              "</div>\n",
              "    <div class=\"colab-df-buttons\">\n",
              "\n",
              "  <div class=\"colab-df-container\">\n",
              "    <button class=\"colab-df-convert\" onclick=\"convertToInteractive('df-953fa001-4fa5-4f26-8bd5-ffe124ae4610')\"\n",
              "            title=\"Convert this dataframe to an interactive table.\"\n",
              "            style=\"display:none;\">\n",
              "\n",
              "  <svg xmlns=\"http://www.w3.org/2000/svg\" height=\"24px\" viewBox=\"0 -960 960 960\">\n",
              "    <path d=\"M120-120v-720h720v720H120Zm60-500h600v-160H180v160Zm220 220h160v-160H400v160Zm0 220h160v-160H400v160ZM180-400h160v-160H180v160Zm440 0h160v-160H620v160ZM180-180h160v-160H180v160Zm440 0h160v-160H620v160Z\"/>\n",
              "  </svg>\n",
              "    </button>\n",
              "\n",
              "  <style>\n",
              "    .colab-df-container {\n",
              "      display:flex;\n",
              "      gap: 12px;\n",
              "    }\n",
              "\n",
              "    .colab-df-convert {\n",
              "      background-color: #E8F0FE;\n",
              "      border: none;\n",
              "      border-radius: 50%;\n",
              "      cursor: pointer;\n",
              "      display: none;\n",
              "      fill: #1967D2;\n",
              "      height: 32px;\n",
              "      padding: 0 0 0 0;\n",
              "      width: 32px;\n",
              "    }\n",
              "\n",
              "    .colab-df-convert:hover {\n",
              "      background-color: #E2EBFA;\n",
              "      box-shadow: 0px 1px 2px rgba(60, 64, 67, 0.3), 0px 1px 3px 1px rgba(60, 64, 67, 0.15);\n",
              "      fill: #174EA6;\n",
              "    }\n",
              "\n",
              "    .colab-df-buttons div {\n",
              "      margin-bottom: 4px;\n",
              "    }\n",
              "\n",
              "    [theme=dark] .colab-df-convert {\n",
              "      background-color: #3B4455;\n",
              "      fill: #D2E3FC;\n",
              "    }\n",
              "\n",
              "    [theme=dark] .colab-df-convert:hover {\n",
              "      background-color: #434B5C;\n",
              "      box-shadow: 0px 1px 3px 1px rgba(0, 0, 0, 0.15);\n",
              "      filter: drop-shadow(0px 1px 2px rgba(0, 0, 0, 0.3));\n",
              "      fill: #FFFFFF;\n",
              "    }\n",
              "  </style>\n",
              "\n",
              "    <script>\n",
              "      const buttonEl =\n",
              "        document.querySelector('#df-953fa001-4fa5-4f26-8bd5-ffe124ae4610 button.colab-df-convert');\n",
              "      buttonEl.style.display =\n",
              "        google.colab.kernel.accessAllowed ? 'block' : 'none';\n",
              "\n",
              "      async function convertToInteractive(key) {\n",
              "        const element = document.querySelector('#df-953fa001-4fa5-4f26-8bd5-ffe124ae4610');\n",
              "        const dataTable =\n",
              "          await google.colab.kernel.invokeFunction('convertToInteractive',\n",
              "                                                    [key], {});\n",
              "        if (!dataTable) return;\n",
              "\n",
              "        const docLinkHtml = 'Like what you see? Visit the ' +\n",
              "          '<a target=\"_blank\" href=https://colab.research.google.com/notebooks/data_table.ipynb>data table notebook</a>'\n",
              "          + ' to learn more about interactive tables.';\n",
              "        element.innerHTML = '';\n",
              "        dataTable['output_type'] = 'display_data';\n",
              "        await google.colab.output.renderOutput(dataTable, element);\n",
              "        const docLink = document.createElement('div');\n",
              "        docLink.innerHTML = docLinkHtml;\n",
              "        element.appendChild(docLink);\n",
              "      }\n",
              "    </script>\n",
              "  </div>\n",
              "\n",
              "\n",
              "<div id=\"df-db95adf8-2f94-438f-a9d3-ca70f348b42b\">\n",
              "  <button class=\"colab-df-quickchart\" onclick=\"quickchart('df-db95adf8-2f94-438f-a9d3-ca70f348b42b')\"\n",
              "            title=\"Suggest charts\"\n",
              "            style=\"display:none;\">\n",
              "\n",
              "<svg xmlns=\"http://www.w3.org/2000/svg\" height=\"24px\"viewBox=\"0 0 24 24\"\n",
              "     width=\"24px\">\n",
              "    <g>\n",
              "        <path d=\"M19 3H5c-1.1 0-2 .9-2 2v14c0 1.1.9 2 2 2h14c1.1 0 2-.9 2-2V5c0-1.1-.9-2-2-2zM9 17H7v-7h2v7zm4 0h-2V7h2v10zm4 0h-2v-4h2v4z\"/>\n",
              "    </g>\n",
              "</svg>\n",
              "  </button>\n",
              "\n",
              "<style>\n",
              "  .colab-df-quickchart {\n",
              "      --bg-color: #E8F0FE;\n",
              "      --fill-color: #1967D2;\n",
              "      --hover-bg-color: #E2EBFA;\n",
              "      --hover-fill-color: #174EA6;\n",
              "      --disabled-fill-color: #AAA;\n",
              "      --disabled-bg-color: #DDD;\n",
              "  }\n",
              "\n",
              "  [theme=dark] .colab-df-quickchart {\n",
              "      --bg-color: #3B4455;\n",
              "      --fill-color: #D2E3FC;\n",
              "      --hover-bg-color: #434B5C;\n",
              "      --hover-fill-color: #FFFFFF;\n",
              "      --disabled-bg-color: #3B4455;\n",
              "      --disabled-fill-color: #666;\n",
              "  }\n",
              "\n",
              "  .colab-df-quickchart {\n",
              "    background-color: var(--bg-color);\n",
              "    border: none;\n",
              "    border-radius: 50%;\n",
              "    cursor: pointer;\n",
              "    display: none;\n",
              "    fill: var(--fill-color);\n",
              "    height: 32px;\n",
              "    padding: 0;\n",
              "    width: 32px;\n",
              "  }\n",
              "\n",
              "  .colab-df-quickchart:hover {\n",
              "    background-color: var(--hover-bg-color);\n",
              "    box-shadow: 0 1px 2px rgba(60, 64, 67, 0.3), 0 1px 3px 1px rgba(60, 64, 67, 0.15);\n",
              "    fill: var(--button-hover-fill-color);\n",
              "  }\n",
              "\n",
              "  .colab-df-quickchart-complete:disabled,\n",
              "  .colab-df-quickchart-complete:disabled:hover {\n",
              "    background-color: var(--disabled-bg-color);\n",
              "    fill: var(--disabled-fill-color);\n",
              "    box-shadow: none;\n",
              "  }\n",
              "\n",
              "  .colab-df-spinner {\n",
              "    border: 2px solid var(--fill-color);\n",
              "    border-color: transparent;\n",
              "    border-bottom-color: var(--fill-color);\n",
              "    animation:\n",
              "      spin 1s steps(1) infinite;\n",
              "  }\n",
              "\n",
              "  @keyframes spin {\n",
              "    0% {\n",
              "      border-color: transparent;\n",
              "      border-bottom-color: var(--fill-color);\n",
              "      border-left-color: var(--fill-color);\n",
              "    }\n",
              "    20% {\n",
              "      border-color: transparent;\n",
              "      border-left-color: var(--fill-color);\n",
              "      border-top-color: var(--fill-color);\n",
              "    }\n",
              "    30% {\n",
              "      border-color: transparent;\n",
              "      border-left-color: var(--fill-color);\n",
              "      border-top-color: var(--fill-color);\n",
              "      border-right-color: var(--fill-color);\n",
              "    }\n",
              "    40% {\n",
              "      border-color: transparent;\n",
              "      border-right-color: var(--fill-color);\n",
              "      border-top-color: var(--fill-color);\n",
              "    }\n",
              "    60% {\n",
              "      border-color: transparent;\n",
              "      border-right-color: var(--fill-color);\n",
              "    }\n",
              "    80% {\n",
              "      border-color: transparent;\n",
              "      border-right-color: var(--fill-color);\n",
              "      border-bottom-color: var(--fill-color);\n",
              "    }\n",
              "    90% {\n",
              "      border-color: transparent;\n",
              "      border-bottom-color: var(--fill-color);\n",
              "    }\n",
              "  }\n",
              "</style>\n",
              "\n",
              "  <script>\n",
              "    async function quickchart(key) {\n",
              "      const quickchartButtonEl =\n",
              "        document.querySelector('#' + key + ' button');\n",
              "      quickchartButtonEl.disabled = true;  // To prevent multiple clicks.\n",
              "      quickchartButtonEl.classList.add('colab-df-spinner');\n",
              "      try {\n",
              "        const charts = await google.colab.kernel.invokeFunction(\n",
              "            'suggestCharts', [key], {});\n",
              "      } catch (error) {\n",
              "        console.error('Error during call to suggestCharts:', error);\n",
              "      }\n",
              "      quickchartButtonEl.classList.remove('colab-df-spinner');\n",
              "      quickchartButtonEl.classList.add('colab-df-quickchart-complete');\n",
              "    }\n",
              "    (() => {\n",
              "      let quickchartButtonEl =\n",
              "        document.querySelector('#df-db95adf8-2f94-438f-a9d3-ca70f348b42b button');\n",
              "      quickchartButtonEl.style.display =\n",
              "        google.colab.kernel.accessAllowed ? 'block' : 'none';\n",
              "    })();\n",
              "  </script>\n",
              "</div>\n",
              "    </div>\n",
              "  </div>\n"
            ]
          },
          "metadata": {},
          "execution_count": 42
        }
      ],
      "source": [
        "# Calcule la matriz de atributos\n",
        "# Esto podría llevar cierto tiempo de computación, así que sea paciente\n",
        "feature_matrix_3 = compute_features(features_3, entities, relationships)\n",
        "preview(feature_matrix_3, 5)"
      ]
    },
    {
      "cell_type": "code",
      "execution_count": 43,
      "metadata": {
        "id": "3gfNYTcuozLk"
      },
      "outputs": [],
      "source": [
        "# Vuelva a separar los datos\n",
        "\n",
        "X_train, y_train, X_test, y_test = utils.get_train_test_fm(feature_matrix_3, trips, .75)\n",
        "y_train = np.log(y_train + 1)\n",
        "y_test = np.log(y_test + 1)\n"
      ]
    },
    {
      "cell_type": "code",
      "execution_count": 44,
      "metadata": {
        "id": "FkrmOs36ozLm",
        "colab": {
          "base_uri": "https://localhost:8080/",
          "height": 0
        },
        "outputId": "8fcf0b04-538e-41e7-ee0b-d451938b4635"
      },
      "outputs": [
        {
          "output_type": "stream",
          "name": "stdout",
          "text": [
            "      Iter       Train Loss   Remaining Time \n",
            "         1           0.4736            6.52s\n",
            "         2           0.4148            6.14s\n",
            "         3           0.3661            5.89s\n",
            "         4           0.3264            5.88s\n",
            "         5           0.2930            5.85s\n",
            "         6           0.2660            5.85s\n",
            "         7           0.2432            5.78s\n",
            "         8           0.2245            5.73s\n",
            "         9           0.2090            5.67s\n",
            "        10           0.1960            5.59s\n",
            "        20           0.1363            4.88s\n",
            "        30           0.1199            4.21s\n",
            "        40           0.1112            3.57s\n",
            "        50           0.1061            2.95s\n",
            "        60           0.1027            2.35s\n",
            "        70           0.1003            1.76s\n",
            "        80           0.0982            1.17s\n",
            "        90           0.0959            0.57s\n",
            "       100           0.0898            0.00s\n",
            "0.8032549836544645\n"
          ]
        }
      ],
      "source": [
        "# Entrene y evalúe el nuevo modelo\n",
        "\n",
        "# El entrenamiento debería durar alrededor de un minuto\n",
        "model = GradientBoostingRegressor(verbose=True)\n",
        "model.fit(X_train, y_train)\n",
        "print(model.score(X_test, y_test)) # Valor R^2 de la predicción"
      ]
    },
    {
      "cell_type": "markdown",
      "metadata": {
        "id": "R8OWOSe4ozLo"
      },
      "source": [
        "# Evaluación con datos de prueba"
      ]
    },
    {
      "cell_type": "code",
      "execution_count": 45,
      "metadata": {
        "id": "WTNL4AXUozLo"
      },
      "outputs": [],
      "source": [
        "# Use la función .predict() en su último modelo para obtener y_pred a partir de X_test\n",
        "y_pred = model.predict(X_test)\n",
        "y_pred = np.exp(y_pred) - 1 # deshaciendo el log calculado anteriormente"
      ]
    },
    {
      "cell_type": "code",
      "execution_count": 46,
      "metadata": {
        "id": "MEpw_ZvBozLq",
        "colab": {
          "base_uri": "https://localhost:8080/",
          "height": 0
        },
        "outputId": "73acdc70-bc57-4573-bef8-36163f7567b9"
      },
      "outputs": [
        {
          "output_type": "execute_result",
          "data": {
            "text/plain": [
              "array([431.26888289, 668.92177133, 653.30245515, 610.01057917,\n",
              "       409.40473468])"
            ]
          },
          "metadata": {},
          "execution_count": 46
        }
      ],
      "source": [
        "# Muestre algunas de las predicciones\n",
        "\n",
        "# Mostrando las 5 primeras predicciones\n",
        "y_pred[:5]"
      ]
    },
    {
      "cell_type": "code",
      "execution_count": 47,
      "metadata": {
        "id": "2kjWvPrYozLs",
        "colab": {
          "base_uri": "https://localhost:8080/",
          "height": 517
        },
        "outputId": "5d3550db-2749-4917-d7ee-1e27bff2f15b"
      },
      "outputs": [
        {
          "output_type": "execute_result",
          "data": {
            "text/plain": [
              "(array([440., 736., 533., 300., 255.,  97.,  59.,  37.,  24.,  19.]),\n",
              " array([  18.24637806,  292.00606364,  565.76574921,  839.52543479,\n",
              "        1113.28512036, 1387.04480594, 1660.80449151, 1934.56417709,\n",
              "        2208.32386266, 2482.08354824, 2755.84323381]),\n",
              " <BarContainer object of 10 artists>)"
            ]
          },
          "metadata": {},
          "execution_count": 47
        },
        {
          "output_type": "display_data",
          "data": {
            "text/plain": [
              "<Figure size 640x480 with 1 Axes>"
            ],
            "image/png": "[encoded data removed]"
          },
          "metadata": {}
        }
      ],
      "source": [
        "# Cree un histograma con las predicciones\n",
        "\n",
        "matplotlib.pyplot.hist(y_pred)\n"
      ]
    },
    {
      "cell_type": "code",
      "source": [
        "type(y_pred)"
      ],
      "metadata": {
        "colab": {
          "base_uri": "https://localhost:8080/",
          "height": 0
        },
        "id": "10F6oxwYHKtK",
        "outputId": "9ab30c79-32cb-4825-b176-cff2647baa6b"
      },
      "execution_count": 49,
      "outputs": [
        {
          "output_type": "execute_result",
          "data": {
            "text/plain": [
              "numpy.ndarray"
            ]
          },
          "metadata": {},
          "execution_count": 49
        }
      ]
    },
    {
      "cell_type": "code",
      "source": [
        "y_pred_series = pd.Series(y_pred)\n"
      ],
      "metadata": {
        "id": "gbUuScPNHq8Q"
      },
      "execution_count": 50,
      "outputs": []
    },
    {
      "cell_type": "markdown",
      "metadata": {
        "id": "VqGuOKUnozLu"
      },
      "source": [
        "<h1 style=\"color:red;\">PREGUNTA 4: PREDICCIONES DEL MODELO</h1>"
      ]
    },
    {
      "cell_type": "code",
      "source": [
        "y_pred_series.describe()"
      ],
      "metadata": {
        "colab": {
          "base_uri": "https://localhost:8080/",
          "height": 0
        },
        "id": "XFOLIUy-HsFW",
        "outputId": "c13c568b-5eaa-4b2b-b699-c24b92a5479f"
      },
      "execution_count": 51,
      "outputs": [
        {
          "output_type": "execute_result",
          "data": {
            "text/plain": [
              "count    2500.000000\n",
              "mean      724.901507\n",
              "std       493.599384\n",
              "min        18.246378\n",
              "25%       356.776155\n",
              "50%       594.029350\n",
              "75%       967.299943\n",
              "max      2755.843234\n",
              "dtype: float64"
            ]
          },
          "metadata": {},
          "execution_count": 51
        }
      ]
    },
    {
      "cell_type": "code",
      "source": [],
      "metadata": {
        "id": "KTcu5uiiHKO5"
      },
      "execution_count": null,
      "outputs": []
    },
    {
      "cell_type": "markdown",
      "metadata": {
        "id": "61d6j64yozLv"
      },
      "source": [
        "**Analice las predicciones del modelo. ¿Coincide la distribución de los datos predichos con la distribución de los datos reales? ¿Qué otros atributos/estrategias podríamos usar para hacer nuestro modelo aún mejor, si tuvieramos más tiempo?**"
      ]
    },
    {
      "cell_type": "markdown",
      "metadata": {
        "id": "Pmh2mHcGozLv"
      },
      "source": [
        "*Escriba su respuesta aquí:*\n",
        "\n",
        "#RESPUESTA\n",
        "\n",
        "746\n",
        "\n",
        "Comparando el resumen estadístico de las predicciones con el comportamiento real de los datos hecho al principio nos damos cuenta de que el valor promedio de la duración e los viajes, en los valores predichos es de 724, mientyras que en los datos reales es de 746, siendo cercana al valor real. Además en cuanto la distribución del histograma arrojada por la predicción, obervamos que de forma general, tiene las mismas características que la de los datos reales. Para mejorar el modelo podrían normalizarse las variables para que si hay variables que tengan un rango de valores muy amplio o de órdenes de magnitud diferentes a otras, pueda homologarse y así obtener resultados más consistentes, además de poder reducir la posibilidad de overfitting durante el proceso. También hacer un análisis exhaustivo de la correlación entre variables predictoras para obtener las más relevantes. Otra opción sería recabar más datos para aumentar el histórico y tener más elementos sobre el comportamiendo de la duración de los viajes."
      ]
    },
    {
      "cell_type": "markdown",
      "metadata": {
        "id": "7MbnYmmwozLv"
      },
      "source": [
        "# Importancia de los atributos"
      ]
    },
    {
      "cell_type": "code",
      "execution_count": 52,
      "metadata": {
        "id": "tw1klbJuozLw",
        "colab": {
          "base_uri": "https://localhost:8080/",
          "height": 0
        },
        "outputId": "ff5aa62f-203e-493d-8901-0cf455fd92c9"
      },
      "outputs": [
        {
          "output_type": "stream",
          "name": "stdout",
          "text": [
            "1: Feature: trip_distance, 0.860\n",
            "2: Feature: HOUR(pickup_datetime), 0.028\n",
            "3: Feature: dropoff_neighborhoods.longitude, 0.028\n",
            "4: Feature: dropoff_neighborhoods.latitude, 0.021\n",
            "5: Feature: HOUR(dropoff_datetime), 0.012\n",
            "6: Feature: MINUTE(dropoff_datetime), 0.007\n",
            "7: Feature: MINUTE(pickup_datetime), 0.006\n",
            "8: Feature: pickup_neighborhoods.latitude, 0.003\n",
            "9: Feature: pickup_neighborhoods.SUM(trips.trip_distance), 0.003\n",
            "10: Feature: dropoff_neighborhoods.COUNT(trips), 0.003\n",
            "11: Feature: pickup_neighborhoods.longitude, 0.003\n",
            "12: Feature: pickup_neighborhoods.COUNT(trips), 0.003\n",
            "13: Feature: dropoff_neighborhoods.SUM(trips.trip_distance), 0.002\n",
            "14: Feature: pickup_neighborhoods.MEAN(trips.trip_distance), 0.002\n",
            "15: Feature: pickup_neighborhoods.MEDIAN(trips.trip_distance), 0.002\n",
            "16: Feature: dropoff_neighborhoods.SUM(trips.passenger_count), 0.001\n",
            "17: Feature: pickup_neighborhood = AU, 0.001\n",
            "18: Feature: payment_type, 0.001\n",
            "19: Feature: pickup_neighborhoods.STD(trips.trip_distance), 0.001\n",
            "20: Feature: pickup_neighborhoods.MEAN(trips.passenger_count), 0.001\n",
            "21: Feature: dropoff_neighborhood = AC, 0.001\n",
            "22: Feature: dropoff_neighborhoods.SUM(trips.vendor_id), 0.001\n",
            "23: Feature: dropoff_neighborhoods.MEAN(trips.passenger_count), 0.001\n",
            "24: Feature: dropoff_neighborhoods.MAX(trips.trip_distance), 0.001\n",
            "25: Feature: dropoff_neighborhoods.STD(trips.vendor_id), 0.001\n"
          ]
        }
      ],
      "source": [
        "# Calcule la importancia de los atributos del modelo\n",
        "# Puede usar la función feature_importances_ que se ha definido para dicho propósito\n",
        "# O también puede consultar el atributo feature_importances_ su modelo\n",
        "# http://scikit-learn.org/stable/modules/generated/sklearn.ensemble.GradientBoostingRegressor.html\n",
        "\n",
        "feature_importances(model, feature_matrix_3.columns, n=25)"
      ]
    },
    {
      "cell_type": "markdown",
      "metadata": {
        "id": "JOIcZh-iozLz"
      },
      "source": [
        "<h1 style=\"color:red;\">QUESTION 5: FEATURE IMPORTANCE</h1>"
      ]
    },
    {
      "cell_type": "markdown",
      "metadata": {
        "id": "TDeuTFUCozL0"
      },
      "source": [
        "**Analice la importancia de los atributos que acaba de calcular. ¿Tienen sentido? ¿Hay algún valor que le sorprenda? Aporte una breve explicación de por qué estos atributos son relevante para calcular la variable objetivo `trip_duration` (duración del trayecto).**"
      ]
    },
    {
      "cell_type": "markdown",
      "metadata": {
        "id": "mNkMcgXxozL0"
      },
      "source": [
        "*Escriba su respuesta aquí.*\n",
        "\n",
        "#RESPUESTA\n",
        "\n",
        "Definitivamente hay valores que a priori se sabe que tendrán un mayor impacto sobre el modelo; por ejemplo la distancia del viaje , físicamente es lógico deducir que será relevante para la predicción de valores futuros debido a que el tiempo depende de la velocidad y de la distancia recorrida. En cuanto a la hora en la que se toma el viaje, también es de esperar que sea relevante al usarse como variable predictora, pues en diferentes horarios la dinámica de la afluencia de gente puede causar mayor tráfico afectando el tiempo del traslado total, así como también habrá horas del día en que la afluencia sea muy poca y por lo tanto no haya obstáculos para el tyaxi y este llegue muy rápido a su destino. Realmente no hay ningún valor que me sorprenda, puesto que la variable que se desea predecir está relacionado totalmente con aspectos físicos."
      ]
    },
    {
      "cell_type": "markdown",
      "metadata": {
        "id": "qxqmy0_iozL0"
      },
      "source": [
        "<hr>"
      ]
    },
    {
      "cell_type": "code",
      "source": [],
      "metadata": {
        "id": "ieR-xQB-OWMi"
      },
      "execution_count": null,
      "outputs": []
    },
    {
      "cell_type": "markdown",
      "source": [],
      "metadata": {
        "id": "QMOxoupEOWgX"
      }
    },
    {
      "cell_type": "markdown",
      "metadata": {
        "id": "wzHxgn-GozL1"
      },
      "source": [
        "¡Buen trabajo! Asegúrese de comprobar la sección **Conclusión** del manual de instrucciones del caso de estudio."
      ]
    }
  ],
  "metadata": {
    "colab": {
      "provenance": [],
      "include_colab_link": true
    },
    "hide_input": false,
    "kernelspec": {
      "display_name": "Python 3",
      "language": "python",
      "name": "python3"
    },
    "language_info": {
      "codemirror_mode": {
        "name": "ipython",
        "version": 3
      },
      "file_extension": ".py",
      "mimetype": "text/x-python",
      "name": "python",
      "nbconvert_exporter": "python",
      "pygments_lexer": "ipython3",
      "version": "3.7.7"
    },
    "toc": {
      "base_numbering": 1,
      "nav_menu": {},
      "number_sections": true,
      "sideBar": true,
      "skip_h1_title": false,
      "title_cell": "Table of Contents",
      "title_sidebar": "Contents",
      "toc_cell": true,
      "toc_position": {},
      "toc_section_display": true,
      "toc_window_display": false
    },
    "varInspector": {
      "cols": {
        "lenName": 16,
        "lenType": 16,
        "lenVar": 40
      },
      "kernels_config": {
        "python": {
          "delete_cmd_postfix": "",
          "delete_cmd_prefix": "del ",
          "library": "var_list.py",
          "varRefreshCmd": "print(var_dic_list())"
        },
        "r": {
          "delete_cmd_postfix": ") ",
          "delete_cmd_prefix": "rm(",
          "library": "var_list.r",
          "varRefreshCmd": "cat(var_dic_list()) "
        }
      },
      "types_to_exclude": [
        "module",
        "function",
        "builtin_function_or_method",
        "instance",
        "_Feature"
      ],
      "window_display": false
    }
  },
  "nbformat": 4,
  "nbformat_minor": 0
}