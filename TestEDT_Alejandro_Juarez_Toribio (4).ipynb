{
  "nbformat": 4,
  "nbformat_minor": 0,
  "metadata": {
    "colab": {
      "provenance": []
    },
    "kernelspec": {
      "name": "python3",
      "display_name": "Python 3"
    },
    "language_info": {
      "name": "python"
    }
  },
  "cells": [
    {
      "cell_type": "code",
      "execution_count": 1,
      "metadata": {
        "colab": {
          "base_uri": "https://localhost:8080/",
          "height": 1000
        },
        "id": "JbYLg4e-EFeX",
        "outputId": "d736dfd9-6f2c-4c5d-ace8-3237f8fa76ea"
      },
      "outputs": [
        {
          "output_type": "stream",
          "name": "stdout",
          "text": [
            "Collecting tensorflow-data-validation\n",
            "  Downloading tensorflow_data_validation-1.14.0-cp310-cp310-manylinux_2_17_x86_64.manylinux2014_x86_64.whl (19.1 MB)\n",
            "\u001b[2K     \u001b[90m━━━━━━━━━━━━━━━━━━━━━━━━━━━━━━━━━━━━━━━━\u001b[0m \u001b[32m19.1/19.1 MB\u001b[0m \u001b[31m42.7 MB/s\u001b[0m eta \u001b[36m0:00:00\u001b[0m\n",
            "\u001b[?25hRequirement already satisfied: absl-py<2.0.0,>=0.9 in /usr/local/lib/python3.10/dist-packages (from tensorflow-data-validation) (1.4.0)\n",
            "Collecting apache-beam[gcp]<3,>=2.47 (from tensorflow-data-validation)\n",
            "  Downloading apache_beam-2.53.0-cp310-cp310-manylinux_2_17_x86_64.manylinux2014_x86_64.whl (14.8 MB)\n",
            "\u001b[2K     \u001b[90m━━━━━━━━━━━━━━━━━━━━━━━━━━━━━━━━━━━━━━━━\u001b[0m \u001b[32m14.8/14.8 MB\u001b[0m \u001b[31m16.9 MB/s\u001b[0m eta \u001b[36m0:00:00\u001b[0m\n",
            "\u001b[?25hRequirement already satisfied: joblib>=1.2.0 in /usr/local/lib/python3.10/dist-packages (from tensorflow-data-validation) (1.3.2)\n",
            "Requirement already satisfied: numpy>=1.22.0 in /usr/local/lib/python3.10/dist-packages (from tensorflow-data-validation) (1.23.5)\n",
            "Requirement already satisfied: pandas<2,>=1.0 in /usr/local/lib/python3.10/dist-packages (from tensorflow-data-validation) (1.5.3)\n",
            "Requirement already satisfied: protobuf<5,>=3.20.3 in /usr/local/lib/python3.10/dist-packages (from tensorflow-data-validation) (3.20.3)\n",
            "Requirement already satisfied: pyarrow<11,>=10 in /usr/local/lib/python3.10/dist-packages (from tensorflow-data-validation) (10.0.1)\n",
            "Collecting pyfarmhash<0.4,>=0.2.2 (from tensorflow-data-validation)\n",
            "  Downloading pyfarmhash-0.3.2.tar.gz (99 kB)\n",
            "\u001b[2K     \u001b[90m━━━━━━━━━━━━━━━━━━━━━━━━━━━━━━━━━━━━━━━━\u001b[0m \u001b[32m99.9/99.9 kB\u001b[0m \u001b[31m8.0 MB/s\u001b[0m eta \u001b[36m0:00:00\u001b[0m\n",
            "\u001b[?25h  Preparing metadata (setup.py) ... \u001b[?25l\u001b[?25hdone\n",
            "Requirement already satisfied: six<2,>=1.12 in /usr/local/lib/python3.10/dist-packages (from tensorflow-data-validation) (1.16.0)\n",
            "Requirement already satisfied: tensorflow<3,>=2.13 in /usr/local/lib/python3.10/dist-packages (from tensorflow-data-validation) (2.15.0)\n",
            "Requirement already satisfied: tensorflow-metadata<1.15,>=1.14.0 in /usr/local/lib/python3.10/dist-packages (from tensorflow-data-validation) (1.14.0)\n",
            "Collecting tfx-bsl<1.15,>=1.14.0 (from tensorflow-data-validation)\n",
            "  Downloading tfx_bsl-1.14.0-cp310-cp310-manylinux_2_17_x86_64.manylinux2014_x86_64.whl (22.5 MB)\n",
            "\u001b[2K     \u001b[90m━━━━━━━━━━━━━━━━━━━━━━━━━━━━━━━━━━━━━━━━\u001b[0m \u001b[32m22.5/22.5 MB\u001b[0m \u001b[31m13.3 MB/s\u001b[0m eta \u001b[36m0:00:00\u001b[0m\n",
            "\u001b[?25hCollecting crcmod<2.0,>=1.7 (from apache-beam[gcp]<3,>=2.47->tensorflow-data-validation)\n",
            "  Downloading crcmod-1.7.tar.gz (89 kB)\n",
            "\u001b[2K     \u001b[90m━━━━━━━━━━━━━━━━━━━━━━━━━━━━━━━━━━━━━━━━\u001b[0m \u001b[32m89.7/89.7 kB\u001b[0m \u001b[31m5.6 MB/s\u001b[0m eta \u001b[36m0:00:00\u001b[0m\n",
            "\u001b[?25h  Preparing metadata (setup.py) ... \u001b[?25l\u001b[?25hdone\n",
            "Collecting orjson<4,>=3.9.7 (from apache-beam[gcp]<3,>=2.47->tensorflow-data-validation)\n",
            "  Downloading orjson-3.9.10-cp310-cp310-manylinux_2_17_x86_64.manylinux2014_x86_64.whl (138 kB)\n",
            "\u001b[2K     \u001b[90m━━━━━━━━━━━━━━━━━━━━━━━━━━━━━━━━━━━━━━━━\u001b[0m \u001b[32m138.7/138.7 kB\u001b[0m \u001b[31m1.7 MB/s\u001b[0m eta \u001b[36m0:00:00\u001b[0m\n",
            "\u001b[?25hCollecting dill<0.3.2,>=0.3.1.1 (from apache-beam[gcp]<3,>=2.47->tensorflow-data-validation)\n",
            "  Downloading dill-0.3.1.1.tar.gz (151 kB)\n",
            "\u001b[2K     \u001b[90m━━━━━━━━━━━━━━━━━━━━━━━━━━━━━━━━━━━━━━━━\u001b[0m \u001b[32m152.0/152.0 kB\u001b[0m \u001b[31m11.4 MB/s\u001b[0m eta \u001b[36m0:00:00\u001b[0m\n",
            "\u001b[?25h  Preparing metadata (setup.py) ... \u001b[?25l\u001b[?25hdone\n",
            "Requirement already satisfied: cloudpickle~=2.2.1 in /usr/local/lib/python3.10/dist-packages (from apache-beam[gcp]<3,>=2.47->tensorflow-data-validation) (2.2.1)\n",
            "Collecting fastavro<2,>=0.23.6 (from apache-beam[gcp]<3,>=2.47->tensorflow-data-validation)\n",
            "  Downloading fastavro-1.9.3-cp310-cp310-manylinux_2_17_x86_64.manylinux2014_x86_64.whl (3.1 MB)\n",
            "\u001b[2K     \u001b[90m━━━━━━━━━━━━━━━━━━━━━━━━━━━━━━━━━━━━━━━━\u001b[0m \u001b[32m3.1/3.1 MB\u001b[0m \u001b[31m12.8 MB/s\u001b[0m eta \u001b[36m0:00:00\u001b[0m\n",
            "\u001b[?25hCollecting fasteners<1.0,>=0.3 (from apache-beam[gcp]<3,>=2.47->tensorflow-data-validation)\n",
            "  Downloading fasteners-0.19-py3-none-any.whl (18 kB)\n",
            "Requirement already satisfied: grpcio!=1.48.0,<2,>=1.33.1 in /usr/local/lib/python3.10/dist-packages (from apache-beam[gcp]<3,>=2.47->tensorflow-data-validation) (1.60.0)\n",
            "Collecting hdfs<3.0.0,>=2.1.0 (from apache-beam[gcp]<3,>=2.47->tensorflow-data-validation)\n",
            "  Downloading hdfs-2.7.3.tar.gz (43 kB)\n",
            "\u001b[2K     \u001b[90m━━━━━━━━━━━━━━━━━━━━━━━━━━━━━━━━━━━━━━━━\u001b[0m \u001b[32m43.5/43.5 kB\u001b[0m \u001b[31m1.6 MB/s\u001b[0m eta \u001b[36m0:00:00\u001b[0m\n",
            "\u001b[?25h  Preparing metadata (setup.py) ... \u001b[?25l\u001b[?25hdone\n",
            "Requirement already satisfied: httplib2<0.23.0,>=0.8 in /usr/local/lib/python3.10/dist-packages (from apache-beam[gcp]<3,>=2.47->tensorflow-data-validation) (0.22.0)\n",
            "Collecting js2py<1,>=0.74 (from apache-beam[gcp]<3,>=2.47->tensorflow-data-validation)\n",
            "  Downloading Js2Py-0.74-py3-none-any.whl (1.0 MB)\n",
            "\u001b[2K     \u001b[90m━━━━━━━━━━━━━━━━━━━━━━━━━━━━━━━━━━━━━━━━\u001b[0m \u001b[32m1.0/1.0 MB\u001b[0m \u001b[31m25.1 MB/s\u001b[0m eta \u001b[36m0:00:00\u001b[0m\n",
            "\u001b[?25hRequirement already satisfied: jsonschema<5.0.0,>=4.0.0 in /usr/local/lib/python3.10/dist-packages (from apache-beam[gcp]<3,>=2.47->tensorflow-data-validation) (4.19.2)\n",
            "Requirement already satisfied: jsonpickle<4.0.0,>=3.0.0 in /usr/local/lib/python3.10/dist-packages (from apache-beam[gcp]<3,>=2.47->tensorflow-data-validation) (3.0.2)\n",
            "Collecting objsize<0.7.0,>=0.6.1 (from apache-beam[gcp]<3,>=2.47->tensorflow-data-validation)\n",
            "  Downloading objsize-0.6.1-py3-none-any.whl (9.3 kB)\n",
            "Requirement already satisfied: packaging>=22.0 in /usr/local/lib/python3.10/dist-packages (from apache-beam[gcp]<3,>=2.47->tensorflow-data-validation) (23.2)\n",
            "Collecting pymongo<5.0.0,>=3.8.0 (from apache-beam[gcp]<3,>=2.47->tensorflow-data-validation)\n",
            "  Downloading pymongo-4.6.1-cp310-cp310-manylinux_2_17_x86_64.manylinux2014_x86_64.whl (677 kB)\n",
            "\u001b[2K     \u001b[90m━━━━━━━━━━━━━━━━━━━━━━━━━━━━━━━━━━━━━━━━\u001b[0m \u001b[32m677.1/677.1 kB\u001b[0m \u001b[31m28.5 MB/s\u001b[0m eta \u001b[36m0:00:00\u001b[0m\n",
            "\u001b[?25hRequirement already satisfied: proto-plus<2,>=1.7.1 in /usr/local/lib/python3.10/dist-packages (from apache-beam[gcp]<3,>=2.47->tensorflow-data-validation) (1.23.0)\n",
            "Requirement already satisfied: pydot<2,>=1.2.0 in /usr/local/lib/python3.10/dist-packages (from apache-beam[gcp]<3,>=2.47->tensorflow-data-validation) (1.4.2)\n",
            "Requirement already satisfied: python-dateutil<3,>=2.8.0 in /usr/local/lib/python3.10/dist-packages (from apache-beam[gcp]<3,>=2.47->tensorflow-data-validation) (2.8.2)\n",
            "Requirement already satisfied: pytz>=2018.3 in /usr/local/lib/python3.10/dist-packages (from apache-beam[gcp]<3,>=2.47->tensorflow-data-validation) (2023.3.post1)\n",
            "Requirement already satisfied: regex>=2020.6.8 in /usr/local/lib/python3.10/dist-packages (from apache-beam[gcp]<3,>=2.47->tensorflow-data-validation) (2023.6.3)\n",
            "Requirement already satisfied: requests<3.0.0,>=2.24.0 in /usr/local/lib/python3.10/dist-packages (from apache-beam[gcp]<3,>=2.47->tensorflow-data-validation) (2.31.0)\n",
            "Requirement already satisfied: typing-extensions>=3.7.0 in /usr/local/lib/python3.10/dist-packages (from apache-beam[gcp]<3,>=2.47->tensorflow-data-validation) (4.5.0)\n",
            "Collecting zstandard<1,>=0.18.0 (from apache-beam[gcp]<3,>=2.47->tensorflow-data-validation)\n",
            "  Downloading zstandard-0.22.0-cp310-cp310-manylinux_2_17_x86_64.manylinux2014_x86_64.whl (5.4 MB)\n",
            "\u001b[2K     \u001b[90m━━━━━━━━━━━━━━━━━━━━━━━━━━━━━━━━━━━━━━━━\u001b[0m \u001b[32m5.4/5.4 MB\u001b[0m \u001b[31m17.8 MB/s\u001b[0m eta \u001b[36m0:00:00\u001b[0m\n",
            "\u001b[?25hRequirement already satisfied: pyarrow-hotfix<1 in /usr/local/lib/python3.10/dist-packages (from apache-beam[gcp]<3,>=2.47->tensorflow-data-validation) (0.6)\n",
            "Requirement already satisfied: cachetools<6,>=3.1.0 in /usr/local/lib/python3.10/dist-packages (from apache-beam[gcp]<3,>=2.47->tensorflow-data-validation) (5.3.2)\n",
            "Requirement already satisfied: google-api-core<3,>=2.0.0 in /usr/local/lib/python3.10/dist-packages (from apache-beam[gcp]<3,>=2.47->tensorflow-data-validation) (2.11.1)\n",
            "Collecting google-apitools<0.5.32,>=0.5.31 (from apache-beam[gcp]<3,>=2.47->tensorflow-data-validation)\n",
            "  Downloading google-apitools-0.5.31.tar.gz (173 kB)\n",
            "\u001b[2K     \u001b[90m━━━━━━━━━━━━━━━━━━━━━━━━━━━━━━━━━━━━━━━━\u001b[0m \u001b[32m173.5/173.5 kB\u001b[0m \u001b[31m16.3 MB/s\u001b[0m eta \u001b[36m0:00:00\u001b[0m\n",
            "\u001b[?25h  Preparing metadata (setup.py) ... \u001b[?25l\u001b[?25hdone\n",
            "Requirement already satisfied: google-auth<3,>=1.18.0 in /usr/local/lib/python3.10/dist-packages (from apache-beam[gcp]<3,>=2.47->tensorflow-data-validation) (2.17.3)\n",
            "Requirement already satisfied: google-auth-httplib2<0.2.0,>=0.1.0 in /usr/local/lib/python3.10/dist-packages (from apache-beam[gcp]<3,>=2.47->tensorflow-data-validation) (0.1.1)\n",
            "Requirement already satisfied: google-cloud-datastore<3,>=2.0.0 in /usr/local/lib/python3.10/dist-packages (from apache-beam[gcp]<3,>=2.47->tensorflow-data-validation) (2.15.2)\n",
            "Collecting google-cloud-pubsub<3,>=2.1.0 (from apache-beam[gcp]<3,>=2.47->tensorflow-data-validation)\n",
            "  Downloading google_cloud_pubsub-2.19.0-py2.py3-none-any.whl (265 kB)\n",
            "\u001b[2K     \u001b[90m━━━━━━━━━━━━━━━━━━━━━━━━━━━━━━━━━━━━━━━━\u001b[0m \u001b[32m265.3/265.3 kB\u001b[0m \u001b[31m11.0 MB/s\u001b[0m eta \u001b[36m0:00:00\u001b[0m\n",
            "\u001b[?25hCollecting google-cloud-pubsublite<2,>=1.2.0 (from apache-beam[gcp]<3,>=2.47->tensorflow-data-validation)\n",
            "  Downloading google_cloud_pubsublite-1.9.0-py2.py3-none-any.whl (287 kB)\n",
            "\u001b[2K     \u001b[90m━━━━━━━━━━━━━━━━━━━━━━━━━━━━━━━━━━━━━━━━\u001b[0m \u001b[32m287.3/287.3 kB\u001b[0m \u001b[31m15.8 MB/s\u001b[0m eta \u001b[36m0:00:00\u001b[0m\n",
            "\u001b[?25hCollecting google-cloud-storage<3,>=2.10.0 (from apache-beam[gcp]<3,>=2.47->tensorflow-data-validation)\n",
            "  Downloading google_cloud_storage-2.14.0-py2.py3-none-any.whl (121 kB)\n",
            "\u001b[2K     \u001b[90m━━━━━━━━━━━━━━━━━━━━━━━━━━━━━━━━━━━━━━━━\u001b[0m \u001b[32m121.6/121.6 kB\u001b[0m \u001b[31m13.1 MB/s\u001b[0m eta \u001b[36m0:00:00\u001b[0m\n",
            "\u001b[?25hRequirement already satisfied: google-cloud-bigquery<4,>=2.0.0 in /usr/local/lib/python3.10/dist-packages (from apache-beam[gcp]<3,>=2.47->tensorflow-data-validation) (3.12.0)\n",
            "Requirement already satisfied: google-cloud-bigquery-storage<3,>=2.6.3 in /usr/local/lib/python3.10/dist-packages (from apache-beam[gcp]<3,>=2.47->tensorflow-data-validation) (2.24.0)\n",
            "Requirement already satisfied: google-cloud-core<3,>=2.0.0 in /usr/local/lib/python3.10/dist-packages (from apache-beam[gcp]<3,>=2.47->tensorflow-data-validation) (2.3.3)\n",
            "Collecting google-cloud-bigtable<3,>=2.19.0 (from apache-beam[gcp]<3,>=2.47->tensorflow-data-validation)\n",
            "  Downloading google_cloud_bigtable-2.22.0-py2.py3-none-any.whl (295 kB)\n",
            "\u001b[2K     \u001b[90m━━━━━━━━━━━━━━━━━━━━━━━━━━━━━━━━━━━━━━━━\u001b[0m \u001b[32m295.1/295.1 kB\u001b[0m \u001b[31m22.5 MB/s\u001b[0m eta \u001b[36m0:00:00\u001b[0m\n",
            "\u001b[?25hCollecting google-cloud-spanner<4,>=3.0.0 (from apache-beam[gcp]<3,>=2.47->tensorflow-data-validation)\n",
            "  Downloading google_cloud_spanner-3.41.0-py2.py3-none-any.whl (347 kB)\n",
            "\u001b[2K     \u001b[90m━━━━━━━━━━━━━━━━━━━━━━━━━━━━━━━━━━━━━━━━\u001b[0m \u001b[32m347.1/347.1 kB\u001b[0m \u001b[31m31.3 MB/s\u001b[0m eta \u001b[36m0:00:00\u001b[0m\n",
            "\u001b[?25hCollecting google-cloud-dlp<4,>=3.0.0 (from apache-beam[gcp]<3,>=2.47->tensorflow-data-validation)\n",
            "  Downloading google_cloud_dlp-3.14.0-py2.py3-none-any.whl (157 kB)\n",
            "\u001b[2K     \u001b[90m━━━━━━━━━━━━━━━━━━━━━━━━━━━━━━━━━━━━━━━━\u001b[0m \u001b[32m157.5/157.5 kB\u001b[0m \u001b[31m20.9 MB/s\u001b[0m eta \u001b[36m0:00:00\u001b[0m\n",
            "\u001b[?25hRequirement already satisfied: google-cloud-language<3,>=2.0 in /usr/local/lib/python3.10/dist-packages (from apache-beam[gcp]<3,>=2.47->tensorflow-data-validation) (2.9.1)\n",
            "Collecting google-cloud-videointelligence<3,>=2.0 (from apache-beam[gcp]<3,>=2.47->tensorflow-data-validation)\n",
            "  Downloading google_cloud_videointelligence-2.12.0-py2.py3-none-any.whl (228 kB)\n",
            "\u001b[2K     \u001b[90m━━━━━━━━━━━━━━━━━━━━━━━━━━━━━━━━━━━━━━━━\u001b[0m \u001b[32m228.6/228.6 kB\u001b[0m \u001b[31m24.6 MB/s\u001b[0m eta \u001b[36m0:00:00\u001b[0m\n",
            "\u001b[?25hCollecting google-cloud-vision<4,>=2 (from apache-beam[gcp]<3,>=2.47->tensorflow-data-validation)\n",
            "  Downloading google_cloud_vision-3.5.0-py2.py3-none-any.whl (442 kB)\n",
            "\u001b[2K     \u001b[90m━━━━━━━━━━━━━━━━━━━━━━━━━━━━━━━━━━━━━━━━\u001b[0m \u001b[32m442.1/442.1 kB\u001b[0m \u001b[31m34.4 MB/s\u001b[0m eta \u001b[36m0:00:00\u001b[0m\n",
            "\u001b[?25hCollecting google-cloud-recommendations-ai<0.11.0,>=0.1.0 (from apache-beam[gcp]<3,>=2.47->tensorflow-data-validation)\n",
            "  Downloading google_cloud_recommendations_ai-0.10.6-py2.py3-none-any.whl (172 kB)\n",
            "\u001b[2K     \u001b[90m━━━━━━━━━━━━━━━━━━━━━━━━━━━━━━━━━━━━━━━━\u001b[0m \u001b[32m172.5/172.5 kB\u001b[0m \u001b[31m13.6 MB/s\u001b[0m eta \u001b[36m0:00:00\u001b[0m\n",
            "\u001b[?25hRequirement already satisfied: google-cloud-aiplatform<2.0,>=1.26.0 in /usr/local/lib/python3.10/dist-packages (from apache-beam[gcp]<3,>=2.47->tensorflow-data-validation) (1.39.0)\n",
            "Requirement already satisfied: astunparse>=1.6.0 in /usr/local/lib/python3.10/dist-packages (from tensorflow<3,>=2.13->tensorflow-data-validation) (1.6.3)\n",
            "Requirement already satisfied: flatbuffers>=23.5.26 in /usr/local/lib/python3.10/dist-packages (from tensorflow<3,>=2.13->tensorflow-data-validation) (23.5.26)\n",
            "Requirement already satisfied: gast!=0.5.0,!=0.5.1,!=0.5.2,>=0.2.1 in /usr/local/lib/python3.10/dist-packages (from tensorflow<3,>=2.13->tensorflow-data-validation) (0.5.4)\n",
            "Requirement already satisfied: google-pasta>=0.1.1 in /usr/local/lib/python3.10/dist-packages (from tensorflow<3,>=2.13->tensorflow-data-validation) (0.2.0)\n",
            "Requirement already satisfied: h5py>=2.9.0 in /usr/local/lib/python3.10/dist-packages (from tensorflow<3,>=2.13->tensorflow-data-validation) (3.9.0)\n",
            "Requirement already satisfied: libclang>=13.0.0 in /usr/local/lib/python3.10/dist-packages (from tensorflow<3,>=2.13->tensorflow-data-validation) (16.0.6)\n",
            "Requirement already satisfied: ml-dtypes~=0.2.0 in /usr/local/lib/python3.10/dist-packages (from tensorflow<3,>=2.13->tensorflow-data-validation) (0.2.0)\n",
            "Requirement already satisfied: opt-einsum>=2.3.2 in /usr/local/lib/python3.10/dist-packages (from tensorflow<3,>=2.13->tensorflow-data-validation) (3.3.0)\n",
            "Requirement already satisfied: setuptools in /usr/local/lib/python3.10/dist-packages (from tensorflow<3,>=2.13->tensorflow-data-validation) (67.7.2)\n",
            "Requirement already satisfied: termcolor>=1.1.0 in /usr/local/lib/python3.10/dist-packages (from tensorflow<3,>=2.13->tensorflow-data-validation) (2.4.0)\n",
            "Requirement already satisfied: wrapt<1.15,>=1.11.0 in /usr/local/lib/python3.10/dist-packages (from tensorflow<3,>=2.13->tensorflow-data-validation) (1.14.1)\n",
            "Requirement already satisfied: tensorflow-io-gcs-filesystem>=0.23.1 in /usr/local/lib/python3.10/dist-packages (from tensorflow<3,>=2.13->tensorflow-data-validation) (0.35.0)\n",
            "Requirement already satisfied: tensorboard<2.16,>=2.15 in /usr/local/lib/python3.10/dist-packages (from tensorflow<3,>=2.13->tensorflow-data-validation) (2.15.1)\n",
            "Requirement already satisfied: tensorflow-estimator<2.16,>=2.15.0 in /usr/local/lib/python3.10/dist-packages (from tensorflow<3,>=2.13->tensorflow-data-validation) (2.15.0)\n",
            "Requirement already satisfied: keras<2.16,>=2.15.0 in /usr/local/lib/python3.10/dist-packages (from tensorflow<3,>=2.13->tensorflow-data-validation) (2.15.0)\n",
            "Requirement already satisfied: googleapis-common-protos<2,>=1.52.0 in /usr/local/lib/python3.10/dist-packages (from tensorflow-metadata<1.15,>=1.14.0->tensorflow-data-validation) (1.62.0)\n",
            "Collecting google-api-python-client<2,>=1.7.11 (from tfx-bsl<1.15,>=1.14.0->tensorflow-data-validation)\n",
            "  Downloading google_api_python_client-1.12.11-py2.py3-none-any.whl (62 kB)\n",
            "\u001b[2K     \u001b[90m━━━━━━━━━━━━━━━━━━━━━━━━━━━━━━━━━━━━━━━━\u001b[0m \u001b[32m62.1/62.1 kB\u001b[0m \u001b[31m7.0 MB/s\u001b[0m eta \u001b[36m0:00:00\u001b[0m\n",
            "\u001b[?25hCollecting tensorflow-serving-api<3,>=2.13.0 (from tfx-bsl<1.15,>=1.14.0->tensorflow-data-validation)\n",
            "  Downloading tensorflow_serving_api-2.14.1-py2.py3-none-any.whl (26 kB)\n",
            "Requirement already satisfied: wheel<1.0,>=0.23.0 in /usr/local/lib/python3.10/dist-packages (from astunparse>=1.6.0->tensorflow<3,>=2.13->tensorflow-data-validation) (0.42.0)\n",
            "Collecting uritemplate<4dev,>=3.0.0 (from google-api-python-client<2,>=1.7.11->tfx-bsl<1.15,>=1.14.0->tensorflow-data-validation)\n",
            "  Downloading uritemplate-3.0.1-py2.py3-none-any.whl (15 kB)\n",
            "Requirement already satisfied: oauth2client>=1.4.12 in /usr/local/lib/python3.10/dist-packages (from google-apitools<0.5.32,>=0.5.31->apache-beam[gcp]<3,>=2.47->tensorflow-data-validation) (4.1.3)\n",
            "Requirement already satisfied: pyasn1-modules>=0.2.1 in /usr/local/lib/python3.10/dist-packages (from google-auth<3,>=1.18.0->apache-beam[gcp]<3,>=2.47->tensorflow-data-validation) (0.3.0)\n",
            "Requirement already satisfied: rsa<5,>=3.1.4 in /usr/local/lib/python3.10/dist-packages (from google-auth<3,>=1.18.0->apache-beam[gcp]<3,>=2.47->tensorflow-data-validation) (4.9)\n",
            "Requirement already satisfied: google-cloud-resource-manager<3.0.0dev,>=1.3.3 in /usr/local/lib/python3.10/dist-packages (from google-cloud-aiplatform<2.0,>=1.26.0->apache-beam[gcp]<3,>=2.47->tensorflow-data-validation) (1.11.0)\n",
            "Requirement already satisfied: shapely<3.0.0dev in /usr/local/lib/python3.10/dist-packages (from google-cloud-aiplatform<2.0,>=1.26.0->apache-beam[gcp]<3,>=2.47->tensorflow-data-validation) (2.0.2)\n",
            "Requirement already satisfied: google-resumable-media<3.0dev,>=0.6.0 in /usr/local/lib/python3.10/dist-packages (from google-cloud-bigquery<4,>=2.0.0->apache-beam[gcp]<3,>=2.47->tensorflow-data-validation) (2.7.0)\n",
            "Requirement already satisfied: grpc-google-iam-v1<1.0.0dev,>=0.12.4 in /usr/local/lib/python3.10/dist-packages (from google-cloud-bigtable<3,>=2.19.0->apache-beam[gcp]<3,>=2.47->tensorflow-data-validation) (0.13.0)\n",
            "Requirement already satisfied: grpcio-status>=1.33.2 in /usr/local/lib/python3.10/dist-packages (from google-cloud-pubsub<3,>=2.1.0->apache-beam[gcp]<3,>=2.47->tensorflow-data-validation) (1.48.2)\n",
            "Collecting overrides<8.0.0,>=6.0.1 (from google-cloud-pubsublite<2,>=1.2.0->apache-beam[gcp]<3,>=2.47->tensorflow-data-validation)\n",
            "  Downloading overrides-7.4.0-py3-none-any.whl (17 kB)\n",
            "Requirement already satisfied: sqlparse>=0.4.4 in /usr/local/lib/python3.10/dist-packages (from google-cloud-spanner<4,>=3.0.0->apache-beam[gcp]<3,>=2.47->tensorflow-data-validation) (0.4.4)\n",
            "Collecting deprecated>=1.2.14 (from google-cloud-spanner<4,>=3.0.0->apache-beam[gcp]<3,>=2.47->tensorflow-data-validation)\n",
            "  Downloading Deprecated-1.2.14-py2.py3-none-any.whl (9.6 kB)\n",
            "Collecting google-auth<3,>=1.18.0 (from apache-beam[gcp]<3,>=2.47->tensorflow-data-validation)\n",
            "  Downloading google_auth-2.26.2-py2.py3-none-any.whl (186 kB)\n",
            "\u001b[2K     \u001b[90m━━━━━━━━━━━━━━━━━━━━━━━━━━━━━━━━━━━━━━━━\u001b[0m \u001b[32m186.5/186.5 kB\u001b[0m \u001b[31m18.7 MB/s\u001b[0m eta \u001b[36m0:00:00\u001b[0m\n",
            "\u001b[?25hRequirement already satisfied: google-crc32c<2.0dev,>=1.0 in /usr/local/lib/python3.10/dist-packages (from google-cloud-storage<3,>=2.10.0->apache-beam[gcp]<3,>=2.47->tensorflow-data-validation) (1.5.0)\n",
            "Collecting docopt (from hdfs<3.0.0,>=2.1.0->apache-beam[gcp]<3,>=2.47->tensorflow-data-validation)\n",
            "  Downloading docopt-0.6.2.tar.gz (25 kB)\n",
            "  Preparing metadata (setup.py) ... \u001b[?25l\u001b[?25hdone\n",
            "Requirement already satisfied: pyparsing!=3.0.0,!=3.0.1,!=3.0.2,!=3.0.3,<4,>=2.4.2 in /usr/local/lib/python3.10/dist-packages (from httplib2<0.23.0,>=0.8->apache-beam[gcp]<3,>=2.47->tensorflow-data-validation) (3.1.1)\n",
            "Requirement already satisfied: tzlocal>=1.2 in /usr/local/lib/python3.10/dist-packages (from js2py<1,>=0.74->apache-beam[gcp]<3,>=2.47->tensorflow-data-validation) (5.2)\n",
            "Collecting pyjsparser>=2.5.1 (from js2py<1,>=0.74->apache-beam[gcp]<3,>=2.47->tensorflow-data-validation)\n",
            "  Downloading pyjsparser-2.7.1.tar.gz (24 kB)\n",
            "  Preparing metadata (setup.py) ... \u001b[?25l\u001b[?25hdone\n",
            "Requirement already satisfied: attrs>=22.2.0 in /usr/local/lib/python3.10/dist-packages (from jsonschema<5.0.0,>=4.0.0->apache-beam[gcp]<3,>=2.47->tensorflow-data-validation) (23.2.0)\n",
            "Requirement already satisfied: jsonschema-specifications>=2023.03.6 in /usr/local/lib/python3.10/dist-packages (from jsonschema<5.0.0,>=4.0.0->apache-beam[gcp]<3,>=2.47->tensorflow-data-validation) (2023.12.1)\n",
            "Requirement already satisfied: referencing>=0.28.4 in /usr/local/lib/python3.10/dist-packages (from jsonschema<5.0.0,>=4.0.0->apache-beam[gcp]<3,>=2.47->tensorflow-data-validation) (0.32.1)\n",
            "Requirement already satisfied: rpds-py>=0.7.1 in /usr/local/lib/python3.10/dist-packages (from jsonschema<5.0.0,>=4.0.0->apache-beam[gcp]<3,>=2.47->tensorflow-data-validation) (0.16.2)\n",
            "Collecting dnspython<3.0.0,>=1.16.0 (from pymongo<5.0.0,>=3.8.0->apache-beam[gcp]<3,>=2.47->tensorflow-data-validation)\n",
            "  Downloading dnspython-2.4.2-py3-none-any.whl (300 kB)\n",
            "\u001b[2K     \u001b[90m━━━━━━━━━━━━━━━━━━━━━━━━━━━━━━━━━━━━━━━━\u001b[0m \u001b[32m300.4/300.4 kB\u001b[0m \u001b[31m27.4 MB/s\u001b[0m eta \u001b[36m0:00:00\u001b[0m\n",
            "\u001b[?25hRequirement already satisfied: charset-normalizer<4,>=2 in /usr/local/lib/python3.10/dist-packages (from requests<3.0.0,>=2.24.0->apache-beam[gcp]<3,>=2.47->tensorflow-data-validation) (3.3.2)\n",
            "Requirement already satisfied: idna<4,>=2.5 in /usr/local/lib/python3.10/dist-packages (from requests<3.0.0,>=2.24.0->apache-beam[gcp]<3,>=2.47->tensorflow-data-validation) (3.6)\n",
            "Requirement already satisfied: urllib3<3,>=1.21.1 in /usr/local/lib/python3.10/dist-packages (from requests<3.0.0,>=2.24.0->apache-beam[gcp]<3,>=2.47->tensorflow-data-validation) (2.0.7)\n",
            "Requirement already satisfied: certifi>=2017.4.17 in /usr/local/lib/python3.10/dist-packages (from requests<3.0.0,>=2.24.0->apache-beam[gcp]<3,>=2.47->tensorflow-data-validation) (2023.11.17)\n",
            "Requirement already satisfied: google-auth-oauthlib<2,>=0.5 in /usr/local/lib/python3.10/dist-packages (from tensorboard<2.16,>=2.15->tensorflow<3,>=2.13->tensorflow-data-validation) (1.2.0)\n",
            "Requirement already satisfied: markdown>=2.6.8 in /usr/local/lib/python3.10/dist-packages (from tensorboard<2.16,>=2.15->tensorflow<3,>=2.13->tensorflow-data-validation) (3.5.1)\n",
            "Requirement already satisfied: tensorboard-data-server<0.8.0,>=0.7.0 in /usr/local/lib/python3.10/dist-packages (from tensorboard<2.16,>=2.15->tensorflow<3,>=2.13->tensorflow-data-validation) (0.7.2)\n",
            "Requirement already satisfied: werkzeug>=1.0.1 in /usr/local/lib/python3.10/dist-packages (from tensorboard<2.16,>=2.15->tensorflow<3,>=2.13->tensorflow-data-validation) (3.0.1)\n",
            "Requirement already satisfied: requests-oauthlib>=0.7.0 in /usr/local/lib/python3.10/dist-packages (from google-auth-oauthlib<2,>=0.5->tensorboard<2.16,>=2.15->tensorflow<3,>=2.13->tensorflow-data-validation) (1.3.1)\n",
            "Requirement already satisfied: pyasn1>=0.1.7 in /usr/local/lib/python3.10/dist-packages (from oauth2client>=1.4.12->google-apitools<0.5.32,>=0.5.31->apache-beam[gcp]<3,>=2.47->tensorflow-data-validation) (0.5.1)\n",
            "Requirement already satisfied: MarkupSafe>=2.1.1 in /usr/local/lib/python3.10/dist-packages (from werkzeug>=1.0.1->tensorboard<2.16,>=2.15->tensorflow<3,>=2.13->tensorflow-data-validation) (2.1.3)\n",
            "Requirement already satisfied: oauthlib>=3.0.0 in /usr/local/lib/python3.10/dist-packages (from requests-oauthlib>=0.7.0->google-auth-oauthlib<2,>=0.5->tensorboard<2.16,>=2.15->tensorflow<3,>=2.13->tensorflow-data-validation) (3.2.2)\n",
            "Building wheels for collected packages: pyfarmhash, crcmod, dill, google-apitools, hdfs, pyjsparser, docopt\n",
            "  Building wheel for pyfarmhash (setup.py) ... \u001b[?25l\u001b[?25hdone\n",
            "  Created wheel for pyfarmhash: filename=pyfarmhash-0.3.2-cp310-cp310-linux_x86_64.whl size=88655 sha256=490ecaf1ab08706d7d75aa16358fc80bf3a3e6304620fa858cfeefdda15bf000\n",
            "  Stored in directory: /root/.cache/pip/wheels/e0/08/da/f66b1f3258fe3f1e767b2136c5444dbfa9fa3f7944cc5e1983\n",
            "  Building wheel for crcmod (setup.py) ... \u001b[?25l\u001b[?25hdone\n",
            "  Created wheel for crcmod: filename=crcmod-1.7-cp310-cp310-linux_x86_64.whl size=31407 sha256=b2f1a2b98d33f9a6cd351b5967076ed48cfacd873c80592d383c9bb8351db4b1\n",
            "  Stored in directory: /root/.cache/pip/wheels/85/4c/07/72215c529bd59d67e3dac29711d7aba1b692f543c808ba9e86\n",
            "  Building wheel for dill (setup.py) ... \u001b[?25l\u001b[?25hdone\n",
            "  Created wheel for dill: filename=dill-0.3.1.1-py3-none-any.whl size=78540 sha256=b0ad8a8618797229c1a2bcaf7f364a0681f9eb2b3fbd6c3d7396ac2ed9e679ba\n",
            "  Stored in directory: /root/.cache/pip/wheels/ea/e2/86/64980d90e297e7bf2ce588c2b96e818f5399c515c4bb8a7e4f\n",
            "  Building wheel for google-apitools (setup.py) ... \u001b[?25l\u001b[?25hdone\n",
            "  Created wheel for google-apitools: filename=google_apitools-0.5.31-py3-none-any.whl size=131015 sha256=9af8a7fdf51427c6df685b31eea61756ed022bf62c4b44336bf83c946434a95c\n",
            "  Stored in directory: /root/.cache/pip/wheels/04/b7/e0/9712f8c23a5da3d9d16fb88216b897bf60e85b12f5470f26ee\n",
            "  Building wheel for hdfs (setup.py) ... \u001b[?25l\u001b[?25hdone\n",
            "  Created wheel for hdfs: filename=hdfs-2.7.3-py3-none-any.whl size=34325 sha256=e9fa35dca1952755a2aff246e92a8075a2c8e2573048a5ac08febbda354505de\n",
            "  Stored in directory: /root/.cache/pip/wheels/e5/8d/b6/99c1c0a3ac5788c866b0ecd3f48b0134a5910e6ed26011800b\n",
            "  Building wheel for pyjsparser (setup.py) ... \u001b[?25l\u001b[?25hdone\n",
            "  Created wheel for pyjsparser: filename=pyjsparser-2.7.1-py3-none-any.whl size=25984 sha256=60a11d312d972cd468aca7b8259305f6c82ee837cc7536ae9918b3eb0916c0ff\n",
            "  Stored in directory: /root/.cache/pip/wheels/5e/81/26/5956478df303e2bf5a85a5df595bb307bd25948a4bab69f7c7\n",
            "  Building wheel for docopt (setup.py) ... \u001b[?25l\u001b[?25hdone\n",
            "  Created wheel for docopt: filename=docopt-0.6.2-py2.py3-none-any.whl size=13706 sha256=d2a0b4fb607e05c68d044db0263084554d49d61b9d23d5fdf38611534e589915\n",
            "  Stored in directory: /root/.cache/pip/wheels/fc/ab/d4/5da2067ac95b36618c629a5f93f809425700506f72c9732fac\n",
            "Successfully built pyfarmhash crcmod dill google-apitools hdfs pyjsparser docopt\n",
            "Installing collected packages: pyjsparser, pyfarmhash, docopt, crcmod, zstandard, uritemplate, overrides, orjson, objsize, js2py, fasteners, fastavro, dnspython, dill, deprecated, pymongo, hdfs, google-auth, google-apitools, google-api-python-client, apache-beam, google-cloud-vision, google-cloud-videointelligence, google-cloud-storage, google-cloud-spanner, google-cloud-recommendations-ai, google-cloud-pubsub, google-cloud-dlp, google-cloud-bigtable, tensorflow-serving-api, google-cloud-pubsublite, tfx-bsl, tensorflow-data-validation\n",
            "  Attempting uninstall: uritemplate\n",
            "    Found existing installation: uritemplate 4.1.1\n",
            "    Uninstalling uritemplate-4.1.1:\n",
            "      Successfully uninstalled uritemplate-4.1.1\n",
            "  Attempting uninstall: google-auth\n",
            "    Found existing installation: google-auth 2.17.3\n",
            "    Uninstalling google-auth-2.17.3:\n",
            "      Successfully uninstalled google-auth-2.17.3\n",
            "  Attempting uninstall: google-api-python-client\n",
            "    Found existing installation: google-api-python-client 2.84.0\n",
            "    Uninstalling google-api-python-client-2.84.0:\n",
            "      Successfully uninstalled google-api-python-client-2.84.0\n",
            "  Attempting uninstall: google-cloud-storage\n",
            "    Found existing installation: google-cloud-storage 2.8.0\n",
            "    Uninstalling google-cloud-storage-2.8.0:\n",
            "      Successfully uninstalled google-cloud-storage-2.8.0\n",
            "\u001b[31mERROR: pip's dependency resolver does not currently take into account all the packages that are installed. This behaviour is the source of the following dependency conflicts.\n",
            "llmx 0.0.15a0 requires cohere, which is not installed.\n",
            "llmx 0.0.15a0 requires openai, which is not installed.\n",
            "llmx 0.0.15a0 requires tiktoken, which is not installed.\n",
            "google-colab 1.0.0 requires google-auth==2.17.3, but you have google-auth 2.26.2 which is incompatible.\u001b[0m\u001b[31m\n",
            "\u001b[0mSuccessfully installed apache-beam-2.53.0 crcmod-1.7 deprecated-1.2.14 dill-0.3.1.1 dnspython-2.4.2 docopt-0.6.2 fastavro-1.9.3 fasteners-0.19 google-api-python-client-1.12.11 google-apitools-0.5.31 google-auth-2.26.2 google-cloud-bigtable-2.22.0 google-cloud-dlp-3.14.0 google-cloud-pubsub-2.19.0 google-cloud-pubsublite-1.9.0 google-cloud-recommendations-ai-0.10.6 google-cloud-spanner-3.41.0 google-cloud-storage-2.14.0 google-cloud-videointelligence-2.12.0 google-cloud-vision-3.5.0 hdfs-2.7.3 js2py-0.74 objsize-0.6.1 orjson-3.9.10 overrides-7.4.0 pyfarmhash-0.3.2 pyjsparser-2.7.1 pymongo-4.6.1 tensorflow-data-validation-1.14.0 tensorflow-serving-api-2.14.1 tfx-bsl-1.14.0 uritemplate-3.0.1 zstandard-0.22.0\n"
          ]
        },
        {
          "output_type": "display_data",
          "data": {
            "application/vnd.colab-display-data+json": {
              "pip_warning": {
                "packages": [
                  "google"
                ]
              }
            }
          },
          "metadata": {}
        }
      ],
      "source": [
        "pip install tensorflow-data-validation"
      ]
    },
    {
      "cell_type": "code",
      "source": [
        "#ls"
      ],
      "metadata": {
        "id": "fX1OIS20bkSC"
      },
      "execution_count": 1,
      "outputs": []
    },
    {
      "cell_type": "code",
      "source": [
        "#Libraries\n",
        "import pandas as pd\n",
        "import tensorflow_data_validation as tfdv\n",
        "import matplotlib.pyplot as plt\n",
        "import seaborn as sns\n",
        "import numpy as np\n",
        "\n",
        "from sklearn.preprocessing import MinMaxScaler, StandardScaler\n",
        "from sklearn.model_selection import train_test_split, cross_val_score, KFold\n",
        "from sklearn.linear_model import LinearRegression,Ridge\n",
        "from sklearn.metrics import mean_squared_error,r2_score"
      ],
      "metadata": {
        "id": "Sk7A2hNChNj7"
      },
      "execution_count": 2,
      "outputs": []
    },
    {
      "cell_type": "markdown",
      "source": [
        "We load the data and make a quick analysis of the size of the data, this to determine if using pandas will be enough or if a more powerful tool like pyspark will be required to process and analyze the data provided."
      ],
      "metadata": {
        "id": "q_PD9Y5GPkjS"
      }
    },
    {
      "cell_type": "code",
      "source": [
        "data_diamonds = pd.read_csv(\"EDT prueba técnica/diamonds.csv\")\n",
        "data_diamonds.columns.values[0] = 'id'"
      ],
      "metadata": {
        "id": "Xc6tcvfRMpvG"
      },
      "execution_count": 3,
      "outputs": []
    },
    {
      "cell_type": "code",
      "source": [
        "data_coords = pd.read_csv(\"EDT prueba técnica/coords_diamonds.csv\")\n",
        "data_coords.columns.values[0] = 'id'"
      ],
      "metadata": {
        "id": "jp0Z5BKsMpxq"
      },
      "execution_count": 4,
      "outputs": []
    },
    {
      "cell_type": "code",
      "source": [
        "# dimensions of the loaded data\n",
        "data_diamonds.shape"
      ],
      "metadata": {
        "colab": {
          "base_uri": "https://localhost:8080/"
        },
        "id": "teUYhiu7Mp0D",
        "outputId": "3389ecea-9802-45e5-ac5b-0b6c6f7803f5"
      },
      "execution_count": 5,
      "outputs": [
        {
          "output_type": "execute_result",
          "data": {
            "text/plain": [
              "(53930, 11)"
            ]
          },
          "metadata": {},
          "execution_count": 5
        }
      ]
    },
    {
      "cell_type": "code",
      "source": [
        "data_coords.shape"
      ],
      "metadata": {
        "colab": {
          "base_uri": "https://localhost:8080/"
        },
        "id": "lw5EXvdZMp2g",
        "outputId": "6644196e-4fd4-4404-9308-cb3536f65f4f"
      },
      "execution_count": 6,
      "outputs": [
        {
          "output_type": "execute_result",
          "data": {
            "text/plain": [
              "(53930, 3)"
            ]
          },
          "metadata": {},
          "execution_count": 6
        }
      ]
    },
    {
      "cell_type": "markdown",
      "source": [
        "When you have data on the order of tens of thousands of records and 11 columns at most, using pandas will be enough."
      ],
      "metadata": {
        "id": "kf-hUUpXQIPj"
      }
    },
    {
      "cell_type": "markdown",
      "source": [
        "First we try to solve the first part of the problem that says:\n",
        "\n",
        "Show your abilities in data loading, cleaning and descriptive analysis. Some rows contain errors. Extra points: clean these rows and include them in your analysis.\n",
        "\n"
      ],
      "metadata": {
        "id": "RyCd9FiSQFu0"
      }
    },
    {
      "cell_type": "markdown",
      "source": [
        "Since both data sets have the same number of rows and unnamed represents an id (identifier) of each diamond, it will be enough to concat both data sets to have all the information together in a single data set."
      ],
      "metadata": {
        "id": "QBdN4bWLnfYu"
      }
    },
    {
      "cell_type": "code",
      "source": [
        "full_data = pd.merge(data_diamonds, data_coords, on='id')"
      ],
      "metadata": {
        "id": "aLGZUpWhocEH"
      },
      "execution_count": 7,
      "outputs": []
    },
    {
      "cell_type": "code",
      "source": [
        "full_data.tail()"
      ],
      "metadata": {
        "colab": {
          "base_uri": "https://localhost:8080/",
          "height": 206
        },
        "id": "7CP7DjdXrIce",
        "outputId": "dfb8dde8-a084-4907-b372-2861fe19e7fb"
      },
      "execution_count": 8,
      "outputs": [
        {
          "output_type": "execute_result",
          "data": {
            "text/plain": [
              "          id  carat        cut color clarity  depth  table  price     x     y  \\\n",
              "53925  53925   0.72      Ideal     D     SI1   60.8   57.0   2757  5.75  5.76   \n",
              "53926  53926   0.72       Good     D     SI1   63.1   55.0   2757  5.69  5.75   \n",
              "53927  53927   0.70  Very Good     D     SI1   62.8   60.0   2757  5.66  5.68   \n",
              "53928  53928   0.86    Premium     H     SI2   61.0   58.0   2757  6.15  6.12   \n",
              "53929  53929   0.75      Ideal     D     SI2    NaN   55.0   2757   NaN   NaN   \n",
              "\n",
              "          z    latitude  longitude   \n",
              "53925  3.50  38.5816667 -121.493333  \n",
              "53926  3.61   32.436381 -111.222442  \n",
              "53927  3.56  40.2413889  -75.284167  \n",
              "53928  3.74  38.8222222 -122.721944  \n",
              "53929  3.64  31.3111111  -92.445000  "
            ],
            "text/html": [
              "\n",
              "  <div id=\"df-8ba510c3-f536-4bae-a4a2-fc8765852290\" class=\"colab-df-container\">\n",
              "    <div>\n",
              "<style scoped>\n",
              "    .dataframe tbody tr th:only-of-type {\n",
              "        vertical-align: middle;\n",
              "    }\n",
              "\n",
              "    .dataframe tbody tr th {\n",
              "        vertical-align: top;\n",
              "    }\n",
              "\n",
              "    .dataframe thead th {\n",
              "        text-align: right;\n",
              "    }\n",
              "</style>\n",
              "<table border=\"1\" class=\"dataframe\">\n",
              "  <thead>\n",
              "    <tr style=\"text-align: right;\">\n",
              "      <th></th>\n",
              "      <th>id</th>\n",
              "      <th>carat</th>\n",
              "      <th>cut</th>\n",
              "      <th>color</th>\n",
              "      <th>clarity</th>\n",
              "      <th>depth</th>\n",
              "      <th>table</th>\n",
              "      <th>price</th>\n",
              "      <th>x</th>\n",
              "      <th>y</th>\n",
              "      <th>z</th>\n",
              "      <th>latitude</th>\n",
              "      <th>longitude</th>\n",
              "    </tr>\n",
              "  </thead>\n",
              "  <tbody>\n",
              "    <tr>\n",
              "      <th>53925</th>\n",
              "      <td>53925</td>\n",
              "      <td>0.72</td>\n",
              "      <td>Ideal</td>\n",
              "      <td>D</td>\n",
              "      <td>SI1</td>\n",
              "      <td>60.8</td>\n",
              "      <td>57.0</td>\n",
              "      <td>2757</td>\n",
              "      <td>5.75</td>\n",
              "      <td>5.76</td>\n",
              "      <td>3.50</td>\n",
              "      <td>38.5816667</td>\n",
              "      <td>-121.493333</td>\n",
              "    </tr>\n",
              "    <tr>\n",
              "      <th>53926</th>\n",
              "      <td>53926</td>\n",
              "      <td>0.72</td>\n",
              "      <td>Good</td>\n",
              "      <td>D</td>\n",
              "      <td>SI1</td>\n",
              "      <td>63.1</td>\n",
              "      <td>55.0</td>\n",
              "      <td>2757</td>\n",
              "      <td>5.69</td>\n",
              "      <td>5.75</td>\n",
              "      <td>3.61</td>\n",
              "      <td>32.436381</td>\n",
              "      <td>-111.222442</td>\n",
              "    </tr>\n",
              "    <tr>\n",
              "      <th>53927</th>\n",
              "      <td>53927</td>\n",
              "      <td>0.70</td>\n",
              "      <td>Very Good</td>\n",
              "      <td>D</td>\n",
              "      <td>SI1</td>\n",
              "      <td>62.8</td>\n",
              "      <td>60.0</td>\n",
              "      <td>2757</td>\n",
              "      <td>5.66</td>\n",
              "      <td>5.68</td>\n",
              "      <td>3.56</td>\n",
              "      <td>40.2413889</td>\n",
              "      <td>-75.284167</td>\n",
              "    </tr>\n",
              "    <tr>\n",
              "      <th>53928</th>\n",
              "      <td>53928</td>\n",
              "      <td>0.86</td>\n",
              "      <td>Premium</td>\n",
              "      <td>H</td>\n",
              "      <td>SI2</td>\n",
              "      <td>61.0</td>\n",
              "      <td>58.0</td>\n",
              "      <td>2757</td>\n",
              "      <td>6.15</td>\n",
              "      <td>6.12</td>\n",
              "      <td>3.74</td>\n",
              "      <td>38.8222222</td>\n",
              "      <td>-122.721944</td>\n",
              "    </tr>\n",
              "    <tr>\n",
              "      <th>53929</th>\n",
              "      <td>53929</td>\n",
              "      <td>0.75</td>\n",
              "      <td>Ideal</td>\n",
              "      <td>D</td>\n",
              "      <td>SI2</td>\n",
              "      <td>NaN</td>\n",
              "      <td>55.0</td>\n",
              "      <td>2757</td>\n",
              "      <td>NaN</td>\n",
              "      <td>NaN</td>\n",
              "      <td>3.64</td>\n",
              "      <td>31.3111111</td>\n",
              "      <td>-92.445000</td>\n",
              "    </tr>\n",
              "  </tbody>\n",
              "</table>\n",
              "</div>\n",
              "    <div class=\"colab-df-buttons\">\n",
              "\n",
              "  <div class=\"colab-df-container\">\n",
              "    <button class=\"colab-df-convert\" onclick=\"convertToInteractive('df-8ba510c3-f536-4bae-a4a2-fc8765852290')\"\n",
              "            title=\"Convert this dataframe to an interactive table.\"\n",
              "            style=\"display:none;\">\n",
              "\n",
              "  <svg xmlns=\"http://www.w3.org/2000/svg\" height=\"24px\" viewBox=\"0 -960 960 960\">\n",
              "    <path d=\"M120-120v-720h720v720H120Zm60-500h600v-160H180v160Zm220 220h160v-160H400v160Zm0 220h160v-160H400v160ZM180-400h160v-160H180v160Zm440 0h160v-160H620v160ZM180-180h160v-160H180v160Zm440 0h160v-160H620v160Z\"/>\n",
              "  </svg>\n",
              "    </button>\n",
              "\n",
              "  <style>\n",
              "    .colab-df-container {\n",
              "      display:flex;\n",
              "      gap: 12px;\n",
              "    }\n",
              "\n",
              "    .colab-df-convert {\n",
              "      background-color: #E8F0FE;\n",
              "      border: none;\n",
              "      border-radius: 50%;\n",
              "      cursor: pointer;\n",
              "      display: none;\n",
              "      fill: #1967D2;\n",
              "      height: 32px;\n",
              "      padding: 0 0 0 0;\n",
              "      width: 32px;\n",
              "    }\n",
              "\n",
              "    .colab-df-convert:hover {\n",
              "      background-color: #E2EBFA;\n",
              "      box-shadow: 0px 1px 2px rgba(60, 64, 67, 0.3), 0px 1px 3px 1px rgba(60, 64, 67, 0.15);\n",
              "      fill: #174EA6;\n",
              "    }\n",
              "\n",
              "    .colab-df-buttons div {\n",
              "      margin-bottom: 4px;\n",
              "    }\n",
              "\n",
              "    [theme=dark] .colab-df-convert {\n",
              "      background-color: #3B4455;\n",
              "      fill: #D2E3FC;\n",
              "    }\n",
              "\n",
              "    [theme=dark] .colab-df-convert:hover {\n",
              "      background-color: #434B5C;\n",
              "      box-shadow: 0px 1px 3px 1px rgba(0, 0, 0, 0.15);\n",
              "      filter: drop-shadow(0px 1px 2px rgba(0, 0, 0, 0.3));\n",
              "      fill: #FFFFFF;\n",
              "    }\n",
              "  </style>\n",
              "\n",
              "    <script>\n",
              "      const buttonEl =\n",
              "        document.querySelector('#df-8ba510c3-f536-4bae-a4a2-fc8765852290 button.colab-df-convert');\n",
              "      buttonEl.style.display =\n",
              "        google.colab.kernel.accessAllowed ? 'block' : 'none';\n",
              "\n",
              "      async function convertToInteractive(key) {\n",
              "        const element = document.querySelector('#df-8ba510c3-f536-4bae-a4a2-fc8765852290');\n",
              "        const dataTable =\n",
              "          await google.colab.kernel.invokeFunction('convertToInteractive',\n",
              "                                                    [key], {});\n",
              "        if (!dataTable) return;\n",
              "\n",
              "        const docLinkHtml = 'Like what you see? Visit the ' +\n",
              "          '<a target=\"_blank\" href=https://colab.research.google.com/notebooks/data_table.ipynb>data table notebook</a>'\n",
              "          + ' to learn more about interactive tables.';\n",
              "        element.innerHTML = '';\n",
              "        dataTable['output_type'] = 'display_data';\n",
              "        await google.colab.output.renderOutput(dataTable, element);\n",
              "        const docLink = document.createElement('div');\n",
              "        docLink.innerHTML = docLinkHtml;\n",
              "        element.appendChild(docLink);\n",
              "      }\n",
              "    </script>\n",
              "  </div>\n",
              "\n",
              "\n",
              "<div id=\"df-5b30dd26-1ad6-431e-8d29-b7e00076cf1b\">\n",
              "  <button class=\"colab-df-quickchart\" onclick=\"quickchart('df-5b30dd26-1ad6-431e-8d29-b7e00076cf1b')\"\n",
              "            title=\"Suggest charts\"\n",
              "            style=\"display:none;\">\n",
              "\n",
              "<svg xmlns=\"http://www.w3.org/2000/svg\" height=\"24px\"viewBox=\"0 0 24 24\"\n",
              "     width=\"24px\">\n",
              "    <g>\n",
              "        <path d=\"M19 3H5c-1.1 0-2 .9-2 2v14c0 1.1.9 2 2 2h14c1.1 0 2-.9 2-2V5c0-1.1-.9-2-2-2zM9 17H7v-7h2v7zm4 0h-2V7h2v10zm4 0h-2v-4h2v4z\"/>\n",
              "    </g>\n",
              "</svg>\n",
              "  </button>\n",
              "\n",
              "<style>\n",
              "  .colab-df-quickchart {\n",
              "      --bg-color: #E8F0FE;\n",
              "      --fill-color: #1967D2;\n",
              "      --hover-bg-color: #E2EBFA;\n",
              "      --hover-fill-color: #174EA6;\n",
              "      --disabled-fill-color: #AAA;\n",
              "      --disabled-bg-color: #DDD;\n",
              "  }\n",
              "\n",
              "  [theme=dark] .colab-df-quickchart {\n",
              "      --bg-color: #3B4455;\n",
              "      --fill-color: #D2E3FC;\n",
              "      --hover-bg-color: #434B5C;\n",
              "      --hover-fill-color: #FFFFFF;\n",
              "      --disabled-bg-color: #3B4455;\n",
              "      --disabled-fill-color: #666;\n",
              "  }\n",
              "\n",
              "  .colab-df-quickchart {\n",
              "    background-color: var(--bg-color);\n",
              "    border: none;\n",
              "    border-radius: 50%;\n",
              "    cursor: pointer;\n",
              "    display: none;\n",
              "    fill: var(--fill-color);\n",
              "    height: 32px;\n",
              "    padding: 0;\n",
              "    width: 32px;\n",
              "  }\n",
              "\n",
              "  .colab-df-quickchart:hover {\n",
              "    background-color: var(--hover-bg-color);\n",
              "    box-shadow: 0 1px 2px rgba(60, 64, 67, 0.3), 0 1px 3px 1px rgba(60, 64, 67, 0.15);\n",
              "    fill: var(--button-hover-fill-color);\n",
              "  }\n",
              "\n",
              "  .colab-df-quickchart-complete:disabled,\n",
              "  .colab-df-quickchart-complete:disabled:hover {\n",
              "    background-color: var(--disabled-bg-color);\n",
              "    fill: var(--disabled-fill-color);\n",
              "    box-shadow: none;\n",
              "  }\n",
              "\n",
              "  .colab-df-spinner {\n",
              "    border: 2px solid var(--fill-color);\n",
              "    border-color: transparent;\n",
              "    border-bottom-color: var(--fill-color);\n",
              "    animation:\n",
              "      spin 1s steps(1) infinite;\n",
              "  }\n",
              "\n",
              "  @keyframes spin {\n",
              "    0% {\n",
              "      border-color: transparent;\n",
              "      border-bottom-color: var(--fill-color);\n",
              "      border-left-color: var(--fill-color);\n",
              "    }\n",
              "    20% {\n",
              "      border-color: transparent;\n",
              "      border-left-color: var(--fill-color);\n",
              "      border-top-color: var(--fill-color);\n",
              "    }\n",
              "    30% {\n",
              "      border-color: transparent;\n",
              "      border-left-color: var(--fill-color);\n",
              "      border-top-color: var(--fill-color);\n",
              "      border-right-color: var(--fill-color);\n",
              "    }\n",
              "    40% {\n",
              "      border-color: transparent;\n",
              "      border-right-color: var(--fill-color);\n",
              "      border-top-color: var(--fill-color);\n",
              "    }\n",
              "    60% {\n",
              "      border-color: transparent;\n",
              "      border-right-color: var(--fill-color);\n",
              "    }\n",
              "    80% {\n",
              "      border-color: transparent;\n",
              "      border-right-color: var(--fill-color);\n",
              "      border-bottom-color: var(--fill-color);\n",
              "    }\n",
              "    90% {\n",
              "      border-color: transparent;\n",
              "      border-bottom-color: var(--fill-color);\n",
              "    }\n",
              "  }\n",
              "</style>\n",
              "\n",
              "  <script>\n",
              "    async function quickchart(key) {\n",
              "      const quickchartButtonEl =\n",
              "        document.querySelector('#' + key + ' button');\n",
              "      quickchartButtonEl.disabled = true;  // To prevent multiple clicks.\n",
              "      quickchartButtonEl.classList.add('colab-df-spinner');\n",
              "      try {\n",
              "        const charts = await google.colab.kernel.invokeFunction(\n",
              "            'suggestCharts', [key], {});\n",
              "      } catch (error) {\n",
              "        console.error('Error during call to suggestCharts:', error);\n",
              "      }\n",
              "      quickchartButtonEl.classList.remove('colab-df-spinner');\n",
              "      quickchartButtonEl.classList.add('colab-df-quickchart-complete');\n",
              "    }\n",
              "    (() => {\n",
              "      let quickchartButtonEl =\n",
              "        document.querySelector('#df-5b30dd26-1ad6-431e-8d29-b7e00076cf1b button');\n",
              "      quickchartButtonEl.style.display =\n",
              "        google.colab.kernel.accessAllowed ? 'block' : 'none';\n",
              "    })();\n",
              "  </script>\n",
              "</div>\n",
              "\n",
              "    </div>\n",
              "  </div>\n"
            ]
          },
          "metadata": {},
          "execution_count": 8
        }
      ]
    },
    {
      "cell_type": "markdown",
      "source": [
        "To start we will perform an initial data profiling to see what types of data we have."
      ],
      "metadata": {
        "id": "QWgnS1JadwQ0"
      }
    },
    {
      "cell_type": "markdown",
      "source": [
        "Regarding the previous set of data, since we are asked as a problem to estimate how much the stolen diamonds are worth, the variable that can be used as a label to denote the value of each diamond will be the variable **price**, but to determine if that will be the best option, it is necessary to do data profiling."
      ],
      "metadata": {
        "id": "dQuApRiOe3n9"
      }
    },
    {
      "cell_type": "code",
      "source": [
        "stats_diamonds = tfdv.generate_statistics_from_dataframe(full_data)"
      ],
      "metadata": {
        "id": "bAmgYmzKhB-r"
      },
      "execution_count": 9,
      "outputs": []
    },
    {
      "cell_type": "code",
      "source": [
        "tfdv.visualize_statistics(stats_diamonds)\n"
      ],
      "metadata": {
        "colab": {
          "base_uri": "https://localhost:8080/",
          "height": 1000
        },
        "id": "XEbmav5ah4h8",
        "outputId": "562fd1f5-362c-4cba-ad30-6e0498843786"
      },
      "execution_count": 10,
      "outputs": [
        {
          "output_type": "display_data",
          "data": {
            "text/plain": [
              "<IPython.core.display.HTML object>"
            ],
            "text/html": [
              "<iframe id='facets-iframe' width=\"100%\" height=\"500px\"></iframe>\n",
              "        <script>\n",
              "        facets_iframe = document.getElementById('facets-iframe');\n",
              "        facets_html = '<script src=\"https://cdnjs.cloudflare.com/ajax/libs/webcomponentsjs/1.3.3/webcomponents-lite.js\"><\\/script><link rel=\"import\" href=\"https://raw.githubusercontent.com/PAIR-code/facets/master/facets-dist/facets-jupyter.html\"><facets-overview proto-input=\"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\"></facets-overview>';\n",
              "        facets_iframe.srcdoc = facets_html;\n",
              "         facets_iframe.id = \"\";\n",
              "         setTimeout(() => {\n",
              "           facets_iframe.setAttribute('height', facets_iframe.contentWindow.document.body.offsetHeight + 'px')\n",
              "         }, 1500)\n",
              "         </script>"
            ]
          },
          "metadata": {}
        }
      ]
    },
    {
      "cell_type": "markdown",
      "source": [
        "From the previous data profiling, we noticed that the categorical variables do not seem to be good candidates to use as predictor variables, since they have unique values close to 30, so when converting them to dummy variables to be processed in a model predictive, they would be transformed into 30 more variables, making the implementation much more complex as well as the computational cost, so their possible use would only be evaluated if an acceptable performance was not achieved with the numerical variables, for example below 70 percent."
      ],
      "metadata": {
        "id": "o5o_5-Qwjj9b"
      }
    },
    {
      "cell_type": "markdown",
      "source": [
        "# Data setting"
      ],
      "metadata": {
        "id": "2BsXFZuJejxN"
      }
    },
    {
      "cell_type": "code",
      "source": [
        "full_data.dtypes"
      ],
      "metadata": {
        "colab": {
          "base_uri": "https://localhost:8080/"
        },
        "id": "bGHyWnK3eoV6",
        "outputId": "8f09af77-84ce-43ee-9b67-74c75a92eb3b"
      },
      "execution_count": 11,
      "outputs": [
        {
          "output_type": "execute_result",
          "data": {
            "text/plain": [
              "id              int64\n",
              "carat         float64\n",
              "cut            object\n",
              "color          object\n",
              "clarity        object\n",
              "depth         float64\n",
              "table         float64\n",
              "price           int64\n",
              "x             float64\n",
              "y             float64\n",
              "z             float64\n",
              "latitude       object\n",
              "longitude     float64\n",
              "dtype: object"
            ]
          },
          "metadata": {},
          "execution_count": 11
        }
      ]
    },
    {
      "cell_type": "markdown",
      "source": [
        "It is necessary to convert the latitude variable to a float64 type variable, since Python identifies it as an object type."
      ],
      "metadata": {
        "id": "vU4LbSFOeviC"
      }
    },
    {
      "cell_type": "code",
      "source": [
        "full_data['latitude'] = pd.to_numeric(full_data['latitude'], errors='coerce')"
      ],
      "metadata": {
        "id": "1ZDl9alee5GG"
      },
      "execution_count": 12,
      "outputs": []
    },
    {
      "cell_type": "code",
      "source": [
        "full_data.dtypes"
      ],
      "metadata": {
        "colab": {
          "base_uri": "https://localhost:8080/"
        },
        "id": "bRgwUwq0fdYI",
        "outputId": "721e6e71-c8dc-4e5d-c9d9-f3d933bd5235"
      },
      "execution_count": 13,
      "outputs": [
        {
          "output_type": "execute_result",
          "data": {
            "text/plain": [
              "id              int64\n",
              "carat         float64\n",
              "cut            object\n",
              "color          object\n",
              "clarity        object\n",
              "depth         float64\n",
              "table         float64\n",
              "price           int64\n",
              "x             float64\n",
              "y             float64\n",
              "z             float64\n",
              "latitude      float64\n",
              "longitude     float64\n",
              "dtype: object"
            ]
          },
          "metadata": {},
          "execution_count": 13
        }
      ]
    },
    {
      "cell_type": "markdown",
      "source": [
        "Having completed this first data profiling, we realize that price could be used as a response variable. Regarding the other variables, as hypotheses, all of them could be useful to predict the price variable, but we need to do more statistical analysis to complement the analysis provided by tfdv. To do this, we will do a correlation analysis between the variables."
      ],
      "metadata": {
        "id": "dWPZkk0Lkg_d"
      }
    },
    {
      "cell_type": "code",
      "source": [
        "correlacion_pearson = full_data.corr(method='pearson')"
      ],
      "metadata": {
        "colab": {
          "base_uri": "https://localhost:8080/"
        },
        "id": "XxcF1zydlxyB",
        "outputId": "3bfac20d-9ada-451b-b92b-2d377a758ca4"
      },
      "execution_count": 14,
      "outputs": [
        {
          "output_type": "stream",
          "name": "stderr",
          "text": [
            "<ipython-input-14-34aadb28d36b>:1: FutureWarning: The default value of numeric_only in DataFrame.corr is deprecated. In a future version, it will default to False. Select only valid columns or specify the value of numeric_only to silence this warning.\n",
            "  correlacion_pearson = full_data.corr(method='pearson')\n"
          ]
        }
      ]
    },
    {
      "cell_type": "code",
      "source": [
        "plt.figure(figsize=(10,8))\n",
        "sns.heatmap(correlacion_pearson, annot=True, fmt=\".2f\")\n",
        "plt.show()"
      ],
      "metadata": {
        "colab": {
          "base_uri": "https://localhost:8080/",
          "height": 682
        },
        "id": "y7uNvCO5mGGo",
        "outputId": "a50096a8-7c69-49ed-d06f-61b55831285d"
      },
      "execution_count": 15,
      "outputs": [
        {
          "output_type": "display_data",
          "data": {
            "text/plain": [
              "<Figure size 1000x800 with 2 Axes>"
            ],
            "image/png": "[encoded data removed]"
          },
          "metadata": {}
        }
      ]
    },
    {
      "cell_type": "markdown",
      "source": [
        "Analyzing the type of correlation that the variable **price** has with the others, we see that it has a high linear correlation with the variables **carat**, **x**, **y**, **z**, on the other hand it does not seem to have a linear relationship with the variable **depth** and **longitude** and **latitude**. Furthermore, since **price** is more linearly correlated with the variable **x** than with **y** or **z** and since **x** **y** and **z** are in turn highly correlated, we can use the variables **carat** and **x** to make our predictions."
      ],
      "metadata": {
        "id": "EKAWM3BTd_Xn"
      }
    },
    {
      "cell_type": "markdown",
      "source": [
        "## Model implementation"
      ],
      "metadata": {
        "id": "eoINQOgdmf1d"
      }
    },
    {
      "cell_type": "markdown",
      "source": [
        "### Train model"
      ],
      "metadata": {
        "id": "-L0t36lBnWHp"
      }
    },
    {
      "cell_type": "markdown",
      "source": [
        "We choose the response variable and the predictor variables from our data set:"
      ],
      "metadata": {
        "id": "TNl4LpHKjiFa"
      }
    },
    {
      "cell_type": "code",
      "source": [
        "X = full_data[['carat', 'z']]  # predictor variables\n",
        "y = full_data['price']  # target variable/response variable\n"
      ],
      "metadata": {
        "id": "oWvI8inkedAz"
      },
      "execution_count": 16,
      "outputs": []
    },
    {
      "cell_type": "markdown",
      "source": [
        "\n",
        "Conveniently, z was chosen because it does not have missing values and given the correlation that exists with \"x\" and \"y\" it is pertinent to use \"z\" instead of the other variables that do have missing values; For practicality and as it will be the first model implemented, it is better to choose \"z\"."
      ],
      "metadata": {
        "id": "daMl88Zgo1rl"
      }
    },
    {
      "cell_type": "markdown",
      "source": [
        "We split the data set into training and test sets with a standard 80-20 split."
      ],
      "metadata": {
        "id": "mgvxueAxm71L"
      }
    },
    {
      "cell_type": "code",
      "source": [
        "X_train, X_test, y_train, y_test = train_test_split(X, y, test_size=0.2, random_state=0)\n"
      ],
      "metadata": {
        "id": "BbC3AyzRmdvl"
      },
      "execution_count": 17,
      "outputs": []
    },
    {
      "cell_type": "code",
      "source": [
        "model_lr = LinearRegression()\n",
        "model_lr.fit(X_train, y_train)\n"
      ],
      "metadata": {
        "colab": {
          "base_uri": "https://localhost:8080/",
          "height": 75
        },
        "id": "gtO1v_C8nC_C",
        "outputId": "08e429e7-30f2-4f07-cb0c-b9915c58e6a9"
      },
      "execution_count": 18,
      "outputs": [
        {
          "output_type": "execute_result",
          "data": {
            "text/plain": [
              "LinearRegression()"
            ],
            "text/html": [
              "<style>#sk-container-id-1 {color: black;background-color: white;}#sk-container-id-1 pre{padding: 0;}#sk-container-id-1 div.sk-toggleable {background-color: white;}#sk-container-id-1 label.sk-toggleable__label {cursor: pointer;display: block;width: 100%;margin-bottom: 0;padding: 0.3em;box-sizing: border-box;text-align: center;}#sk-container-id-1 label.sk-toggleable__label-arrow:before {content: \"▸\";float: left;margin-right: 0.25em;color: #696969;}#sk-container-id-1 label.sk-toggleable__label-arrow:hover:before {color: black;}#sk-container-id-1 div.sk-estimator:hover label.sk-toggleable__label-arrow:before {color: black;}#sk-container-id-1 div.sk-toggleable__content {max-height: 0;max-width: 0;overflow: hidden;text-align: left;background-color: #f0f8ff;}#sk-container-id-1 div.sk-toggleable__content pre {margin: 0.2em;color: black;border-radius: 0.25em;background-color: #f0f8ff;}#sk-container-id-1 input.sk-toggleable__control:checked~div.sk-toggleable__content {max-height: 200px;max-width: 100%;overflow: auto;}#sk-container-id-1 input.sk-toggleable__control:checked~label.sk-toggleable__label-arrow:before {content: \"▾\";}#sk-container-id-1 div.sk-estimator input.sk-toggleable__control:checked~label.sk-toggleable__label {background-color: #d4ebff;}#sk-container-id-1 div.sk-label input.sk-toggleable__control:checked~label.sk-toggleable__label {background-color: #d4ebff;}#sk-container-id-1 input.sk-hidden--visually {border: 0;clip: rect(1px 1px 1px 1px);clip: rect(1px, 1px, 1px, 1px);height: 1px;margin: -1px;overflow: hidden;padding: 0;position: absolute;width: 1px;}#sk-container-id-1 div.sk-estimator {font-family: monospace;background-color: #f0f8ff;border: 1px dotted black;border-radius: 0.25em;box-sizing: border-box;margin-bottom: 0.5em;}#sk-container-id-1 div.sk-estimator:hover {background-color: #d4ebff;}#sk-container-id-1 div.sk-parallel-item::after {content: \"\";width: 100%;border-bottom: 1px solid gray;flex-grow: 1;}#sk-container-id-1 div.sk-label:hover label.sk-toggleable__label {background-color: #d4ebff;}#sk-container-id-1 div.sk-serial::before {content: \"\";position: absolute;border-left: 1px solid gray;box-sizing: border-box;top: 0;bottom: 0;left: 50%;z-index: 0;}#sk-container-id-1 div.sk-serial {display: flex;flex-direction: column;align-items: center;background-color: white;padding-right: 0.2em;padding-left: 0.2em;position: relative;}#sk-container-id-1 div.sk-item {position: relative;z-index: 1;}#sk-container-id-1 div.sk-parallel {display: flex;align-items: stretch;justify-content: center;background-color: white;position: relative;}#sk-container-id-1 div.sk-item::before, #sk-container-id-1 div.sk-parallel-item::before {content: \"\";position: absolute;border-left: 1px solid gray;box-sizing: border-box;top: 0;bottom: 0;left: 50%;z-index: -1;}#sk-container-id-1 div.sk-parallel-item {display: flex;flex-direction: column;z-index: 1;position: relative;background-color: white;}#sk-container-id-1 div.sk-parallel-item:first-child::after {align-self: flex-end;width: 50%;}#sk-container-id-1 div.sk-parallel-item:last-child::after {align-self: flex-start;width: 50%;}#sk-container-id-1 div.sk-parallel-item:only-child::after {width: 0;}#sk-container-id-1 div.sk-dashed-wrapped {border: 1px dashed gray;margin: 0 0.4em 0.5em 0.4em;box-sizing: border-box;padding-bottom: 0.4em;background-color: white;}#sk-container-id-1 div.sk-label label {font-family: monospace;font-weight: bold;display: inline-block;line-height: 1.2em;}#sk-container-id-1 div.sk-label-container {text-align: center;}#sk-container-id-1 div.sk-container {/* jupyter's `normalize.less` sets `[hidden] { display: none; }` but bootstrap.min.css set `[hidden] { display: none !important; }` so we also need the `!important` here to be able to override the default hidden behavior on the sphinx rendered scikit-learn.org. See: https://github.com/scikit-learn/scikit-learn/issues/21755 */display: inline-block !important;position: relative;}#sk-container-id-1 div.sk-text-repr-fallback {display: none;}</style><div id=\"sk-container-id-1\" class=\"sk-top-container\"><div class=\"sk-text-repr-fallback\"><pre>LinearRegression()</pre><b>In a Jupyter environment, please rerun this cell to show the HTML representation or trust the notebook. <br />On GitHub, the HTML representation is unable to render, please try loading this page with nbviewer.org.</b></div><div class=\"sk-container\" hidden><div class=\"sk-item\"><div class=\"sk-estimator sk-toggleable\"><input class=\"sk-toggleable__control sk-hidden--visually\" id=\"sk-estimator-id-1\" type=\"checkbox\" checked><label for=\"sk-estimator-id-1\" class=\"sk-toggleable__label sk-toggleable__label-arrow\">LinearRegression</label><div class=\"sk-toggleable__content\"><pre>LinearRegression()</pre></div></div></div></div></div>"
            ]
          },
          "metadata": {},
          "execution_count": 18
        }
      ]
    },
    {
      "cell_type": "markdown",
      "source": [
        "\n",
        "Predictions are made and the mean square error is evaluated:"
      ],
      "metadata": {
        "id": "NBfdZNQepXhk"
      }
    },
    {
      "cell_type": "code",
      "source": [
        "y_pred = model_lr.predict(X_test)\n",
        "mse = mean_squared_error(y_test, y_pred)\n",
        "print(f\"Mean Square Error: {mse}\")"
      ],
      "metadata": {
        "colab": {
          "base_uri": "https://localhost:8080/"
        },
        "id": "9Yho3O4anH3K",
        "outputId": "b86306b1-4565-413a-e790-4addf2d512d6"
      },
      "execution_count": 19,
      "outputs": [
        {
          "output_type": "stream",
          "name": "stdout",
          "text": [
            "Mean Square Error: 2260251.9497036333\n"
          ]
        }
      ]
    },
    {
      "cell_type": "markdown",
      "source": [
        "and r2 metric:"
      ],
      "metadata": {
        "id": "wQP9_MclV6dG"
      }
    },
    {
      "cell_type": "code",
      "source": [
        "r2 = r2_score(y_test, y_pred)\n",
        "print(f\"Model performance with r2: {r2}\")"
      ],
      "metadata": {
        "colab": {
          "base_uri": "https://localhost:8080/"
        },
        "id": "FfYgMNLZpb_C",
        "outputId": "dea63ce0-e491-4c1b-cfb0-6b567b4d9198"
      },
      "execution_count": 20,
      "outputs": [
        {
          "output_type": "stream",
          "name": "stdout",
          "text": [
            "Model performance with r2: 0.8604305298215819\n"
          ]
        }
      ]
    },
    {
      "cell_type": "markdown",
      "source": [
        "\n",
        "This means that the model can correctly explain 96 percent of the data."
      ],
      "metadata": {
        "id": "GEfMlrwfrVj1"
      }
    },
    {
      "cell_type": "markdown",
      "source": [
        "## Using Cross Validation:\n",
        "\n"
      ],
      "metadata": {
        "id": "E0SKhn8Tr81f"
      }
    },
    {
      "cell_type": "markdown",
      "source": [
        "Cross-validation involves dividing the data set into multiple segments and training and testing the model on these segments iteratively. This will help us get a more accurate estimate of the model's performance on unseen data, compared to simply training and testing with a single test data set."
      ],
      "metadata": {
        "id": "upYSKMWr38gl"
      }
    },
    {
      "cell_type": "code",
      "source": [
        "r2_scores = cross_val_score(model_lr, X, y, cv=5, scoring='r2')"
      ],
      "metadata": {
        "id": "WAcEQOC9sOiC"
      },
      "execution_count": 21,
      "outputs": []
    },
    {
      "cell_type": "code",
      "source": [
        "average_r2_score = np.mean(r2_scores)\n",
        "print(f\"Mean R^2: {average_r2_score}\")\n"
      ],
      "metadata": {
        "colab": {
          "base_uri": "https://localhost:8080/"
        },
        "id": "DUQAfggrszki",
        "outputId": "bff0e9f7-2a7a-4c9a-cb42-8e46725e8ee8"
      },
      "execution_count": 22,
      "outputs": [
        {
          "output_type": "stream",
          "name": "stdout",
          "text": [
            "Mean R^2: -1.083242973943078\n"
          ]
        }
      ]
    },
    {
      "cell_type": "markdown",
      "source": [
        "## Improve model performance"
      ],
      "metadata": {
        "id": "LisFittsulUz"
      }
    },
    {
      "cell_type": "markdown",
      "source": [
        "To try to improve the performance of the model, we will resort to normalizing the two predictor variables that we are using:"
      ],
      "metadata": {
        "id": "89EmN3nn1OmR"
      }
    },
    {
      "cell_type": "code",
      "source": [
        "min_max_scaler = MinMaxScaler()\n",
        "full_data[['price', 'z']] = min_max_scaler.fit_transform(full_data[['price', 'z']])"
      ],
      "metadata": {
        "id": "R-807gcz1zNa"
      },
      "execution_count": 23,
      "outputs": []
    },
    {
      "cell_type": "markdown",
      "source": [
        "We confirm that they have been correctly normalized"
      ],
      "metadata": {
        "id": "wG6FvE_22DAz"
      }
    },
    {
      "cell_type": "code",
      "source": [
        "stats_diamonds_mod = tfdv.generate_statistics_from_dataframe(full_data)"
      ],
      "metadata": {
        "id": "YwnWYmYX1_Zx"
      },
      "execution_count": 24,
      "outputs": []
    },
    {
      "cell_type": "code",
      "source": [
        "tfdv.visualize_statistics(stats_diamonds_mod)"
      ],
      "metadata": {
        "colab": {
          "base_uri": "https://localhost:8080/",
          "height": 1000
        },
        "id": "Qz1HSgVA2M0f",
        "outputId": "d85404f6-2eba-4271-9846-55fa2c080c74"
      },
      "execution_count": 25,
      "outputs": [
        {
          "output_type": "display_data",
          "data": {
            "text/plain": [
              "<IPython.core.display.HTML object>"
            ],
            "text/html": [
              "<iframe id='facets-iframe' width=\"100%\" height=\"500px\"></iframe>\n",
              "        <script>\n",
              "        facets_iframe = document.getElementById('facets-iframe');\n",
              "        facets_html = '<script src=\"https://cdnjs.cloudflare.com/ajax/libs/webcomponentsjs/1.3.3/webcomponents-lite.js\"><\\/script><link rel=\"import\" href=\"https://raw.githubusercontent.com/PAIR-code/facets/master/facets-dist/facets-jupyter.html\"><facets-overview proto-input=\"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\"></facets-overview>';\n",
              "        facets_iframe.srcdoc = facets_html;\n",
              "         facets_iframe.id = \"\";\n",
              "         setTimeout(() => {\n",
              "           facets_iframe.setAttribute('height', facets_iframe.contentWindow.document.body.offsetHeight + 'px')\n",
              "         }, 1500)\n",
              "         </script>"
            ]
          },
          "metadata": {}
        }
      ]
    },
    {
      "cell_type": "markdown",
      "source": [
        "\n",
        "We see that they have indeed been normalized, so now we can try training the model again:"
      ],
      "metadata": {
        "id": "60vaoD2_2g2d"
      }
    },
    {
      "cell_type": "code",
      "source": [
        "X = full_data[['price','z']]  # variables predictoras # X = full_data[['price', 'z']]\n",
        "y = full_data['carat']  # variable objetivo/ variable de respuesta\n",
        "\n",
        "X_train, X_test, y_train, y_test = train_test_split(X, y, test_size=0.2, random_state=1)\n",
        "\n",
        "r2_scores_mod = cross_val_score(model_lr, X, y, cv=5, scoring='r2')\n",
        "\n",
        "average_r2_score_mod = np.mean(r2_scores_mod)\n",
        "print(f\"Mean R^2 (linear regression): {average_r2_score_mod}\")\n"
      ],
      "metadata": {
        "colab": {
          "base_uri": "https://localhost:8080/"
        },
        "id": "2XPcYuhs2hVI",
        "outputId": "3d7dc766-bcf1-4132-f0c8-c71311a8832a"
      },
      "execution_count": 26,
      "outputs": [
        {
          "output_type": "stream",
          "name": "stdout",
          "text": [
            "Mean R^2 (linear regression): 0.7033492145229289\n"
          ]
        }
      ]
    },
    {
      "cell_type": "markdown",
      "source": [
        "## Ridge regression"
      ],
      "metadata": {
        "id": "a8uEjkgUYbKl"
      }
    },
    {
      "cell_type": "markdown",
      "source": [
        "Now, we let to try train with another model."
      ],
      "metadata": {
        "id": "mjOrvAM0YeSp"
      }
    },
    {
      "cell_type": "code",
      "source": [
        "# Ridge regression model\n",
        "model_ridge = Ridge(alpha=1.0)\n"
      ],
      "metadata": {
        "id": "GgAZ4TeS2_jA"
      },
      "execution_count": 27,
      "outputs": []
    },
    {
      "cell_type": "code",
      "source": [
        "# Apply cross validation\n",
        "r2_scores = cross_val_score(model_ridge, X, y, cv=5, scoring='r2')\n"
      ],
      "metadata": {
        "id": "4Fnal2Av8xO7"
      },
      "execution_count": 28,
      "outputs": []
    },
    {
      "cell_type": "code",
      "source": [
        "# Calculate mean R^2\n",
        "average_r2_score = np.mean(r2_scores)\n",
        "print(f\"Mean R^2 (ridge regression): {average_r2_score}\")\n"
      ],
      "metadata": {
        "colab": {
          "base_uri": "https://localhost:8080/"
        },
        "id": "Vb_b_zuu88QR",
        "outputId": "02b42fe8-6c9a-41b2-f991-9290831e51aa"
      },
      "execution_count": 29,
      "outputs": [
        {
          "output_type": "stream",
          "name": "stdout",
          "text": [
            "Mean R^2 (ridge regression): 0.7467314194982008\n"
          ]
        }
      ]
    },
    {
      "cell_type": "code",
      "source": [],
      "metadata": {
        "id": "5Vag_H2KYMLp"
      },
      "execution_count": 29,
      "outputs": []
    }
  ]
}